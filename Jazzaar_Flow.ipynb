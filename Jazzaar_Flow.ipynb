{
  "nbformat": 4,
  "nbformat_minor": 0,
  "metadata": {
    "colab": {
      "provenance": [],
      "authorship_tag": "ABX9TyME0up7FH1I3eRboFf7gBrs"
    },
    "kernelspec": {
      "name": "python3",
      "display_name": "Python 3"
    },
    "language_info": {
      "name": "python"
    }
  },
  "cells": [
    {
      "cell_type": "code",
      "execution_count": null,
      "metadata": {
        "id": "hmJbSKS3qxtm"
      },
      "outputs": [],
      "source": [
        "import pandas as pd\n",
        "import numpy as np\n",
        "import matplotlib.pyplot as plt\n",
        "import seaborn as sns\n",
        "import datetime"
      ]
    },
    {
      "cell_type": "code",
      "source": [
        "from pydrive.auth import GoogleAuth\n",
        "from pydrive.drive import GoogleDrive\n",
        "from google.colab import auth\n",
        "from oauth2client.client import GoogleCredentials\n",
        "\n",
        "auth.authenticate_user()\n",
        "gauth = GoogleAuth()\n",
        "gauth.credentials = GoogleCredentials.get_application_default()\n",
        "drive = GoogleDrive(gauth)"
      ],
      "metadata": {
        "id": "yr0nx1yDw4VH"
      },
      "execution_count": null,
      "outputs": []
    },
    {
      "cell_type": "code",
      "source": [
        "def DataLoader(link, name_of_file):\n",
        "  id = link.split(\"/\")[-2]\n",
        "  downloaded = drive.CreateFile({'id':id}) \n",
        "  downloaded.GetContentFile(name_of_file)\n",
        "  dataframe = pd.read_csv(name_of_file)\n",
        "  return dataframe\n",
        "\n",
        "link = 'https://drive.google.com/file/d/1A46FlopzRBsaLeq0-NawM5xRpcpxQ2I2/view?usp=sharing'\n",
        "name = 'user_sensor_data.csv'\n",
        "df_happimeter = DataLoader(link, name)"
      ],
      "metadata": {
        "colab": {
          "base_uri": "https://localhost:8080/"
        },
        "id": "S8BpMk17w7s8",
        "outputId": "9893cf93-65a6-474e-ec28-6aa7a06e7abd"
      },
      "execution_count": null,
      "outputs": [
        {
          "output_type": "stream",
          "name": "stderr",
          "text": [
            "/usr/local/lib/python3.7/dist-packages/ipykernel_launcher.py:10: DtypeWarning: Columns (14) have mixed types.Specify dtype option on import or set low_memory=False.\n",
            "  # Remove the CWD from sys.path while we load stuff.\n"
          ]
        }
      ]
    },
    {
      "cell_type": "code",
      "source": [
        "rehearsal_start_stamp = '3/9/22 17:49'\n",
        "rehearsal_end_stamp = '3/9/22 19:33'"
      ],
      "metadata": {
        "id": "0KnNPNMN1CRL"
      },
      "execution_count": null,
      "outputs": []
    },
    {
      "cell_type": "code",
      "source": [
        "drop_columns = ['id', 'sensor_data_v2_id', 'watch_battery_percentage','watch_app_version', 'phone_app_version', 'number_of_measures', 'stdDev', 'magnitude','quantile1', 'quantile2', 'quantile3', 'min', 'max']"
      ],
      "metadata": {
        "id": "bwMtVenn2C-7"
      },
      "execution_count": null,
      "outputs": []
    },
    {
      "cell_type": "code",
      "source": [
        "def segregate(df, start_stamp, end_stamp):\n",
        "  return df[(df['timestamp'] >= start_stamp) & (df['timestamp'] <= end_stamp)] \n",
        "\n",
        "df_rehearsal = segregate(df_happimeter, rehearsal_start_stamp, rehearsal_end_stamp)"
      ],
      "metadata": {
        "id": "eUDbe5Dh1BSA"
      },
      "execution_count": null,
      "outputs": []
    },
    {
      "cell_type": "code",
      "source": [
        "def drop(df, columns):\n",
        "  return df.drop(columns, axis = 1)\n",
        "\n",
        "df_rehearsal = drop(df_rehearsal, drop_columns)"
      ],
      "metadata": {
        "id": "XURCGg1b3NJY"
      },
      "execution_count": null,
      "outputs": []
    },
    {
      "cell_type": "code",
      "source": [
        "def drop_rows(df):\n",
        "  index_names = df[ (df['type'] == 'LocationLat') | (df['type'] == 'LocationLon') | (df['type'] == 'LocationAlt') | (df['type'] == 'Step') | (df['type'] == 'AccelerometerMagX') | (df['type'] == 'AccelerometerMagY') | (df['type'] == 'AccelerometerMagZ') | (df['type'] == 'VMC') | (df['type'] == 'ActivityStill') | (df['type'] == 'ActivityInCar') | (df['type'] == 'ActivityUnspecific') | (df['type'] == 'ActivityOnFoot') | (df['type'] == 'ActivityWalking') | (df['type'] == 'ActivityRunning') | (df['type'] == 'ActivityOnBicycle') | (df['type'] == 'HeartrateClean') | (df['type'] == 'Microphone') ].index\n",
        "  df.drop(index_names, inplace = True)\n",
        "  return df\n",
        "\n",
        "df_rehearsal = drop_rows(df_rehearsal)"
      ],
      "metadata": {
        "id": "jLeoCnPBdJGU"
      },
      "execution_count": null,
      "outputs": []
    },
    {
      "cell_type": "code",
      "source": [
        "def timeindex(df):\n",
        "  df['timestamp'] = pd.to_datetime(df['timestamp'])\n",
        "  df = df.set_index('timestamp')\n",
        "  return df\n",
        "\n",
        "df_rehearsal = timeindex(df_rehearsal)"
      ],
      "metadata": {
        "id": "4r4ynSamdRPZ"
      },
      "execution_count": null,
      "outputs": []
    },
    {
      "cell_type": "code",
      "source": [
        "df_rehearsal"
      ],
      "metadata": {
        "colab": {
          "base_uri": "https://localhost:8080/",
          "height": 455
        },
        "id": "kJ-hn5DMdT6g",
        "outputId": "d9266b08-66a9-438f-a1fc-56b6a80f92e5"
      },
      "execution_count": null,
      "outputs": [
        {
          "output_type": "execute_result",
          "data": {
            "text/plain": [
              "                     user_id            type    average\n",
              "timestamp                                              \n",
              "2022-03-09 17:49:00      420  AccelerometerX  -0.290018\n",
              "2022-03-09 17:49:00      420  AccelerometerY  -7.811824\n",
              "2022-03-09 17:49:00      420  AccelerometerZ  -5.559431\n",
              "2022-03-09 17:55:00      420  AccelerometerX  -1.552444\n",
              "2022-03-09 17:55:00      420  AccelerometerY  -7.680176\n",
              "...                      ...             ...        ...\n",
              "2022-03-09 19:25:00     2189  AccelerometerZ  -0.981384\n",
              "2022-03-09 19:33:00     2189  AccelerometerX   3.620439\n",
              "2022-03-09 19:33:00     2189  AccelerometerY  -8.015867\n",
              "2022-03-09 19:33:00     2189  AccelerometerZ  -1.154440\n",
              "2022-03-09 19:33:00     2189       Heartrate  86.673077\n",
              "\n",
              "[6122 rows x 3 columns]"
            ],
            "text/html": [
              "\n",
              "  <div id=\"df-5f1905a5-ad96-46d4-89e1-5c2040e727d8\">\n",
              "    <div class=\"colab-df-container\">\n",
              "      <div>\n",
              "<style scoped>\n",
              "    .dataframe tbody tr th:only-of-type {\n",
              "        vertical-align: middle;\n",
              "    }\n",
              "\n",
              "    .dataframe tbody tr th {\n",
              "        vertical-align: top;\n",
              "    }\n",
              "\n",
              "    .dataframe thead th {\n",
              "        text-align: right;\n",
              "    }\n",
              "</style>\n",
              "<table border=\"1\" class=\"dataframe\">\n",
              "  <thead>\n",
              "    <tr style=\"text-align: right;\">\n",
              "      <th></th>\n",
              "      <th>user_id</th>\n",
              "      <th>type</th>\n",
              "      <th>average</th>\n",
              "    </tr>\n",
              "    <tr>\n",
              "      <th>timestamp</th>\n",
              "      <th></th>\n",
              "      <th></th>\n",
              "      <th></th>\n",
              "    </tr>\n",
              "  </thead>\n",
              "  <tbody>\n",
              "    <tr>\n",
              "      <th>2022-03-09 17:49:00</th>\n",
              "      <td>420</td>\n",
              "      <td>AccelerometerX</td>\n",
              "      <td>-0.290018</td>\n",
              "    </tr>\n",
              "    <tr>\n",
              "      <th>2022-03-09 17:49:00</th>\n",
              "      <td>420</td>\n",
              "      <td>AccelerometerY</td>\n",
              "      <td>-7.811824</td>\n",
              "    </tr>\n",
              "    <tr>\n",
              "      <th>2022-03-09 17:49:00</th>\n",
              "      <td>420</td>\n",
              "      <td>AccelerometerZ</td>\n",
              "      <td>-5.559431</td>\n",
              "    </tr>\n",
              "    <tr>\n",
              "      <th>2022-03-09 17:55:00</th>\n",
              "      <td>420</td>\n",
              "      <td>AccelerometerX</td>\n",
              "      <td>-1.552444</td>\n",
              "    </tr>\n",
              "    <tr>\n",
              "      <th>2022-03-09 17:55:00</th>\n",
              "      <td>420</td>\n",
              "      <td>AccelerometerY</td>\n",
              "      <td>-7.680176</td>\n",
              "    </tr>\n",
              "    <tr>\n",
              "      <th>...</th>\n",
              "      <td>...</td>\n",
              "      <td>...</td>\n",
              "      <td>...</td>\n",
              "    </tr>\n",
              "    <tr>\n",
              "      <th>2022-03-09 19:25:00</th>\n",
              "      <td>2189</td>\n",
              "      <td>AccelerometerZ</td>\n",
              "      <td>-0.981384</td>\n",
              "    </tr>\n",
              "    <tr>\n",
              "      <th>2022-03-09 19:33:00</th>\n",
              "      <td>2189</td>\n",
              "      <td>AccelerometerX</td>\n",
              "      <td>3.620439</td>\n",
              "    </tr>\n",
              "    <tr>\n",
              "      <th>2022-03-09 19:33:00</th>\n",
              "      <td>2189</td>\n",
              "      <td>AccelerometerY</td>\n",
              "      <td>-8.015867</td>\n",
              "    </tr>\n",
              "    <tr>\n",
              "      <th>2022-03-09 19:33:00</th>\n",
              "      <td>2189</td>\n",
              "      <td>AccelerometerZ</td>\n",
              "      <td>-1.154440</td>\n",
              "    </tr>\n",
              "    <tr>\n",
              "      <th>2022-03-09 19:33:00</th>\n",
              "      <td>2189</td>\n",
              "      <td>Heartrate</td>\n",
              "      <td>86.673077</td>\n",
              "    </tr>\n",
              "  </tbody>\n",
              "</table>\n",
              "<p>6122 rows × 3 columns</p>\n",
              "</div>\n",
              "      <button class=\"colab-df-convert\" onclick=\"convertToInteractive('df-5f1905a5-ad96-46d4-89e1-5c2040e727d8')\"\n",
              "              title=\"Convert this dataframe to an interactive table.\"\n",
              "              style=\"display:none;\">\n",
              "        \n",
              "  <svg xmlns=\"http://www.w3.org/2000/svg\" height=\"24px\"viewBox=\"0 0 24 24\"\n",
              "       width=\"24px\">\n",
              "    <path d=\"M0 0h24v24H0V0z\" fill=\"none\"/>\n",
              "    <path d=\"M18.56 5.44l.94 2.06.94-2.06 2.06-.94-2.06-.94-.94-2.06-.94 2.06-2.06.94zm-11 1L8.5 8.5l.94-2.06 2.06-.94-2.06-.94L8.5 2.5l-.94 2.06-2.06.94zm10 10l.94 2.06.94-2.06 2.06-.94-2.06-.94-.94-2.06-.94 2.06-2.06.94z\"/><path d=\"M17.41 7.96l-1.37-1.37c-.4-.4-.92-.59-1.43-.59-.52 0-1.04.2-1.43.59L10.3 9.45l-7.72 7.72c-.78.78-.78 2.05 0 2.83L4 21.41c.39.39.9.59 1.41.59.51 0 1.02-.2 1.41-.59l7.78-7.78 2.81-2.81c.8-.78.8-2.07 0-2.86zM5.41 20L4 18.59l7.72-7.72 1.47 1.35L5.41 20z\"/>\n",
              "  </svg>\n",
              "      </button>\n",
              "      \n",
              "  <style>\n",
              "    .colab-df-container {\n",
              "      display:flex;\n",
              "      flex-wrap:wrap;\n",
              "      gap: 12px;\n",
              "    }\n",
              "\n",
              "    .colab-df-convert {\n",
              "      background-color: #E8F0FE;\n",
              "      border: none;\n",
              "      border-radius: 50%;\n",
              "      cursor: pointer;\n",
              "      display: none;\n",
              "      fill: #1967D2;\n",
              "      height: 32px;\n",
              "      padding: 0 0 0 0;\n",
              "      width: 32px;\n",
              "    }\n",
              "\n",
              "    .colab-df-convert:hover {\n",
              "      background-color: #E2EBFA;\n",
              "      box-shadow: 0px 1px 2px rgba(60, 64, 67, 0.3), 0px 1px 3px 1px rgba(60, 64, 67, 0.15);\n",
              "      fill: #174EA6;\n",
              "    }\n",
              "\n",
              "    [theme=dark] .colab-df-convert {\n",
              "      background-color: #3B4455;\n",
              "      fill: #D2E3FC;\n",
              "    }\n",
              "\n",
              "    [theme=dark] .colab-df-convert:hover {\n",
              "      background-color: #434B5C;\n",
              "      box-shadow: 0px 1px 3px 1px rgba(0, 0, 0, 0.15);\n",
              "      filter: drop-shadow(0px 1px 2px rgba(0, 0, 0, 0.3));\n",
              "      fill: #FFFFFF;\n",
              "    }\n",
              "  </style>\n",
              "\n",
              "      <script>\n",
              "        const buttonEl =\n",
              "          document.querySelector('#df-5f1905a5-ad96-46d4-89e1-5c2040e727d8 button.colab-df-convert');\n",
              "        buttonEl.style.display =\n",
              "          google.colab.kernel.accessAllowed ? 'block' : 'none';\n",
              "\n",
              "        async function convertToInteractive(key) {\n",
              "          const element = document.querySelector('#df-5f1905a5-ad96-46d4-89e1-5c2040e727d8');\n",
              "          const dataTable =\n",
              "            await google.colab.kernel.invokeFunction('convertToInteractive',\n",
              "                                                     [key], {});\n",
              "          if (!dataTable) return;\n",
              "\n",
              "          const docLinkHtml = 'Like what you see? Visit the ' +\n",
              "            '<a target=\"_blank\" href=https://colab.research.google.com/notebooks/data_table.ipynb>data table notebook</a>'\n",
              "            + ' to learn more about interactive tables.';\n",
              "          element.innerHTML = '';\n",
              "          dataTable['output_type'] = 'display_data';\n",
              "          await google.colab.output.renderOutput(dataTable, element);\n",
              "          const docLink = document.createElement('div');\n",
              "          docLink.innerHTML = docLinkHtml;\n",
              "          element.appendChild(docLink);\n",
              "        }\n",
              "      </script>\n",
              "    </div>\n",
              "  </div>\n",
              "  "
            ]
          },
          "metadata": {},
          "execution_count": 10
        }
      ]
    },
    {
      "cell_type": "code",
      "source": [
        "df_rehearsal.user_id.unique() "
      ],
      "metadata": {
        "colab": {
          "base_uri": "https://localhost:8080/"
        },
        "id": "gYe-ZpECf-dK",
        "outputId": "417895b2-7cb2-4d2e-f9d2-d3c4953c79aa"
      },
      "execution_count": null,
      "outputs": [
        {
          "output_type": "execute_result",
          "data": {
            "text/plain": [
              "array([ 420, 2190, 2191, 2193, 2192, 2194, 2195, 2197, 2196,  787,  974,\n",
              "        789,  788, 1144,  972,  894,  798,  799,  797,  796,  795, 2189])"
            ]
          },
          "metadata": {},
          "execution_count": 11
        }
      ]
    },
    {
      "cell_type": "code",
      "source": [
        "len(df_rehearsal.user_id.unique())"
      ],
      "metadata": {
        "colab": {
          "base_uri": "https://localhost:8080/"
        },
        "id": "vlqcKRomgEUa",
        "outputId": "14b7a379-3530-4684-cca4-7185671efc14"
      },
      "execution_count": null,
      "outputs": [
        {
          "output_type": "execute_result",
          "data": {
            "text/plain": [
              "22"
            ]
          },
          "metadata": {},
          "execution_count": 12
        }
      ]
    },
    {
      "cell_type": "code",
      "source": [
        "def UserAugment(userid, df):\n",
        "  df_user = df.loc[df['user_id'] == userid]\n",
        "  df_accx = df_user.loc[df_user['type'] == \"AccelerometerX\"]\n",
        "  df_accy = df_user.loc[df_user['type'] == \"AccelerometerY\"]\n",
        "  df_accz = df_user.loc[df_user['type'] == \"AccelerometerZ\"]\n",
        "  df_hr = df_user.loc[df_user['type'] == \"Heartrate\"]\n",
        "  df_user_new = df_accx.drop(['type'], axis=1)\n",
        "  df_user_new = df_user_new.rename(columns = {'average':'AccelerometerX'})\n",
        "  df_user_new = df_user_new.resample('S').mean()\n",
        "  df_user_new = df_user_new.interpolate(method ='polynomial', order=3)\n",
        "  df_accy = df_accy.resample('S').mean()\n",
        "  df_accy = df_accy.interpolate(method ='polynomial', order=3)\n",
        "  df_accz = df_accz.resample('S').mean()\n",
        "  df_accz = df_accz.interpolate(method ='polynomial', order=3)\n",
        "  df_hr = df_hr.resample('S').mean()\n",
        "  df_hr = df_hr.interpolate(method ='polynomial', order=3)\n",
        "  accelerometery = df_accy['average']\n",
        "  accelerometerz = df_accz['average']\n",
        "  heartrate = df_hr['average']\n",
        "  df_user_new['AccelerometerY'] = accelerometery\n",
        "  df_user_new['AccelerometerZ'] = accelerometerz\n",
        "  df_user_new['HeartRate'] = heartrate\n",
        "  return df_user_new"
      ],
      "metadata": {
        "id": "YBlXwr_7g_jn"
      },
      "execution_count": null,
      "outputs": []
    },
    {
      "cell_type": "code",
      "source": [
        "def AugmentUser(userid, dfproc):\n",
        "  df_final = dfproc.assign(Movement=lambda x: np.sqrt(x['AccelerometerX'] ** 2 + x['AccelerometerY'] ** 2 + x['AccelerometerZ'] ** 2))\n",
        "  df_final = df_final.drop(['AccelerometerX', 'AccelerometerY', 'AccelerometerZ'], axis=1)\n",
        "  df_final['user_id'] = userid\n",
        "  return df_final"
      ],
      "metadata": {
        "id": "ULzx0JaLyjxv"
      },
      "execution_count": null,
      "outputs": []
    },
    {
      "cell_type": "code",
      "source": [
        "df_2190_augment = UserAugment(2190, df_rehearsal)\n",
        "df_augment_2190 = AugmentUser(2190, df_2190_augment)"
      ],
      "metadata": {
        "id": "ZRko75cEGZWs"
      },
      "execution_count": null,
      "outputs": []
    },
    {
      "cell_type": "code",
      "source": [
        "df_augment_2190"
      ],
      "metadata": {
        "id": "duibPvBBGwqM",
        "outputId": "aa007e96-69bc-4b0d-88ce-68b4666f289f",
        "colab": {
          "base_uri": "https://localhost:8080/",
          "height": 455
        }
      },
      "execution_count": null,
      "outputs": [
        {
          "output_type": "execute_result",
          "data": {
            "text/plain": [
              "                     user_id  HeartRate  Movement\n",
              "timestamp                                        \n",
              "2022-03-09 17:49:00     2190  75.951389  8.338047\n",
              "2022-03-09 17:49:01     2190  77.188046  8.339104\n",
              "2022-03-09 17:49:02     2190  78.404818  8.341782\n",
              "2022-03-09 17:49:03     2190  79.601828  8.346005\n",
              "2022-03-09 17:49:04     2190  80.779196  8.351695\n",
              "...                      ...        ...       ...\n",
              "2022-03-09 19:32:56     2190  83.547344  9.158860\n",
              "2022-03-09 19:32:57     2190  83.251900  9.264597\n",
              "2022-03-09 19:32:58     2190  82.951312  9.376648\n",
              "2022-03-09 19:32:59     2190  82.645544  9.495128\n",
              "2022-03-09 19:33:00     2190  82.334559  9.620142\n",
              "\n",
              "[6241 rows x 3 columns]"
            ],
            "text/html": [
              "\n",
              "  <div id=\"df-ac83ede7-678c-4e00-8f50-8050134821ea\">\n",
              "    <div class=\"colab-df-container\">\n",
              "      <div>\n",
              "<style scoped>\n",
              "    .dataframe tbody tr th:only-of-type {\n",
              "        vertical-align: middle;\n",
              "    }\n",
              "\n",
              "    .dataframe tbody tr th {\n",
              "        vertical-align: top;\n",
              "    }\n",
              "\n",
              "    .dataframe thead th {\n",
              "        text-align: right;\n",
              "    }\n",
              "</style>\n",
              "<table border=\"1\" class=\"dataframe\">\n",
              "  <thead>\n",
              "    <tr style=\"text-align: right;\">\n",
              "      <th></th>\n",
              "      <th>user_id</th>\n",
              "      <th>HeartRate</th>\n",
              "      <th>Movement</th>\n",
              "    </tr>\n",
              "    <tr>\n",
              "      <th>timestamp</th>\n",
              "      <th></th>\n",
              "      <th></th>\n",
              "      <th></th>\n",
              "    </tr>\n",
              "  </thead>\n",
              "  <tbody>\n",
              "    <tr>\n",
              "      <th>2022-03-09 17:49:00</th>\n",
              "      <td>2190</td>\n",
              "      <td>75.951389</td>\n",
              "      <td>8.338047</td>\n",
              "    </tr>\n",
              "    <tr>\n",
              "      <th>2022-03-09 17:49:01</th>\n",
              "      <td>2190</td>\n",
              "      <td>77.188046</td>\n",
              "      <td>8.339104</td>\n",
              "    </tr>\n",
              "    <tr>\n",
              "      <th>2022-03-09 17:49:02</th>\n",
              "      <td>2190</td>\n",
              "      <td>78.404818</td>\n",
              "      <td>8.341782</td>\n",
              "    </tr>\n",
              "    <tr>\n",
              "      <th>2022-03-09 17:49:03</th>\n",
              "      <td>2190</td>\n",
              "      <td>79.601828</td>\n",
              "      <td>8.346005</td>\n",
              "    </tr>\n",
              "    <tr>\n",
              "      <th>2022-03-09 17:49:04</th>\n",
              "      <td>2190</td>\n",
              "      <td>80.779196</td>\n",
              "      <td>8.351695</td>\n",
              "    </tr>\n",
              "    <tr>\n",
              "      <th>...</th>\n",
              "      <td>...</td>\n",
              "      <td>...</td>\n",
              "      <td>...</td>\n",
              "    </tr>\n",
              "    <tr>\n",
              "      <th>2022-03-09 19:32:56</th>\n",
              "      <td>2190</td>\n",
              "      <td>83.547344</td>\n",
              "      <td>9.158860</td>\n",
              "    </tr>\n",
              "    <tr>\n",
              "      <th>2022-03-09 19:32:57</th>\n",
              "      <td>2190</td>\n",
              "      <td>83.251900</td>\n",
              "      <td>9.264597</td>\n",
              "    </tr>\n",
              "    <tr>\n",
              "      <th>2022-03-09 19:32:58</th>\n",
              "      <td>2190</td>\n",
              "      <td>82.951312</td>\n",
              "      <td>9.376648</td>\n",
              "    </tr>\n",
              "    <tr>\n",
              "      <th>2022-03-09 19:32:59</th>\n",
              "      <td>2190</td>\n",
              "      <td>82.645544</td>\n",
              "      <td>9.495128</td>\n",
              "    </tr>\n",
              "    <tr>\n",
              "      <th>2022-03-09 19:33:00</th>\n",
              "      <td>2190</td>\n",
              "      <td>82.334559</td>\n",
              "      <td>9.620142</td>\n",
              "    </tr>\n",
              "  </tbody>\n",
              "</table>\n",
              "<p>6241 rows × 3 columns</p>\n",
              "</div>\n",
              "      <button class=\"colab-df-convert\" onclick=\"convertToInteractive('df-ac83ede7-678c-4e00-8f50-8050134821ea')\"\n",
              "              title=\"Convert this dataframe to an interactive table.\"\n",
              "              style=\"display:none;\">\n",
              "        \n",
              "  <svg xmlns=\"http://www.w3.org/2000/svg\" height=\"24px\"viewBox=\"0 0 24 24\"\n",
              "       width=\"24px\">\n",
              "    <path d=\"M0 0h24v24H0V0z\" fill=\"none\"/>\n",
              "    <path d=\"M18.56 5.44l.94 2.06.94-2.06 2.06-.94-2.06-.94-.94-2.06-.94 2.06-2.06.94zm-11 1L8.5 8.5l.94-2.06 2.06-.94-2.06-.94L8.5 2.5l-.94 2.06-2.06.94zm10 10l.94 2.06.94-2.06 2.06-.94-2.06-.94-.94-2.06-.94 2.06-2.06.94z\"/><path d=\"M17.41 7.96l-1.37-1.37c-.4-.4-.92-.59-1.43-.59-.52 0-1.04.2-1.43.59L10.3 9.45l-7.72 7.72c-.78.78-.78 2.05 0 2.83L4 21.41c.39.39.9.59 1.41.59.51 0 1.02-.2 1.41-.59l7.78-7.78 2.81-2.81c.8-.78.8-2.07 0-2.86zM5.41 20L4 18.59l7.72-7.72 1.47 1.35L5.41 20z\"/>\n",
              "  </svg>\n",
              "      </button>\n",
              "      \n",
              "  <style>\n",
              "    .colab-df-container {\n",
              "      display:flex;\n",
              "      flex-wrap:wrap;\n",
              "      gap: 12px;\n",
              "    }\n",
              "\n",
              "    .colab-df-convert {\n",
              "      background-color: #E8F0FE;\n",
              "      border: none;\n",
              "      border-radius: 50%;\n",
              "      cursor: pointer;\n",
              "      display: none;\n",
              "      fill: #1967D2;\n",
              "      height: 32px;\n",
              "      padding: 0 0 0 0;\n",
              "      width: 32px;\n",
              "    }\n",
              "\n",
              "    .colab-df-convert:hover {\n",
              "      background-color: #E2EBFA;\n",
              "      box-shadow: 0px 1px 2px rgba(60, 64, 67, 0.3), 0px 1px 3px 1px rgba(60, 64, 67, 0.15);\n",
              "      fill: #174EA6;\n",
              "    }\n",
              "\n",
              "    [theme=dark] .colab-df-convert {\n",
              "      background-color: #3B4455;\n",
              "      fill: #D2E3FC;\n",
              "    }\n",
              "\n",
              "    [theme=dark] .colab-df-convert:hover {\n",
              "      background-color: #434B5C;\n",
              "      box-shadow: 0px 1px 3px 1px rgba(0, 0, 0, 0.15);\n",
              "      filter: drop-shadow(0px 1px 2px rgba(0, 0, 0, 0.3));\n",
              "      fill: #FFFFFF;\n",
              "    }\n",
              "  </style>\n",
              "\n",
              "      <script>\n",
              "        const buttonEl =\n",
              "          document.querySelector('#df-ac83ede7-678c-4e00-8f50-8050134821ea button.colab-df-convert');\n",
              "        buttonEl.style.display =\n",
              "          google.colab.kernel.accessAllowed ? 'block' : 'none';\n",
              "\n",
              "        async function convertToInteractive(key) {\n",
              "          const element = document.querySelector('#df-ac83ede7-678c-4e00-8f50-8050134821ea');\n",
              "          const dataTable =\n",
              "            await google.colab.kernel.invokeFunction('convertToInteractive',\n",
              "                                                     [key], {});\n",
              "          if (!dataTable) return;\n",
              "\n",
              "          const docLinkHtml = 'Like what you see? Visit the ' +\n",
              "            '<a target=\"_blank\" href=https://colab.research.google.com/notebooks/data_table.ipynb>data table notebook</a>'\n",
              "            + ' to learn more about interactive tables.';\n",
              "          element.innerHTML = '';\n",
              "          dataTable['output_type'] = 'display_data';\n",
              "          await google.colab.output.renderOutput(dataTable, element);\n",
              "          const docLink = document.createElement('div');\n",
              "          docLink.innerHTML = docLinkHtml;\n",
              "          element.appendChild(docLink);\n",
              "        }\n",
              "      </script>\n",
              "    </div>\n",
              "  </div>\n",
              "  "
            ]
          },
          "metadata": {},
          "execution_count": 16
        }
      ]
    },
    {
      "cell_type": "code",
      "source": [
        "def getFlow(userid, maindf):\n",
        "  df_user_augment = UserAugment(userid, maindf)\n",
        "  df_augment_user = AugmentUser(userid, df_user_augment)\n",
        "  df_user_per_min = df_augment_user.resample('300S').mean()\n",
        "  df_5_min = df_user_per_min\n",
        "  df_1_min = df_5_min.resample('S').mean()\n",
        "  df_1_min = df_1_min.interpolate(method ='polynomial', order=3)\n",
        "  df_1_min[\"Flow\"] = df_1_min[\"Movement\"].diff()\n",
        "  df_1_min['Flow'] = df_1_min['Flow'].abs()\n",
        "  return df_1_min"
      ],
      "metadata": {
        "id": "GdX9OihPVtTL"
      },
      "execution_count": null,
      "outputs": []
    },
    {
      "cell_type": "markdown",
      "source": [
        "##Flow of Jazz Musicians"
      ],
      "metadata": {
        "id": "gN16wWXQfRJC"
      }
    },
    {
      "cell_type": "markdown",
      "source": [
        "Segregation of Jazz Musicians \n",
        "\n",
        "*   420 - Audience\n",
        "*   2190 - Drums\n",
        "*   2191 - Trumpet\n",
        "*   2193 - Audience\n",
        "*   2192 - Clarinet\n",
        "*   2194 - Vocals\n",
        "*   2195 - Conductor\n",
        "*   2197 - Audience\n",
        "*   2196 - Drums\n",
        "*   787 - Drums \n",
        "*   974 - Saxophone\n",
        "*   789 -  Saxophone\n",
        "*   788 - Bass \n",
        "*   1144 - Saxophone\n",
        "*   972 - Piano\n",
        "*   894 - Vocals \n",
        "*   798 - Vocals\n",
        "*   799 - Keyboard\n",
        "*   797 - Saxophone\n",
        "*   796 - Saxophone (star)\n",
        "*   795 - Saxophone\n",
        "*   2189 - Saxophone (star)\n"
      ],
      "metadata": {
        "id": "Elvez96Gg9FL"
      }
    },
    {
      "cell_type": "code",
      "source": [
        "df_420 = getFlow(420, df_rehearsal)\n",
        "df_2190 = getFlow(2190, df_rehearsal)\n",
        "df_2191 = getFlow(2191, df_rehearsal)\n",
        "df_2193 = getFlow(2193, df_rehearsal)\n",
        "df_2192 = getFlow(2192, df_rehearsal)\n",
        "df_2194 = getFlow(2194, df_rehearsal)\n",
        "df_2195 = getFlow(2195, df_rehearsal)\n",
        "df_2197 = getFlow(2197, df_rehearsal)\n",
        "df_2196 = getFlow(2196, df_rehearsal)\n",
        "df_787 = getFlow(787, df_rehearsal)\n",
        "df_974 = getFlow(974, df_rehearsal)\n",
        "df_789 = getFlow(789, df_rehearsal)\n",
        "df_788 = getFlow(788, df_rehearsal)\n",
        "df_1144 = getFlow(1144, df_rehearsal)\n",
        "df_972 = getFlow(972, df_rehearsal)\n",
        "df_894 = getFlow(894, df_rehearsal)\n",
        "df_798 = getFlow(798, df_rehearsal)\n",
        "df_799 = getFlow(799, df_rehearsal)\n",
        "df_797= getFlow(797, df_rehearsal)\n",
        "df_796 = getFlow(796, df_rehearsal)\n",
        "df_795 = getFlow(795, df_rehearsal)\n",
        "df_2189 = getFlow(2189, df_rehearsal)"
      ],
      "metadata": {
        "id": "XhGRSPYUXpQL"
      },
      "execution_count": null,
      "outputs": []
    },
    {
      "cell_type": "code",
      "source": [
        "df_1144"
      ],
      "metadata": {
        "colab": {
          "base_uri": "https://localhost:8080/",
          "height": 455
        },
        "id": "PE08IugmjwEd",
        "outputId": "7ff2b00a-c3a3-4f62-e434-deb02f0aeb3f"
      },
      "execution_count": null,
      "outputs": [
        {
          "output_type": "execute_result",
          "data": {
            "text/plain": [
              "                     user_id  HeartRate  Movement      Flow\n",
              "timestamp                                                  \n",
              "2022-03-09 17:45:00   1144.0  64.042925  9.323326       NaN\n",
              "2022-03-09 17:45:01   1144.0  64.196148  9.312226  0.011100\n",
              "2022-03-09 17:45:02   1144.0  64.348518  9.301201  0.011025\n",
              "2022-03-09 17:45:03   1144.0  64.500039  9.290250  0.010951\n",
              "2022-03-09 17:45:04   1144.0  64.650712  9.279374  0.010876\n",
              "...                      ...        ...       ...       ...\n",
              "2022-03-09 19:29:56   1144.0  72.954209  8.550053  0.004798\n",
              "2022-03-09 19:29:57   1144.0  73.000072  8.554874  0.004821\n",
              "2022-03-09 19:29:58   1144.0  73.046145  8.559718  0.004844\n",
              "2022-03-09 19:29:59   1144.0  73.092429  8.564586  0.004867\n",
              "2022-03-09 19:30:00   1144.0  73.138924  8.569477  0.004891\n",
              "\n",
              "[6301 rows x 4 columns]"
            ],
            "text/html": [
              "\n",
              "  <div id=\"df-b6cbc51e-915c-421b-ab07-f8a86f0572eb\">\n",
              "    <div class=\"colab-df-container\">\n",
              "      <div>\n",
              "<style scoped>\n",
              "    .dataframe tbody tr th:only-of-type {\n",
              "        vertical-align: middle;\n",
              "    }\n",
              "\n",
              "    .dataframe tbody tr th {\n",
              "        vertical-align: top;\n",
              "    }\n",
              "\n",
              "    .dataframe thead th {\n",
              "        text-align: right;\n",
              "    }\n",
              "</style>\n",
              "<table border=\"1\" class=\"dataframe\">\n",
              "  <thead>\n",
              "    <tr style=\"text-align: right;\">\n",
              "      <th></th>\n",
              "      <th>user_id</th>\n",
              "      <th>HeartRate</th>\n",
              "      <th>Movement</th>\n",
              "      <th>Flow</th>\n",
              "    </tr>\n",
              "    <tr>\n",
              "      <th>timestamp</th>\n",
              "      <th></th>\n",
              "      <th></th>\n",
              "      <th></th>\n",
              "      <th></th>\n",
              "    </tr>\n",
              "  </thead>\n",
              "  <tbody>\n",
              "    <tr>\n",
              "      <th>2022-03-09 17:45:00</th>\n",
              "      <td>1144.0</td>\n",
              "      <td>64.042925</td>\n",
              "      <td>9.323326</td>\n",
              "      <td>NaN</td>\n",
              "    </tr>\n",
              "    <tr>\n",
              "      <th>2022-03-09 17:45:01</th>\n",
              "      <td>1144.0</td>\n",
              "      <td>64.196148</td>\n",
              "      <td>9.312226</td>\n",
              "      <td>0.011100</td>\n",
              "    </tr>\n",
              "    <tr>\n",
              "      <th>2022-03-09 17:45:02</th>\n",
              "      <td>1144.0</td>\n",
              "      <td>64.348518</td>\n",
              "      <td>9.301201</td>\n",
              "      <td>0.011025</td>\n",
              "    </tr>\n",
              "    <tr>\n",
              "      <th>2022-03-09 17:45:03</th>\n",
              "      <td>1144.0</td>\n",
              "      <td>64.500039</td>\n",
              "      <td>9.290250</td>\n",
              "      <td>0.010951</td>\n",
              "    </tr>\n",
              "    <tr>\n",
              "      <th>2022-03-09 17:45:04</th>\n",
              "      <td>1144.0</td>\n",
              "      <td>64.650712</td>\n",
              "      <td>9.279374</td>\n",
              "      <td>0.010876</td>\n",
              "    </tr>\n",
              "    <tr>\n",
              "      <th>...</th>\n",
              "      <td>...</td>\n",
              "      <td>...</td>\n",
              "      <td>...</td>\n",
              "      <td>...</td>\n",
              "    </tr>\n",
              "    <tr>\n",
              "      <th>2022-03-09 19:29:56</th>\n",
              "      <td>1144.0</td>\n",
              "      <td>72.954209</td>\n",
              "      <td>8.550053</td>\n",
              "      <td>0.004798</td>\n",
              "    </tr>\n",
              "    <tr>\n",
              "      <th>2022-03-09 19:29:57</th>\n",
              "      <td>1144.0</td>\n",
              "      <td>73.000072</td>\n",
              "      <td>8.554874</td>\n",
              "      <td>0.004821</td>\n",
              "    </tr>\n",
              "    <tr>\n",
              "      <th>2022-03-09 19:29:58</th>\n",
              "      <td>1144.0</td>\n",
              "      <td>73.046145</td>\n",
              "      <td>8.559718</td>\n",
              "      <td>0.004844</td>\n",
              "    </tr>\n",
              "    <tr>\n",
              "      <th>2022-03-09 19:29:59</th>\n",
              "      <td>1144.0</td>\n",
              "      <td>73.092429</td>\n",
              "      <td>8.564586</td>\n",
              "      <td>0.004867</td>\n",
              "    </tr>\n",
              "    <tr>\n",
              "      <th>2022-03-09 19:30:00</th>\n",
              "      <td>1144.0</td>\n",
              "      <td>73.138924</td>\n",
              "      <td>8.569477</td>\n",
              "      <td>0.004891</td>\n",
              "    </tr>\n",
              "  </tbody>\n",
              "</table>\n",
              "<p>6301 rows × 4 columns</p>\n",
              "</div>\n",
              "      <button class=\"colab-df-convert\" onclick=\"convertToInteractive('df-b6cbc51e-915c-421b-ab07-f8a86f0572eb')\"\n",
              "              title=\"Convert this dataframe to an interactive table.\"\n",
              "              style=\"display:none;\">\n",
              "        \n",
              "  <svg xmlns=\"http://www.w3.org/2000/svg\" height=\"24px\"viewBox=\"0 0 24 24\"\n",
              "       width=\"24px\">\n",
              "    <path d=\"M0 0h24v24H0V0z\" fill=\"none\"/>\n",
              "    <path d=\"M18.56 5.44l.94 2.06.94-2.06 2.06-.94-2.06-.94-.94-2.06-.94 2.06-2.06.94zm-11 1L8.5 8.5l.94-2.06 2.06-.94-2.06-.94L8.5 2.5l-.94 2.06-2.06.94zm10 10l.94 2.06.94-2.06 2.06-.94-2.06-.94-.94-2.06-.94 2.06-2.06.94z\"/><path d=\"M17.41 7.96l-1.37-1.37c-.4-.4-.92-.59-1.43-.59-.52 0-1.04.2-1.43.59L10.3 9.45l-7.72 7.72c-.78.78-.78 2.05 0 2.83L4 21.41c.39.39.9.59 1.41.59.51 0 1.02-.2 1.41-.59l7.78-7.78 2.81-2.81c.8-.78.8-2.07 0-2.86zM5.41 20L4 18.59l7.72-7.72 1.47 1.35L5.41 20z\"/>\n",
              "  </svg>\n",
              "      </button>\n",
              "      \n",
              "  <style>\n",
              "    .colab-df-container {\n",
              "      display:flex;\n",
              "      flex-wrap:wrap;\n",
              "      gap: 12px;\n",
              "    }\n",
              "\n",
              "    .colab-df-convert {\n",
              "      background-color: #E8F0FE;\n",
              "      border: none;\n",
              "      border-radius: 50%;\n",
              "      cursor: pointer;\n",
              "      display: none;\n",
              "      fill: #1967D2;\n",
              "      height: 32px;\n",
              "      padding: 0 0 0 0;\n",
              "      width: 32px;\n",
              "    }\n",
              "\n",
              "    .colab-df-convert:hover {\n",
              "      background-color: #E2EBFA;\n",
              "      box-shadow: 0px 1px 2px rgba(60, 64, 67, 0.3), 0px 1px 3px 1px rgba(60, 64, 67, 0.15);\n",
              "      fill: #174EA6;\n",
              "    }\n",
              "\n",
              "    [theme=dark] .colab-df-convert {\n",
              "      background-color: #3B4455;\n",
              "      fill: #D2E3FC;\n",
              "    }\n",
              "\n",
              "    [theme=dark] .colab-df-convert:hover {\n",
              "      background-color: #434B5C;\n",
              "      box-shadow: 0px 1px 3px 1px rgba(0, 0, 0, 0.15);\n",
              "      filter: drop-shadow(0px 1px 2px rgba(0, 0, 0, 0.3));\n",
              "      fill: #FFFFFF;\n",
              "    }\n",
              "  </style>\n",
              "\n",
              "      <script>\n",
              "        const buttonEl =\n",
              "          document.querySelector('#df-b6cbc51e-915c-421b-ab07-f8a86f0572eb button.colab-df-convert');\n",
              "        buttonEl.style.display =\n",
              "          google.colab.kernel.accessAllowed ? 'block' : 'none';\n",
              "\n",
              "        async function convertToInteractive(key) {\n",
              "          const element = document.querySelector('#df-b6cbc51e-915c-421b-ab07-f8a86f0572eb');\n",
              "          const dataTable =\n",
              "            await google.colab.kernel.invokeFunction('convertToInteractive',\n",
              "                                                     [key], {});\n",
              "          if (!dataTable) return;\n",
              "\n",
              "          const docLinkHtml = 'Like what you see? Visit the ' +\n",
              "            '<a target=\"_blank\" href=https://colab.research.google.com/notebooks/data_table.ipynb>data table notebook</a>'\n",
              "            + ' to learn more about interactive tables.';\n",
              "          element.innerHTML = '';\n",
              "          dataTable['output_type'] = 'display_data';\n",
              "          await google.colab.output.renderOutput(dataTable, element);\n",
              "          const docLink = document.createElement('div');\n",
              "          docLink.innerHTML = docLinkHtml;\n",
              "          element.appendChild(docLink);\n",
              "        }\n",
              "      </script>\n",
              "    </div>\n",
              "  </div>\n",
              "  "
            ]
          },
          "metadata": {},
          "execution_count": 19
        }
      ]
    },
    {
      "cell_type": "code",
      "source": [
        "# sns.lineplot(x=\"timestamp\", y=\"Flow\", data=df_420, label = \"420\")\n",
        "sns.lineplot(x=\"timestamp\", y=\"Flow\", data=df_2190, label = \"2190\")\n",
        "sns.lineplot(x=\"timestamp\", y=\"Flow\", data=df_2191, label = \"2191\")\n",
        "# sns.lineplot(x=\"timestamp\", y=\"Flow\", data=df_2193, label = \"2193\")\n",
        "sns.lineplot(x=\"timestamp\", y=\"Flow\", data=df_2192, label = \"2192\")\n",
        "sns.lineplot(x=\"timestamp\", y=\"Flow\", data=df_2194, label = \"2194\")\n",
        "sns.lineplot(x=\"timestamp\", y=\"Flow\", data=df_2195, label = \"2195\")\n",
        "sns.lineplot(x=\"timestamp\", y=\"Flow\", data=df_2197, label = \"2197\")\n",
        "sns.lineplot(x=\"timestamp\", y=\"Flow\", data=df_2196, label = \"2196\")\n",
        "sns.lineplot(x=\"timestamp\", y=\"Flow\", data=df_787, label = \"787\")\n",
        "sns.lineplot(x=\"timestamp\", y=\"Flow\", data=df_974, label = \"974\")\n",
        "sns.lineplot(x=\"timestamp\", y=\"Flow\", data=df_789, label = \"789\")\n",
        "# sns.lineplot(x=\"timestamp\", y=\"Flow\", data=df_788, label = \"788\")\n",
        "sns.lineplot(x=\"timestamp\", y=\"Flow\", data=df_1144, label = \"1144\")\n",
        "sns.lineplot(x=\"timestamp\", y=\"Flow\", data=df_972, label = \"972\")\n",
        "sns.lineplot(x=\"timestamp\", y=\"Flow\", data=df_894, label = \"894\")\n",
        "sns.lineplot(x=\"timestamp\", y=\"Flow\", data=df_798, label = \"798\")\n",
        "# sns.lineplot(x=\"timestamp\", y=\"Flow\", data=df_799, label = \"799\")\n",
        "sns.lineplot(x=\"timestamp\", y=\"Flow\", data=df_797, label = \"797\")\n",
        "sns.lineplot(x=\"timestamp\", y=\"Flow\", data=df_796, label = \"796\")\n",
        "sns.lineplot(x=\"timestamp\", y=\"Flow\", data=df_795, label = \"795\")\n",
        "sns.lineplot(x=\"timestamp\", y=\"Flow\", data=df_2189, label = \"2189\")\n",
        "plt.ylabel(\"Jazz Rehearsal : Flow of Musicians\")\n",
        "plt.xlabel(\"Time\")\n",
        "plt.show()"
      ],
      "metadata": {
        "colab": {
          "base_uri": "https://localhost:8080/",
          "height": 309
        },
        "id": "nWYQJA8FxMB5",
        "outputId": "2b35c4d7-c86d-4ff2-9de7-9627e5976c60"
      },
      "execution_count": null,
      "outputs": [
        {
          "output_type": "display_data",
          "data": {
            "text/plain": [
              "<Figure size 432x288 with 1 Axes>"
            ],
            "image/png": "[encoded data removed]"
          },
          "metadata": {
            "needs_background": "light"
          }
        }
      ]
    }
  ]
}