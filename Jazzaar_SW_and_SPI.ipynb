{
  "nbformat": 4,
  "nbformat_minor": 0,
  "metadata": {
    "colab": {
      "provenance": [],
      "authorship_tag": "ABX9TyMyNJzSPNUf5J0XztNTS1IT"
    },
    "kernelspec": {
      "name": "python3",
      "display_name": "Python 3"
    },
    "language_info": {
      "name": "python"
    }
  },
  "cells": [
    {
      "cell_type": "code",
      "source": [
        "import librosa\n",
        "import matplotlib.pyplot as plt\n",
        "import librosa.display\n",
        "import sklearn\n",
        "import numpy as np\n",
        "import pandas as pd\n",
        "import seaborn as sns\n",
        "from sklearn import preprocessing\n",
        "from scipy.io import wavfile\n",
        "from scipy.stats import pearsonr\n",
        "from pydrive.auth import GoogleAuth\n",
        "from pydrive.drive import GoogleDrive\n",
        "from google.colab import auth\n",
        "from oauth2client.client import GoogleCredentials\n",
        "from sklearn.preprocessing import MinMaxScaler"
      ],
      "metadata": {
        "id": "qEDpKPq-vwR5"
      },
      "execution_count": null,
      "outputs": []
    },
    {
      "cell_type": "markdown",
      "source": [
        "###Plant SpikerBox Data"
      ],
      "metadata": {
        "id": "q3cMpJra2THg"
      }
    },
    {
      "cell_type": "code",
      "source": [
        "auth.authenticate_user()\n",
        "gauth = GoogleAuth()\n",
        "gauth.credentials = GoogleCredentials.get_application_default()\n",
        "drive = GoogleDrive(gauth)"
      ],
      "metadata": {
        "id": "HqPY_fx4vzFH"
      },
      "execution_count": null,
      "outputs": []
    },
    {
      "cell_type": "code",
      "source": [
        "def DataLoader(link, name_of_file):\n",
        "  id = link.split(\"/\")[-2]\n",
        "  downloaded = drive.CreateFile({'id':id}) \n",
        "  downloaded.GetContentFile(name_of_file)\n",
        "  samplerate, data = wavfile.read(name_of_file)\n",
        "  return samplerate, data"
      ],
      "metadata": {
        "id": "LchQFNUAwAZ-"
      },
      "execution_count": null,
      "outputs": []
    },
    {
      "cell_type": "code",
      "source": [
        "link = 'https://drive.google.com/file/d/19cjRyyg5JSNwxe-jenWbR2oqeRMlHEnc/view?usp=sharing'\n",
        "name = 'spikerboxdata.wav'\n",
        "sr, data = DataLoader(link, name)"
      ],
      "metadata": {
        "id": "kl02IhScwEme"
      },
      "execution_count": null,
      "outputs": []
    },
    {
      "cell_type": "code",
      "execution_count": null,
      "metadata": {
        "colab": {
          "base_uri": "https://localhost:8080/"
        },
        "id": "BqTjT6pFez9Q",
        "outputId": "bd254db5-30b2-4a95-9520-afedcd15bf7b"
      },
      "outputs": [
        {
          "output_type": "stream",
          "name": "stdout",
          "text": [
            "Length -> 4:23:06 (h,m,s) or 157,861,587 data points\n",
            "Sample rate -> 10,000 samples per sec, or 10.0 kHz\n"
          ]
        }
      ],
      "source": [
        "import datetime\n",
        "print('Length ->', str(datetime.timedelta(seconds=round(len(data)/sr))), '(h,m,s) or',\n",
        "      format(len(data),',d'), 'data points')\n",
        "print('Sample rate ->', format(sr,',d'), 'samples per sec, or',\n",
        "      sr/1000*1.00, 'kHz')"
      ]
    },
    {
      "cell_type": "code",
      "source": [
        "def DataLoaderLib(link, name_of_file):\n",
        "  id = link.split(\"/\")[-2]\n",
        "  downloaded = drive.CreateFile({'id':id}) \n",
        "  downloaded.GetContentFile(name_of_file)\n",
        "  x , sr = librosa.load(name_of_file, sr=10000)\n",
        "  return x, sr"
      ],
      "metadata": {
        "id": "1Wb6tvABu2dh"
      },
      "execution_count": null,
      "outputs": []
    },
    {
      "cell_type": "code",
      "source": [
        "xl, srl = DataLoaderLib(link, name)"
      ],
      "metadata": {
        "id": "Gx6kzu5ewapG"
      },
      "execution_count": null,
      "outputs": []
    },
    {
      "cell_type": "code",
      "source": [
        "def ComputeMFCC(data, samplerate, no_of_seconds):\n",
        "  x_short = data[:no_of_seconds]\n",
        "  mfcc = librosa.feature.mfcc(x_short, sr=samplerate, hop_length=2000, n_fft=2500, n_mfcc=8)\n",
        "  return mfcc\n",
        "\n",
        "mfccs = ComputeMFCC(xl, srl, 5757000)"
      ],
      "metadata": {
        "id": "2q7yMosIwx7E"
      },
      "execution_count": null,
      "outputs": []
    },
    {
      "cell_type": "code",
      "source": [
        "def SPIPrePro(mfcc_data):\n",
        "  mfcc_data_transpose = np.transpose(mfcc_data)\n",
        "  mfcc_df = pd.DataFrame(mfcc_data_transpose)\n",
        "  x = mfcc_df.values #returns a numpy array\n",
        "  min_max_scaler = preprocessing.MinMaxScaler()\n",
        "  x_scaled = min_max_scaler.fit_transform(x)\n",
        "  mfcc_df = pd.DataFrame(x_scaled)\n",
        "  mfcc_df.set_axis(['MFCC 1', 'MFCC 2', 'MFCC 3', 'MFCC 4', 'MFCC 5', 'MFCC 6', 'MFCC 7', 'MFCC 8'], axis='columns', inplace=True)\n",
        "  series = pd.date_range(start='2022-03-09 17:54:03', end='2022-03-09 19:30:00', freq='2S')\n",
        "  mfcc_df['timestamp'] = series\n",
        "  mfcc_df.set_index(\"timestamp\", inplace = True)\n",
        "  return mfcc_df\n",
        "\n",
        "mfcc_prepro = SPIPrePro(mfccs)"
      ],
      "metadata": {
        "id": "2nmTFRlDw7dY"
      },
      "execution_count": null,
      "outputs": []
    },
    {
      "cell_type": "code",
      "source": [
        "def SPIInterpolation(mfcc_preprocessed_data):\n",
        "  mfcc_resampled = mfcc_preprocessed_data.resample('60S').mean()\n",
        "  mfcc_df_spikerbox = mfcc_resampled\n",
        "  mfcc_df_spikerbox = mfcc_df_spikerbox.resample('S').mean()\n",
        "  jazz_mfccs = mfcc_df_spikerbox.interpolate(method ='polynomial', order=3)\n",
        "  return jazz_mfccs\n",
        "\n",
        "spi_jazz_rehearsal = SPIInterpolation(mfcc_prepro)"
      ],
      "metadata": {
        "id": "PBtOvIoUw_3n"
      },
      "execution_count": null,
      "outputs": []
    },
    {
      "cell_type": "code",
      "source": [
        "spi_jazz_rehearsal"
      ],
      "metadata": {
        "colab": {
          "base_uri": "https://localhost:8080/",
          "height": 455
        },
        "id": "NZJCSrNaCTuA",
        "outputId": "b690967e-c77b-496f-9db2-4b28e7b8fda2"
      },
      "execution_count": null,
      "outputs": [
        {
          "output_type": "execute_result",
          "data": {
            "text/plain": [
              "                       MFCC 1    MFCC 2    MFCC 3    MFCC 4    MFCC 5  \\\n",
              "timestamp                                                               \n",
              "2022-03-09 17:54:00  0.299310  0.642983  0.924750  0.868203  0.842421   \n",
              "2022-03-09 17:54:01  0.299162  0.642209  0.923871  0.868588  0.842883   \n",
              "2022-03-09 17:54:02  0.299017  0.641461  0.923026  0.868968  0.843336   \n",
              "2022-03-09 17:54:03  0.298877  0.640738  0.922213  0.869345  0.843779   \n",
              "2022-03-09 17:54:04  0.298742  0.640040  0.921433  0.869717  0.844213   \n",
              "...                       ...       ...       ...       ...       ...   \n",
              "2022-03-09 19:28:56  0.286433  0.623153  0.930009  0.895751  0.857226   \n",
              "2022-03-09 19:28:57  0.285112  0.621356  0.930430  0.896655  0.857264   \n",
              "2022-03-09 19:28:58  0.283786  0.619545  0.930842  0.897549  0.857276   \n",
              "2022-03-09 19:28:59  0.282454  0.617721  0.931246  0.898433  0.857260   \n",
              "2022-03-09 19:29:00  0.281118  0.615884  0.931641  0.899305  0.857217   \n",
              "\n",
              "                       MFCC 6    MFCC 7    MFCC 8  \n",
              "timestamp                                          \n",
              "2022-03-09 17:54:00  0.738736  0.673170  0.688342  \n",
              "2022-03-09 17:54:01  0.738640  0.673888  0.689141  \n",
              "2022-03-09 17:54:02  0.738547  0.674580  0.689911  \n",
              "2022-03-09 17:54:03  0.738459  0.675248  0.690652  \n",
              "2022-03-09 17:54:04  0.738374  0.675893  0.691363  \n",
              "...                       ...       ...       ...  \n",
              "2022-03-09 19:28:56  0.733746  0.676273  0.698048  \n",
              "2022-03-09 19:28:57  0.733820  0.676488  0.698278  \n",
              "2022-03-09 19:28:58  0.733872  0.676683  0.698485  \n",
              "2022-03-09 19:28:59  0.733902  0.676856  0.698668  \n",
              "2022-03-09 19:29:00  0.733909  0.677006  0.698826  \n",
              "\n",
              "[5701 rows x 8 columns]"
            ],
            "text/html": [
              "\n",
              "  <div id=\"df-5b22c815-adb7-479b-90f4-6e60add1b2a6\">\n",
              "    <div class=\"colab-df-container\">\n",
              "      <div>\n",
              "<style scoped>\n",
              "    .dataframe tbody tr th:only-of-type {\n",
              "        vertical-align: middle;\n",
              "    }\n",
              "\n",
              "    .dataframe tbody tr th {\n",
              "        vertical-align: top;\n",
              "    }\n",
              "\n",
              "    .dataframe thead th {\n",
              "        text-align: right;\n",
              "    }\n",
              "</style>\n",
              "<table border=\"1\" class=\"dataframe\">\n",
              "  <thead>\n",
              "    <tr style=\"text-align: right;\">\n",
              "      <th></th>\n",
              "      <th>MFCC 1</th>\n",
              "      <th>MFCC 2</th>\n",
              "      <th>MFCC 3</th>\n",
              "      <th>MFCC 4</th>\n",
              "      <th>MFCC 5</th>\n",
              "      <th>MFCC 6</th>\n",
              "      <th>MFCC 7</th>\n",
              "      <th>MFCC 8</th>\n",
              "    </tr>\n",
              "    <tr>\n",
              "      <th>timestamp</th>\n",
              "      <th></th>\n",
              "      <th></th>\n",
              "      <th></th>\n",
              "      <th></th>\n",
              "      <th></th>\n",
              "      <th></th>\n",
              "      <th></th>\n",
              "      <th></th>\n",
              "    </tr>\n",
              "  </thead>\n",
              "  <tbody>\n",
              "    <tr>\n",
              "      <th>2022-03-09 17:54:00</th>\n",
              "      <td>0.299310</td>\n",
              "      <td>0.642983</td>\n",
              "      <td>0.924750</td>\n",
              "      <td>0.868203</td>\n",
              "      <td>0.842421</td>\n",
              "      <td>0.738736</td>\n",
              "      <td>0.673170</td>\n",
              "      <td>0.688342</td>\n",
              "    </tr>\n",
              "    <tr>\n",
              "      <th>2022-03-09 17:54:01</th>\n",
              "      <td>0.299162</td>\n",
              "      <td>0.642209</td>\n",
              "      <td>0.923871</td>\n",
              "      <td>0.868588</td>\n",
              "      <td>0.842883</td>\n",
              "      <td>0.738640</td>\n",
              "      <td>0.673888</td>\n",
              "      <td>0.689141</td>\n",
              "    </tr>\n",
              "    <tr>\n",
              "      <th>2022-03-09 17:54:02</th>\n",
              "      <td>0.299017</td>\n",
              "      <td>0.641461</td>\n",
              "      <td>0.923026</td>\n",
              "      <td>0.868968</td>\n",
              "      <td>0.843336</td>\n",
              "      <td>0.738547</td>\n",
              "      <td>0.674580</td>\n",
              "      <td>0.689911</td>\n",
              "    </tr>\n",
              "    <tr>\n",
              "      <th>2022-03-09 17:54:03</th>\n",
              "      <td>0.298877</td>\n",
              "      <td>0.640738</td>\n",
              "      <td>0.922213</td>\n",
              "      <td>0.869345</td>\n",
              "      <td>0.843779</td>\n",
              "      <td>0.738459</td>\n",
              "      <td>0.675248</td>\n",
              "      <td>0.690652</td>\n",
              "    </tr>\n",
              "    <tr>\n",
              "      <th>2022-03-09 17:54:04</th>\n",
              "      <td>0.298742</td>\n",
              "      <td>0.640040</td>\n",
              "      <td>0.921433</td>\n",
              "      <td>0.869717</td>\n",
              "      <td>0.844213</td>\n",
              "      <td>0.738374</td>\n",
              "      <td>0.675893</td>\n",
              "      <td>0.691363</td>\n",
              "    </tr>\n",
              "    <tr>\n",
              "      <th>...</th>\n",
              "      <td>...</td>\n",
              "      <td>...</td>\n",
              "      <td>...</td>\n",
              "      <td>...</td>\n",
              "      <td>...</td>\n",
              "      <td>...</td>\n",
              "      <td>...</td>\n",
              "      <td>...</td>\n",
              "    </tr>\n",
              "    <tr>\n",
              "      <th>2022-03-09 19:28:56</th>\n",
              "      <td>0.286433</td>\n",
              "      <td>0.623153</td>\n",
              "      <td>0.930009</td>\n",
              "      <td>0.895751</td>\n",
              "      <td>0.857226</td>\n",
              "      <td>0.733746</td>\n",
              "      <td>0.676273</td>\n",
              "      <td>0.698048</td>\n",
              "    </tr>\n",
              "    <tr>\n",
              "      <th>2022-03-09 19:28:57</th>\n",
              "      <td>0.285112</td>\n",
              "      <td>0.621356</td>\n",
              "      <td>0.930430</td>\n",
              "      <td>0.896655</td>\n",
              "      <td>0.857264</td>\n",
              "      <td>0.733820</td>\n",
              "      <td>0.676488</td>\n",
              "      <td>0.698278</td>\n",
              "    </tr>\n",
              "    <tr>\n",
              "      <th>2022-03-09 19:28:58</th>\n",
              "      <td>0.283786</td>\n",
              "      <td>0.619545</td>\n",
              "      <td>0.930842</td>\n",
              "      <td>0.897549</td>\n",
              "      <td>0.857276</td>\n",
              "      <td>0.733872</td>\n",
              "      <td>0.676683</td>\n",
              "      <td>0.698485</td>\n",
              "    </tr>\n",
              "    <tr>\n",
              "      <th>2022-03-09 19:28:59</th>\n",
              "      <td>0.282454</td>\n",
              "      <td>0.617721</td>\n",
              "      <td>0.931246</td>\n",
              "      <td>0.898433</td>\n",
              "      <td>0.857260</td>\n",
              "      <td>0.733902</td>\n",
              "      <td>0.676856</td>\n",
              "      <td>0.698668</td>\n",
              "    </tr>\n",
              "    <tr>\n",
              "      <th>2022-03-09 19:29:00</th>\n",
              "      <td>0.281118</td>\n",
              "      <td>0.615884</td>\n",
              "      <td>0.931641</td>\n",
              "      <td>0.899305</td>\n",
              "      <td>0.857217</td>\n",
              "      <td>0.733909</td>\n",
              "      <td>0.677006</td>\n",
              "      <td>0.698826</td>\n",
              "    </tr>\n",
              "  </tbody>\n",
              "</table>\n",
              "<p>5701 rows × 8 columns</p>\n",
              "</div>\n",
              "      <button class=\"colab-df-convert\" onclick=\"convertToInteractive('df-5b22c815-adb7-479b-90f4-6e60add1b2a6')\"\n",
              "              title=\"Convert this dataframe to an interactive table.\"\n",
              "              style=\"display:none;\">\n",
              "        \n",
              "  <svg xmlns=\"http://www.w3.org/2000/svg\" height=\"24px\"viewBox=\"0 0 24 24\"\n",
              "       width=\"24px\">\n",
              "    <path d=\"M0 0h24v24H0V0z\" fill=\"none\"/>\n",
              "    <path d=\"M18.56 5.44l.94 2.06.94-2.06 2.06-.94-2.06-.94-.94-2.06-.94 2.06-2.06.94zm-11 1L8.5 8.5l.94-2.06 2.06-.94-2.06-.94L8.5 2.5l-.94 2.06-2.06.94zm10 10l.94 2.06.94-2.06 2.06-.94-2.06-.94-.94-2.06-.94 2.06-2.06.94z\"/><path d=\"M17.41 7.96l-1.37-1.37c-.4-.4-.92-.59-1.43-.59-.52 0-1.04.2-1.43.59L10.3 9.45l-7.72 7.72c-.78.78-.78 2.05 0 2.83L4 21.41c.39.39.9.59 1.41.59.51 0 1.02-.2 1.41-.59l7.78-7.78 2.81-2.81c.8-.78.8-2.07 0-2.86zM5.41 20L4 18.59l7.72-7.72 1.47 1.35L5.41 20z\"/>\n",
              "  </svg>\n",
              "      </button>\n",
              "      \n",
              "  <style>\n",
              "    .colab-df-container {\n",
              "      display:flex;\n",
              "      flex-wrap:wrap;\n",
              "      gap: 12px;\n",
              "    }\n",
              "\n",
              "    .colab-df-convert {\n",
              "      background-color: #E8F0FE;\n",
              "      border: none;\n",
              "      border-radius: 50%;\n",
              "      cursor: pointer;\n",
              "      display: none;\n",
              "      fill: #1967D2;\n",
              "      height: 32px;\n",
              "      padding: 0 0 0 0;\n",
              "      width: 32px;\n",
              "    }\n",
              "\n",
              "    .colab-df-convert:hover {\n",
              "      background-color: #E2EBFA;\n",
              "      box-shadow: 0px 1px 2px rgba(60, 64, 67, 0.3), 0px 1px 3px 1px rgba(60, 64, 67, 0.15);\n",
              "      fill: #174EA6;\n",
              "    }\n",
              "\n",
              "    [theme=dark] .colab-df-convert {\n",
              "      background-color: #3B4455;\n",
              "      fill: #D2E3FC;\n",
              "    }\n",
              "\n",
              "    [theme=dark] .colab-df-convert:hover {\n",
              "      background-color: #434B5C;\n",
              "      box-shadow: 0px 1px 3px 1px rgba(0, 0, 0, 0.15);\n",
              "      filter: drop-shadow(0px 1px 2px rgba(0, 0, 0, 0.3));\n",
              "      fill: #FFFFFF;\n",
              "    }\n",
              "  </style>\n",
              "\n",
              "      <script>\n",
              "        const buttonEl =\n",
              "          document.querySelector('#df-5b22c815-adb7-479b-90f4-6e60add1b2a6 button.colab-df-convert');\n",
              "        buttonEl.style.display =\n",
              "          google.colab.kernel.accessAllowed ? 'block' : 'none';\n",
              "\n",
              "        async function convertToInteractive(key) {\n",
              "          const element = document.querySelector('#df-5b22c815-adb7-479b-90f4-6e60add1b2a6');\n",
              "          const dataTable =\n",
              "            await google.colab.kernel.invokeFunction('convertToInteractive',\n",
              "                                                     [key], {});\n",
              "          if (!dataTable) return;\n",
              "\n",
              "          const docLinkHtml = 'Like what you see? Visit the ' +\n",
              "            '<a target=\"_blank\" href=https://colab.research.google.com/notebooks/data_table.ipynb>data table notebook</a>'\n",
              "            + ' to learn more about interactive tables.';\n",
              "          element.innerHTML = '';\n",
              "          dataTable['output_type'] = 'display_data';\n",
              "          await google.colab.output.renderOutput(dataTable, element);\n",
              "          const docLink = document.createElement('div');\n",
              "          docLink.innerHTML = docLinkHtml;\n",
              "          element.appendChild(docLink);\n",
              "        }\n",
              "      </script>\n",
              "    </div>\n",
              "  </div>\n",
              "  "
            ]
          },
          "metadata": {},
          "execution_count": 11
        }
      ]
    },
    {
      "cell_type": "code",
      "source": [
        "spi_jazz_rehearsal = spi_jazz_rehearsal.drop(['MFCC 1', 'MFCC 2', 'MFCC 3', 'MFCC 4', 'MFCC 5', 'MFCC 6', 'MFCC 8'], axis=1)"
      ],
      "metadata": {
        "id": "xgXt1Q-7LXa0"
      },
      "execution_count": null,
      "outputs": []
    },
    {
      "cell_type": "code",
      "source": [
        "spi_jazz_rehearsal.rename(columns = {'MFCC 7':'MFCC'}, inplace = True)"
      ],
      "metadata": {
        "id": "Hr7aoeBLL8Tp"
      },
      "execution_count": null,
      "outputs": []
    },
    {
      "cell_type": "markdown",
      "source": [
        "###Smartwatch Data"
      ],
      "metadata": {
        "id": "xTPm7M_M8My2"
      }
    },
    {
      "cell_type": "code",
      "source": [
        "def DataLoader(link, name_of_file):\n",
        "  id = link.split(\"/\")[-2]\n",
        "  downloaded = drive.CreateFile({'id':id}) \n",
        "  downloaded.GetContentFile(name_of_file)\n",
        "  dataframe = pd.read_csv(name_of_file)\n",
        "  return dataframe\n",
        "\n",
        "link = 'https://drive.google.com/file/d/1A46FlopzRBsaLeq0-NawM5xRpcpxQ2I2/view?usp=sharing'\n",
        "name = 'user_sensor_data.csv'\n",
        "df_happimeter = DataLoader(link, name)"
      ],
      "metadata": {
        "colab": {
          "base_uri": "https://localhost:8080/"
        },
        "id": "a9ANbk0u0XQj",
        "outputId": "ca2e4777-025b-4c7c-cb7c-5f94dc99f324"
      },
      "execution_count": null,
      "outputs": [
        {
          "output_type": "stream",
          "name": "stderr",
          "text": [
            "/usr/local/lib/python3.7/dist-packages/ipykernel_launcher.py:10: DtypeWarning: Columns (14) have mixed types.Specify dtype option on import or set low_memory=False.\n",
            "  # Remove the CWD from sys.path while we load stuff.\n"
          ]
        }
      ]
    },
    {
      "cell_type": "code",
      "source": [
        "rehearsal_start_stamp = '3/9/22 17:49'\n",
        "rehearsal_end_stamp = '3/9/22 19:33'"
      ],
      "metadata": {
        "id": "HwTouWXe81fN"
      },
      "execution_count": null,
      "outputs": []
    },
    {
      "cell_type": "code",
      "source": [
        "drop_columns = ['id', 'sensor_data_v2_id', 'watch_battery_percentage','watch_app_version', 'phone_app_version', 'number_of_measures', 'stdDev', 'magnitude','quantile1', 'quantile2', 'quantile3', 'min', 'max']"
      ],
      "metadata": {
        "id": "VBRmS21q87wg"
      },
      "execution_count": null,
      "outputs": []
    },
    {
      "cell_type": "code",
      "source": [
        "def segregate(df, start_stamp, end_stamp):\n",
        "  return df[(df['timestamp'] >= start_stamp) & (df['timestamp'] <= end_stamp)] \n",
        "\n",
        "df_rehearsal = segregate(df_happimeter, rehearsal_start_stamp, rehearsal_end_stamp)"
      ],
      "metadata": {
        "id": "35M-Yv8J88cY"
      },
      "execution_count": null,
      "outputs": []
    },
    {
      "cell_type": "code",
      "source": [
        "def drop(df, columns):\n",
        "  return df.drop(columns, axis = 1)\n",
        "\n",
        "df_rehearsal = drop(df_rehearsal, drop_columns)"
      ],
      "metadata": {
        "id": "AWCp7XHK9B2d"
      },
      "execution_count": null,
      "outputs": []
    },
    {
      "cell_type": "code",
      "source": [
        "def drop_rows(df):\n",
        "  index_names = df[ (df['type'] == 'LocationLat') | (df['type'] == 'LocationLon') | (df['type'] == 'LocationAlt') | (df['type'] == 'Step') | (df['type'] == 'AccelerometerMagX') | (df['type'] == 'AccelerometerMagY') | (df['type'] == 'AccelerometerMagZ') | (df['type'] == 'VMC') | (df['type'] == 'ActivityStill') | (df['type'] == 'ActivityInCar') | (df['type'] == 'ActivityUnspecific') | (df['type'] == 'ActivityOnFoot') | (df['type'] == 'ActivityWalking') | (df['type'] == 'ActivityRunning') | (df['type'] == 'ActivityOnBicycle') | (df['type'] == 'HeartrateClean') | (df['type'] == 'Microphone') ].index\n",
        "  df.drop(index_names, inplace = True)\n",
        "  return df\n",
        "\n",
        "df_rehearsal = drop_rows(df_rehearsal)"
      ],
      "metadata": {
        "id": "LPpWFtvL9Exl"
      },
      "execution_count": null,
      "outputs": []
    },
    {
      "cell_type": "code",
      "source": [
        "def timeindex(df):\n",
        "  df['timestamp'] = pd.to_datetime(df['timestamp'])\n",
        "  df = df.set_index('timestamp')\n",
        "  return df\n",
        "\n",
        "df_rehearsal = timeindex(df_rehearsal)"
      ],
      "metadata": {
        "id": "-gyjbFsx9K7-"
      },
      "execution_count": null,
      "outputs": []
    },
    {
      "cell_type": "code",
      "source": [
        "def UserAugment(userid, dfproc1):\n",
        "  df_user = dfproc1.loc[dfproc1['user_id'] == userid]\n",
        "  df_accx = df_user.loc[df_user['type'] == \"AccelerometerX\"]\n",
        "  df_accy = df_user.loc[df_user['type'] == \"AccelerometerY\"]\n",
        "  df_accz = df_user.loc[df_user['type'] == \"AccelerometerZ\"]\n",
        "  df_hr = df_user.loc[df_user['type'] == \"Heartrate\"]\n",
        "  df_user_new = df_accx.drop(['type'], axis=1)\n",
        "  df_user_new = df_user_new.rename(columns = {'average':'AccelerometerX'})\n",
        "  df_user_new = df_user_new.resample('S').mean()\n",
        "  df_user_new = df_user_new.interpolate(method ='polynomial', order=3)\n",
        "  df_accy = df_accy.resample('S').mean()\n",
        "  df_accy = df_accy.interpolate(method ='polynomial', order=3)\n",
        "  df_accz = df_accz.resample('S').mean()\n",
        "  df_accz = df_accz.interpolate(method ='polynomial', order=3)\n",
        "  df_hr = df_hr.resample('S').mean()\n",
        "  df_hr = df_hr.interpolate(method ='polynomial', order=3)\n",
        "  accelerometery = df_accy['average']\n",
        "  accelerometerz = df_accz['average']\n",
        "  heartrate = df_hr['average']\n",
        "  df_user_new['AccelerometerY'] = accelerometery\n",
        "  df_user_new['AccelerometerZ'] = accelerometerz\n",
        "  df_user_new['HeartRate'] = heartrate\n",
        "  return df_user_new"
      ],
      "metadata": {
        "id": "m1Hjfr2F9Q4E"
      },
      "execution_count": null,
      "outputs": []
    },
    {
      "cell_type": "code",
      "source": [
        "def AugmentUser(userid, dfproc2):\n",
        "  df_final = dfproc2.assign(Movement=lambda x: np.sqrt(x['AccelerometerX'] ** 2 + x['AccelerometerY'] ** 2 + x['AccelerometerZ'] ** 2))\n",
        "  df_final = df_final.drop(['AccelerometerX', 'AccelerometerY', 'AccelerometerZ'], axis=1)\n",
        "  df_final['user_id'] = userid\n",
        "  return df_final"
      ],
      "metadata": {
        "id": "D0qvUVfk9T4i"
      },
      "execution_count": null,
      "outputs": []
    },
    {
      "cell_type": "code",
      "source": [
        "def FinalUser(userid, df):\n",
        "  dfproc1 = UserAugment(userid, df)\n",
        "  dfproc2 = AugmentUser(userid, dfproc1)\n",
        "  dfproc2 = dfproc2[(dfproc2.index >= '2022-03-09 17:54:00') & (dfproc2.index <= '2022-03-09 19:28:30')]\n",
        "  dfproc2 = dfproc2.drop(['user_id'], axis=1)\n",
        "  dfproc2['HeartRate'] = MinMaxScaler().fit_transform(np.array(dfproc2['HeartRate']).reshape(-1,1))\n",
        "  dfproc2['Movement'] = MinMaxScaler().fit_transform(np.array(dfproc2['Movement']).reshape(-1,1))\n",
        "  dfproc2 = dfproc2.rename(columns = {'HeartRate':'HeartRate '+ str(userid), 'Movement':'Movement '+ str(userid)})\n",
        "  downsample = dfproc2.resample('60S').mean()\n",
        "  downsample_duplicate = downsample\n",
        "  upsample = downsample_duplicate.resample('S').mean()\n",
        "  df_userid = upsample.interpolate(method ='polynomial', order=3)\n",
        "  return df_userid"
      ],
      "metadata": {
        "id": "O_5bnxyx9W5s"
      },
      "execution_count": null,
      "outputs": []
    },
    {
      "cell_type": "code",
      "source": [
        "df_420 = FinalUser(420, df_rehearsal)\n",
        "df_2197 = FinalUser(2197, df_rehearsal)\n",
        "df_2193 = FinalUser(2193, df_rehearsal)\n",
        "df_2196 = FinalUser(2196, df_rehearsal)\n",
        "df_787 = FinalUser(787, df_rehearsal)\n",
        "df_2190 = FinalUser(2190, df_rehearsal)\n",
        "df_2194 = FinalUser(2194, df_rehearsal)\n",
        "df_894 = FinalUser(894, df_rehearsal)\n",
        "df_798 = FinalUser(798, df_rehearsal)\n",
        "df_974 = FinalUser(974, df_rehearsal)\n",
        "df_789 = FinalUser(789, df_rehearsal)\n",
        "df_1144 = FinalUser(1144, df_rehearsal)\n",
        "df_797 = FinalUser(797, df_rehearsal)\n",
        "df_796 = FinalUser(796, df_rehearsal)\n",
        "df_795 = FinalUser(795, df_rehearsal)\n",
        "df_2189 = FinalUser(2189, df_rehearsal)\n",
        "df_788 = FinalUser(788, df_rehearsal)\n",
        "df_972 = FinalUser(972, df_rehearsal)\n",
        "df_799 = FinalUser(799, df_rehearsal)\n",
        "df_2191 = FinalUser(2191, df_rehearsal)\n",
        "df_2192 = FinalUser(2192, df_rehearsal)"
      ],
      "metadata": {
        "colab": {
          "base_uri": "https://localhost:8080/"
        },
        "id": "cKZfkatD9b8q",
        "outputId": "8e8b2898-cb2d-4e73-aaac-ba47c6cf5b94"
      },
      "execution_count": null,
      "outputs": [
        {
          "output_type": "stream",
          "name": "stderr",
          "text": [
            "/usr/local/lib/python3.7/dist-packages/sklearn/preprocessing/_data.py:461: RuntimeWarning: All-NaN slice encountered\n",
            "  data_min = np.nanmin(X, axis=0)\n",
            "/usr/local/lib/python3.7/dist-packages/sklearn/preprocessing/_data.py:462: RuntimeWarning: All-NaN slice encountered\n",
            "  data_max = np.nanmax(X, axis=0)\n"
          ]
        }
      ]
    },
    {
      "cell_type": "code",
      "source": [
        "audience = [spi_jazz_rehearsal, df_2197, df_2193]\n",
        "drums = [spi_jazz_rehearsal, df_2196, df_787, df_2190]\n",
        "vocals = [spi_jazz_rehearsal, df_2194, df_894, df_798]\n",
        "saxophone = [spi_jazz_rehearsal, df_974, df_789, df_1144, df_797, df_795]\n",
        "sax_star = [spi_jazz_rehearsal, df_796, df_2189]"
      ],
      "metadata": {
        "id": "Wia1XiHGFn_A"
      },
      "execution_count": null,
      "outputs": []
    },
    {
      "cell_type": "code",
      "source": [
        "import functools as ft\n",
        "df_audience = ft.reduce(lambda left, right: pd.merge(left, right, on='timestamp'), audience)\n",
        "df_drums = ft.reduce(lambda left, right: pd.merge(left, right, on='timestamp'), drums)\n",
        "df_vocals = ft.reduce(lambda left, right: pd.merge(left, right, on='timestamp'), vocals)\n",
        "df_saxophone = ft.reduce(lambda left, right: pd.merge(left, right, on='timestamp'), saxophone)\n",
        "df_sax_star = ft.reduce(lambda left, right: pd.merge(left, right, on='timestamp'), sax_star)"
      ],
      "metadata": {
        "id": "1B5n91GLFrTF"
      },
      "execution_count": null,
      "outputs": []
    },
    {
      "cell_type": "code",
      "source": [
        "df_drums['MOV Avg Drums'] = df_drums[['Movement 2196', 'Movement 787', 'Movement 2190']].mean(axis=1)\n",
        "df_drums = df_drums.drop(['HeartRate 2196', 'HeartRate 787', 'HeartRate 2190', 'Movement 2196', 'Movement 787', 'Movement 2190'], axis=1)\n",
        "df_vocals['MOV Avg Vocals'] = df_vocals[['Movement 2194', 'Movement 894', 'Movement 798']].mean(axis=1)\n",
        "df_vocals = df_vocals.drop(['HeartRate 2194', 'HeartRate 894', 'HeartRate 798', 'Movement 2194', 'Movement 894', 'Movement 798'], axis=1)\n",
        "df_saxophone['MOV Avg Sax'] = df_saxophone[['Movement 974', 'Movement 789', 'Movement 1144', 'Movement 797', 'Movement 795']].mean(axis=1)\n",
        "df_saxophone = df_saxophone.drop(['HeartRate 974', 'HeartRate 789', 'HeartRate 1144', 'HeartRate 797', 'HeartRate 795','Movement 974', 'Movement 789', 'Movement 1144', 'Movement 797', 'Movement 795'], axis=1)\n",
        "df_sax_star['MOV Sax Stars'] = df_sax_star[['Movement 796', 'Movement 2189']].mean(axis=1)\n",
        "df_sax_star = df_sax_star.drop(['HeartRate 796', 'HeartRate 2189', 'Movement 796', 'Movement 2189'], axis=1)\n",
        "df_audience['MOV Avg Audi'] = df_audience[['Movement 2197', 'Movement 2193']].mean(axis=1)\n",
        "df_audience = df_audience.drop(['HeartRate 2197', 'HeartRate 2193', 'Movement 2197', 'Movement 2193'], axis=1)"
      ],
      "metadata": {
        "id": "K9VacYf2F4oZ"
      },
      "execution_count": null,
      "outputs": []
    },
    {
      "cell_type": "markdown",
      "source": [
        "###Correlations of Plant Data and Smartwatch Data "
      ],
      "metadata": {
        "id": "PkuopzwDMomP"
      }
    },
    {
      "cell_type": "markdown",
      "source": [
        "Drum Players"
      ],
      "metadata": {
        "id": "G__efufsNEdL"
      }
    },
    {
      "cell_type": "code",
      "source": [
        "df_drums.corr()"
      ],
      "metadata": {
        "colab": {
          "base_uri": "https://localhost:8080/",
          "height": 112
        },
        "id": "IGTUemO3H0Pt",
        "outputId": "b2b8747f-fb6e-489d-f384-ff65f068ae07"
      },
      "execution_count": null,
      "outputs": [
        {
          "output_type": "execute_result",
          "data": {
            "text/plain": [
              "                   MFCC  MOV Avg Drums\n",
              "MFCC           1.000000      -0.417648\n",
              "MOV Avg Drums -0.417648       1.000000"
            ],
            "text/html": [
              "\n",
              "  <div id=\"df-64990b47-16aa-43ad-9a91-f377a1752e8b\">\n",
              "    <div class=\"colab-df-container\">\n",
              "      <div>\n",
              "<style scoped>\n",
              "    .dataframe tbody tr th:only-of-type {\n",
              "        vertical-align: middle;\n",
              "    }\n",
              "\n",
              "    .dataframe tbody tr th {\n",
              "        vertical-align: top;\n",
              "    }\n",
              "\n",
              "    .dataframe thead th {\n",
              "        text-align: right;\n",
              "    }\n",
              "</style>\n",
              "<table border=\"1\" class=\"dataframe\">\n",
              "  <thead>\n",
              "    <tr style=\"text-align: right;\">\n",
              "      <th></th>\n",
              "      <th>MFCC</th>\n",
              "      <th>MOV Avg Drums</th>\n",
              "    </tr>\n",
              "  </thead>\n",
              "  <tbody>\n",
              "    <tr>\n",
              "      <th>MFCC</th>\n",
              "      <td>1.000000</td>\n",
              "      <td>-0.417648</td>\n",
              "    </tr>\n",
              "    <tr>\n",
              "      <th>MOV Avg Drums</th>\n",
              "      <td>-0.417648</td>\n",
              "      <td>1.000000</td>\n",
              "    </tr>\n",
              "  </tbody>\n",
              "</table>\n",
              "</div>\n",
              "      <button class=\"colab-df-convert\" onclick=\"convertToInteractive('df-64990b47-16aa-43ad-9a91-f377a1752e8b')\"\n",
              "              title=\"Convert this dataframe to an interactive table.\"\n",
              "              style=\"display:none;\">\n",
              "        \n",
              "  <svg xmlns=\"http://www.w3.org/2000/svg\" height=\"24px\"viewBox=\"0 0 24 24\"\n",
              "       width=\"24px\">\n",
              "    <path d=\"M0 0h24v24H0V0z\" fill=\"none\"/>\n",
              "    <path d=\"M18.56 5.44l.94 2.06.94-2.06 2.06-.94-2.06-.94-.94-2.06-.94 2.06-2.06.94zm-11 1L8.5 8.5l.94-2.06 2.06-.94-2.06-.94L8.5 2.5l-.94 2.06-2.06.94zm10 10l.94 2.06.94-2.06 2.06-.94-2.06-.94-.94-2.06-.94 2.06-2.06.94z\"/><path d=\"M17.41 7.96l-1.37-1.37c-.4-.4-.92-.59-1.43-.59-.52 0-1.04.2-1.43.59L10.3 9.45l-7.72 7.72c-.78.78-.78 2.05 0 2.83L4 21.41c.39.39.9.59 1.41.59.51 0 1.02-.2 1.41-.59l7.78-7.78 2.81-2.81c.8-.78.8-2.07 0-2.86zM5.41 20L4 18.59l7.72-7.72 1.47 1.35L5.41 20z\"/>\n",
              "  </svg>\n",
              "      </button>\n",
              "      \n",
              "  <style>\n",
              "    .colab-df-container {\n",
              "      display:flex;\n",
              "      flex-wrap:wrap;\n",
              "      gap: 12px;\n",
              "    }\n",
              "\n",
              "    .colab-df-convert {\n",
              "      background-color: #E8F0FE;\n",
              "      border: none;\n",
              "      border-radius: 50%;\n",
              "      cursor: pointer;\n",
              "      display: none;\n",
              "      fill: #1967D2;\n",
              "      height: 32px;\n",
              "      padding: 0 0 0 0;\n",
              "      width: 32px;\n",
              "    }\n",
              "\n",
              "    .colab-df-convert:hover {\n",
              "      background-color: #E2EBFA;\n",
              "      box-shadow: 0px 1px 2px rgba(60, 64, 67, 0.3), 0px 1px 3px 1px rgba(60, 64, 67, 0.15);\n",
              "      fill: #174EA6;\n",
              "    }\n",
              "\n",
              "    [theme=dark] .colab-df-convert {\n",
              "      background-color: #3B4455;\n",
              "      fill: #D2E3FC;\n",
              "    }\n",
              "\n",
              "    [theme=dark] .colab-df-convert:hover {\n",
              "      background-color: #434B5C;\n",
              "      box-shadow: 0px 1px 3px 1px rgba(0, 0, 0, 0.15);\n",
              "      filter: drop-shadow(0px 1px 2px rgba(0, 0, 0, 0.3));\n",
              "      fill: #FFFFFF;\n",
              "    }\n",
              "  </style>\n",
              "\n",
              "      <script>\n",
              "        const buttonEl =\n",
              "          document.querySelector('#df-64990b47-16aa-43ad-9a91-f377a1752e8b button.colab-df-convert');\n",
              "        buttonEl.style.display =\n",
              "          google.colab.kernel.accessAllowed ? 'block' : 'none';\n",
              "\n",
              "        async function convertToInteractive(key) {\n",
              "          const element = document.querySelector('#df-64990b47-16aa-43ad-9a91-f377a1752e8b');\n",
              "          const dataTable =\n",
              "            await google.colab.kernel.invokeFunction('convertToInteractive',\n",
              "                                                     [key], {});\n",
              "          if (!dataTable) return;\n",
              "\n",
              "          const docLinkHtml = 'Like what you see? Visit the ' +\n",
              "            '<a target=\"_blank\" href=https://colab.research.google.com/notebooks/data_table.ipynb>data table notebook</a>'\n",
              "            + ' to learn more about interactive tables.';\n",
              "          element.innerHTML = '';\n",
              "          dataTable['output_type'] = 'display_data';\n",
              "          await google.colab.output.renderOutput(dataTable, element);\n",
              "          const docLink = document.createElement('div');\n",
              "          docLink.innerHTML = docLinkHtml;\n",
              "          element.appendChild(docLink);\n",
              "        }\n",
              "      </script>\n",
              "    </div>\n",
              "  </div>\n",
              "  "
            ]
          },
          "metadata": {},
          "execution_count": 28
        }
      ]
    },
    {
      "cell_type": "code",
      "source": [
        "corr, sig = pearsonr(df_drums['MFCC'], df_drums['MOV Avg Drums'])\n",
        "print('Pearsons correlation: %.3f' %corr)\n",
        "print('Significance Value: %.3f' %sig)"
      ],
      "metadata": {
        "colab": {
          "base_uri": "https://localhost:8080/"
        },
        "id": "dGc1KtX4oMtq",
        "outputId": "71640169-bc9b-47b2-b398-1d1a8616bcd5"
      },
      "execution_count": null,
      "outputs": [
        {
          "output_type": "stream",
          "name": "stdout",
          "text": [
            "Pearsons correlation: -0.418\n",
            "Significance Value: 0.000\n"
          ]
        }
      ]
    },
    {
      "cell_type": "code",
      "source": [
        "mask = np.triu(np.ones_like(df_drums.corr().corr()))\n",
        "dataplot = sns.heatmap(df_drums.corr().corr(), cmap=\"YlGnBu\", annot=True, mask=mask)\n",
        "plt.show()"
      ],
      "metadata": {
        "colab": {
          "base_uri": "https://localhost:8080/",
          "height": 269
        },
        "id": "8uNUJPgZNGiY",
        "outputId": "af379b3d-95c6-4e49-a2b0-442c3fb55a9d"
      },
      "execution_count": null,
      "outputs": [
        {
          "output_type": "display_data",
          "data": {
            "text/plain": [
              "<Figure size 432x288 with 2 Axes>"
            ],
            "image/png": "[encoded data removed]"
          },
          "metadata": {
            "needs_background": "light"
          }
        }
      ]
    },
    {
      "cell_type": "code",
      "source": [
        "sns.lineplot(x=\"timestamp\", y=\"MFCC\", data=df_drums, label='MFCC')\n",
        "sns.lineplot(x=\"timestamp\", y=\"MOV Avg Drums\", data=df_drums, label='Avg Mov of Drum Players')\n",
        "\n",
        "plt.ylabel(\"Avg Mov of Drum Players X MFCCs\")\n",
        "plt.xlabel(\"Jazz Rehearsal\")\n",
        "plt.show()"
      ],
      "metadata": {
        "colab": {
          "base_uri": "https://localhost:8080/",
          "height": 279
        },
        "id": "J_jtlGq_0TVJ",
        "outputId": "72ae9d9b-0ece-436c-edff-e312bd5a8fb6"
      },
      "execution_count": null,
      "outputs": [
        {
          "output_type": "display_data",
          "data": {
            "text/plain": [
              "<Figure size 432x288 with 1 Axes>"
            ],
            "image/png": "[encoded data removed]"
          },
          "metadata": {
            "needs_background": "light"
          }
        }
      ]
    },
    {
      "cell_type": "markdown",
      "source": [
        "Vocal Singers"
      ],
      "metadata": {
        "id": "qLpLWz9JoeVC"
      }
    },
    {
      "cell_type": "code",
      "source": [
        "df_vocals.corr()"
      ],
      "metadata": {
        "colab": {
          "base_uri": "https://localhost:8080/",
          "height": 112
        },
        "id": "QJpZrSQJH_mS",
        "outputId": "ddbaab0a-1adb-4a19-df63-fb61779603e3"
      },
      "execution_count": null,
      "outputs": [
        {
          "output_type": "execute_result",
          "data": {
            "text/plain": [
              "                    MFCC  MOV Avg Vocals\n",
              "MFCC            1.000000       -0.653765\n",
              "MOV Avg Vocals -0.653765        1.000000"
            ],
            "text/html": [
              "\n",
              "  <div id=\"df-927c9368-2c3c-49c8-a75d-e502f4766ff6\">\n",
              "    <div class=\"colab-df-container\">\n",
              "      <div>\n",
              "<style scoped>\n",
              "    .dataframe tbody tr th:only-of-type {\n",
              "        vertical-align: middle;\n",
              "    }\n",
              "\n",
              "    .dataframe tbody tr th {\n",
              "        vertical-align: top;\n",
              "    }\n",
              "\n",
              "    .dataframe thead th {\n",
              "        text-align: right;\n",
              "    }\n",
              "</style>\n",
              "<table border=\"1\" class=\"dataframe\">\n",
              "  <thead>\n",
              "    <tr style=\"text-align: right;\">\n",
              "      <th></th>\n",
              "      <th>MFCC</th>\n",
              "      <th>MOV Avg Vocals</th>\n",
              "    </tr>\n",
              "  </thead>\n",
              "  <tbody>\n",
              "    <tr>\n",
              "      <th>MFCC</th>\n",
              "      <td>1.000000</td>\n",
              "      <td>-0.653765</td>\n",
              "    </tr>\n",
              "    <tr>\n",
              "      <th>MOV Avg Vocals</th>\n",
              "      <td>-0.653765</td>\n",
              "      <td>1.000000</td>\n",
              "    </tr>\n",
              "  </tbody>\n",
              "</table>\n",
              "</div>\n",
              "      <button class=\"colab-df-convert\" onclick=\"convertToInteractive('df-927c9368-2c3c-49c8-a75d-e502f4766ff6')\"\n",
              "              title=\"Convert this dataframe to an interactive table.\"\n",
              "              style=\"display:none;\">\n",
              "        \n",
              "  <svg xmlns=\"http://www.w3.org/2000/svg\" height=\"24px\"viewBox=\"0 0 24 24\"\n",
              "       width=\"24px\">\n",
              "    <path d=\"M0 0h24v24H0V0z\" fill=\"none\"/>\n",
              "    <path d=\"M18.56 5.44l.94 2.06.94-2.06 2.06-.94-2.06-.94-.94-2.06-.94 2.06-2.06.94zm-11 1L8.5 8.5l.94-2.06 2.06-.94-2.06-.94L8.5 2.5l-.94 2.06-2.06.94zm10 10l.94 2.06.94-2.06 2.06-.94-2.06-.94-.94-2.06-.94 2.06-2.06.94z\"/><path d=\"M17.41 7.96l-1.37-1.37c-.4-.4-.92-.59-1.43-.59-.52 0-1.04.2-1.43.59L10.3 9.45l-7.72 7.72c-.78.78-.78 2.05 0 2.83L4 21.41c.39.39.9.59 1.41.59.51 0 1.02-.2 1.41-.59l7.78-7.78 2.81-2.81c.8-.78.8-2.07 0-2.86zM5.41 20L4 18.59l7.72-7.72 1.47 1.35L5.41 20z\"/>\n",
              "  </svg>\n",
              "      </button>\n",
              "      \n",
              "  <style>\n",
              "    .colab-df-container {\n",
              "      display:flex;\n",
              "      flex-wrap:wrap;\n",
              "      gap: 12px;\n",
              "    }\n",
              "\n",
              "    .colab-df-convert {\n",
              "      background-color: #E8F0FE;\n",
              "      border: none;\n",
              "      border-radius: 50%;\n",
              "      cursor: pointer;\n",
              "      display: none;\n",
              "      fill: #1967D2;\n",
              "      height: 32px;\n",
              "      padding: 0 0 0 0;\n",
              "      width: 32px;\n",
              "    }\n",
              "\n",
              "    .colab-df-convert:hover {\n",
              "      background-color: #E2EBFA;\n",
              "      box-shadow: 0px 1px 2px rgba(60, 64, 67, 0.3), 0px 1px 3px 1px rgba(60, 64, 67, 0.15);\n",
              "      fill: #174EA6;\n",
              "    }\n",
              "\n",
              "    [theme=dark] .colab-df-convert {\n",
              "      background-color: #3B4455;\n",
              "      fill: #D2E3FC;\n",
              "    }\n",
              "\n",
              "    [theme=dark] .colab-df-convert:hover {\n",
              "      background-color: #434B5C;\n",
              "      box-shadow: 0px 1px 3px 1px rgba(0, 0, 0, 0.15);\n",
              "      filter: drop-shadow(0px 1px 2px rgba(0, 0, 0, 0.3));\n",
              "      fill: #FFFFFF;\n",
              "    }\n",
              "  </style>\n",
              "\n",
              "      <script>\n",
              "        const buttonEl =\n",
              "          document.querySelector('#df-927c9368-2c3c-49c8-a75d-e502f4766ff6 button.colab-df-convert');\n",
              "        buttonEl.style.display =\n",
              "          google.colab.kernel.accessAllowed ? 'block' : 'none';\n",
              "\n",
              "        async function convertToInteractive(key) {\n",
              "          const element = document.querySelector('#df-927c9368-2c3c-49c8-a75d-e502f4766ff6');\n",
              "          const dataTable =\n",
              "            await google.colab.kernel.invokeFunction('convertToInteractive',\n",
              "                                                     [key], {});\n",
              "          if (!dataTable) return;\n",
              "\n",
              "          const docLinkHtml = 'Like what you see? Visit the ' +\n",
              "            '<a target=\"_blank\" href=https://colab.research.google.com/notebooks/data_table.ipynb>data table notebook</a>'\n",
              "            + ' to learn more about interactive tables.';\n",
              "          element.innerHTML = '';\n",
              "          dataTable['output_type'] = 'display_data';\n",
              "          await google.colab.output.renderOutput(dataTable, element);\n",
              "          const docLink = document.createElement('div');\n",
              "          docLink.innerHTML = docLinkHtml;\n",
              "          element.appendChild(docLink);\n",
              "        }\n",
              "      </script>\n",
              "    </div>\n",
              "  </div>\n",
              "  "
            ]
          },
          "metadata": {},
          "execution_count": 32
        }
      ]
    },
    {
      "cell_type": "code",
      "source": [
        "mask = np.triu(np.ones_like(df_vocals.corr().corr()))\n",
        "dataplot = sns.heatmap(df_vocals.corr().corr(), cmap=\"YlGnBu\", annot=True, mask=mask)\n",
        "plt.show()"
      ],
      "metadata": {
        "id": "kbzfVmTxMn7X",
        "colab": {
          "base_uri": "https://localhost:8080/",
          "height": 269
        },
        "outputId": "12d05df2-70d4-4be0-cc03-59f4a26b96d1"
      },
      "execution_count": null,
      "outputs": [
        {
          "output_type": "display_data",
          "data": {
            "text/plain": [
              "<Figure size 432x288 with 2 Axes>"
            ],
            "image/png": "[encoded data removed]"
          },
          "metadata": {
            "needs_background": "light"
          }
        }
      ]
    },
    {
      "cell_type": "code",
      "source": [
        "corr, sig = pearsonr(df_vocals['MFCC'], df_vocals['MOV Avg Vocals'])\n",
        "print('Pearsons correlation: %.3f' %corr)\n",
        "print('Significance Value: %.3f' %sig)"
      ],
      "metadata": {
        "colab": {
          "base_uri": "https://localhost:8080/"
        },
        "id": "cy4-IVMcohx2",
        "outputId": "3e5deccf-e46f-4c00-910a-9a818875642b"
      },
      "execution_count": null,
      "outputs": [
        {
          "output_type": "stream",
          "name": "stdout",
          "text": [
            "Pearsons correlation: -0.654\n",
            "Significance Value: 0.000\n"
          ]
        }
      ]
    },
    {
      "cell_type": "code",
      "source": [
        "sns.lineplot(x=\"timestamp\", y=\"MFCC\", data=df_vocals, label='MFCC')\n",
        "sns.lineplot(x=\"timestamp\", y=\"MOV Avg Vocals\", data=df_vocals, label='Avg Mov of Vocal Singers')\n",
        "\n",
        "plt.ylabel(\"Avg Mov of Vocal Singers X MFCCs\")\n",
        "plt.xlabel(\"Jazz Rehearsal\")\n",
        "plt.show()"
      ],
      "metadata": {
        "colab": {
          "base_uri": "https://localhost:8080/",
          "height": 279
        },
        "id": "u_bJNSvc0rDB",
        "outputId": "e476d00c-1323-436d-eb3d-90faaf728bdf"
      },
      "execution_count": null,
      "outputs": [
        {
          "output_type": "display_data",
          "data": {
            "text/plain": [
              "<Figure size 432x288 with 1 Axes>"
            ],
            "image/png": "[encoded data removed]"
          },
          "metadata": {
            "needs_background": "light"
          }
        }
      ]
    },
    {
      "cell_type": "markdown",
      "source": [
        "Saxophone Players"
      ],
      "metadata": {
        "id": "SEu1oM1gl5Wb"
      }
    },
    {
      "cell_type": "code",
      "source": [
        "df_saxophone.corr()"
      ],
      "metadata": {
        "colab": {
          "base_uri": "https://localhost:8080/",
          "height": 112
        },
        "id": "1AWiQzlr03Wg",
        "outputId": "8d88fb27-c070-48cd-fc23-562924114876"
      },
      "execution_count": null,
      "outputs": [
        {
          "output_type": "execute_result",
          "data": {
            "text/plain": [
              "                 MFCC  MOV Avg Sax\n",
              "MFCC         1.000000     0.212273\n",
              "MOV Avg Sax  0.212273     1.000000"
            ],
            "text/html": [
              "\n",
              "  <div id=\"df-2711787c-152d-44c0-94d8-bce44f2100e9\">\n",
              "    <div class=\"colab-df-container\">\n",
              "      <div>\n",
              "<style scoped>\n",
              "    .dataframe tbody tr th:only-of-type {\n",
              "        vertical-align: middle;\n",
              "    }\n",
              "\n",
              "    .dataframe tbody tr th {\n",
              "        vertical-align: top;\n",
              "    }\n",
              "\n",
              "    .dataframe thead th {\n",
              "        text-align: right;\n",
              "    }\n",
              "</style>\n",
              "<table border=\"1\" class=\"dataframe\">\n",
              "  <thead>\n",
              "    <tr style=\"text-align: right;\">\n",
              "      <th></th>\n",
              "      <th>MFCC</th>\n",
              "      <th>MOV Avg Sax</th>\n",
              "    </tr>\n",
              "  </thead>\n",
              "  <tbody>\n",
              "    <tr>\n",
              "      <th>MFCC</th>\n",
              "      <td>1.000000</td>\n",
              "      <td>0.212273</td>\n",
              "    </tr>\n",
              "    <tr>\n",
              "      <th>MOV Avg Sax</th>\n",
              "      <td>0.212273</td>\n",
              "      <td>1.000000</td>\n",
              "    </tr>\n",
              "  </tbody>\n",
              "</table>\n",
              "</div>\n",
              "      <button class=\"colab-df-convert\" onclick=\"convertToInteractive('df-2711787c-152d-44c0-94d8-bce44f2100e9')\"\n",
              "              title=\"Convert this dataframe to an interactive table.\"\n",
              "              style=\"display:none;\">\n",
              "        \n",
              "  <svg xmlns=\"http://www.w3.org/2000/svg\" height=\"24px\"viewBox=\"0 0 24 24\"\n",
              "       width=\"24px\">\n",
              "    <path d=\"M0 0h24v24H0V0z\" fill=\"none\"/>\n",
              "    <path d=\"M18.56 5.44l.94 2.06.94-2.06 2.06-.94-2.06-.94-.94-2.06-.94 2.06-2.06.94zm-11 1L8.5 8.5l.94-2.06 2.06-.94-2.06-.94L8.5 2.5l-.94 2.06-2.06.94zm10 10l.94 2.06.94-2.06 2.06-.94-2.06-.94-.94-2.06-.94 2.06-2.06.94z\"/><path d=\"M17.41 7.96l-1.37-1.37c-.4-.4-.92-.59-1.43-.59-.52 0-1.04.2-1.43.59L10.3 9.45l-7.72 7.72c-.78.78-.78 2.05 0 2.83L4 21.41c.39.39.9.59 1.41.59.51 0 1.02-.2 1.41-.59l7.78-7.78 2.81-2.81c.8-.78.8-2.07 0-2.86zM5.41 20L4 18.59l7.72-7.72 1.47 1.35L5.41 20z\"/>\n",
              "  </svg>\n",
              "      </button>\n",
              "      \n",
              "  <style>\n",
              "    .colab-df-container {\n",
              "      display:flex;\n",
              "      flex-wrap:wrap;\n",
              "      gap: 12px;\n",
              "    }\n",
              "\n",
              "    .colab-df-convert {\n",
              "      background-color: #E8F0FE;\n",
              "      border: none;\n",
              "      border-radius: 50%;\n",
              "      cursor: pointer;\n",
              "      display: none;\n",
              "      fill: #1967D2;\n",
              "      height: 32px;\n",
              "      padding: 0 0 0 0;\n",
              "      width: 32px;\n",
              "    }\n",
              "\n",
              "    .colab-df-convert:hover {\n",
              "      background-color: #E2EBFA;\n",
              "      box-shadow: 0px 1px 2px rgba(60, 64, 67, 0.3), 0px 1px 3px 1px rgba(60, 64, 67, 0.15);\n",
              "      fill: #174EA6;\n",
              "    }\n",
              "\n",
              "    [theme=dark] .colab-df-convert {\n",
              "      background-color: #3B4455;\n",
              "      fill: #D2E3FC;\n",
              "    }\n",
              "\n",
              "    [theme=dark] .colab-df-convert:hover {\n",
              "      background-color: #434B5C;\n",
              "      box-shadow: 0px 1px 3px 1px rgba(0, 0, 0, 0.15);\n",
              "      filter: drop-shadow(0px 1px 2px rgba(0, 0, 0, 0.3));\n",
              "      fill: #FFFFFF;\n",
              "    }\n",
              "  </style>\n",
              "\n",
              "      <script>\n",
              "        const buttonEl =\n",
              "          document.querySelector('#df-2711787c-152d-44c0-94d8-bce44f2100e9 button.colab-df-convert');\n",
              "        buttonEl.style.display =\n",
              "          google.colab.kernel.accessAllowed ? 'block' : 'none';\n",
              "\n",
              "        async function convertToInteractive(key) {\n",
              "          const element = document.querySelector('#df-2711787c-152d-44c0-94d8-bce44f2100e9');\n",
              "          const dataTable =\n",
              "            await google.colab.kernel.invokeFunction('convertToInteractive',\n",
              "                                                     [key], {});\n",
              "          if (!dataTable) return;\n",
              "\n",
              "          const docLinkHtml = 'Like what you see? Visit the ' +\n",
              "            '<a target=\"_blank\" href=https://colab.research.google.com/notebooks/data_table.ipynb>data table notebook</a>'\n",
              "            + ' to learn more about interactive tables.';\n",
              "          element.innerHTML = '';\n",
              "          dataTable['output_type'] = 'display_data';\n",
              "          await google.colab.output.renderOutput(dataTable, element);\n",
              "          const docLink = document.createElement('div');\n",
              "          docLink.innerHTML = docLinkHtml;\n",
              "          element.appendChild(docLink);\n",
              "        }\n",
              "      </script>\n",
              "    </div>\n",
              "  </div>\n",
              "  "
            ]
          },
          "metadata": {},
          "execution_count": 36
        }
      ]
    },
    {
      "cell_type": "code",
      "source": [
        "mask = np.triu(np.ones_like(df_saxophone.corr().corr()))\n",
        "dataplot = sns.heatmap(df_saxophone.corr().corr(), cmap=\"YlGnBu\", annot=True, mask=mask)\n",
        "plt.show()"
      ],
      "metadata": {
        "colab": {
          "base_uri": "https://localhost:8080/",
          "height": 269
        },
        "id": "xHiFaGb3o0Hi",
        "outputId": "2fd58827-1e4a-4ed0-bac1-1f8317d81b4b"
      },
      "execution_count": null,
      "outputs": [
        {
          "output_type": "display_data",
          "data": {
            "text/plain": [
              "<Figure size 432x288 with 2 Axes>"
            ],
            "image/png": "[encoded data removed]"
          },
          "metadata": {
            "needs_background": "light"
          }
        }
      ]
    },
    {
      "cell_type": "code",
      "source": [
        "corr, sig = pearsonr(df_saxophone['MFCC'], df_saxophone['MOV Avg Sax'])\n",
        "print('Pearsons correlation: %.3f' %corr)\n",
        "print('Significance Value: %.3f' %sig)"
      ],
      "metadata": {
        "colab": {
          "base_uri": "https://localhost:8080/"
        },
        "id": "Ij7j3nk2o4-f",
        "outputId": "b6b66731-4301-431f-d6ad-48f26482c4fc"
      },
      "execution_count": null,
      "outputs": [
        {
          "output_type": "stream",
          "name": "stdout",
          "text": [
            "Pearsons correlation: 0.212\n",
            "Significance Value: 0.000\n"
          ]
        }
      ]
    },
    {
      "cell_type": "code",
      "source": [
        "sns.lineplot(x=\"timestamp\", y=\"MFCC\", data=df_saxophone, label='MFCC')\n",
        "sns.lineplot(x=\"timestamp\", y=\"MOV Avg Sax\", data=df_saxophone, label='Avg Mov of Saxophone Players')\n",
        "sns.lineplot(x=\"timestamp\", y=\"MOV Sax Stars\", data=df_sax_star, label='Avg Mov of Sax Stars')\n",
        "\n",
        "\n",
        "plt.ylabel(\"MFCCs X Sax\")\n",
        "plt.xlabel(\"Jazz Rehearsal\")\n",
        "plt.show()"
      ],
      "metadata": {
        "colab": {
          "base_uri": "https://localhost:8080/",
          "height": 279
        },
        "id": "1B4xpmxj1RN1",
        "outputId": "86f98660-1995-4dbe-8195-48a47c5ead22"
      },
      "execution_count": null,
      "outputs": [
        {
          "output_type": "display_data",
          "data": {
            "text/plain": [
              "<Figure size 432x288 with 1 Axes>"
            ],
            "image/png": "[encoded data removed]"
          },
          "metadata": {
            "needs_background": "light"
          }
        }
      ]
    },
    {
      "cell_type": "markdown",
      "source": [
        "Sax Stars"
      ],
      "metadata": {
        "id": "vdSiHy3-nh7I"
      }
    },
    {
      "cell_type": "code",
      "source": [
        "df_sax_star.corr()"
      ],
      "metadata": {
        "colab": {
          "base_uri": "https://localhost:8080/",
          "height": 112
        },
        "id": "y9p_QLoj09V2",
        "outputId": "548b34e4-7c7b-4015-da1e-b41643ee9670"
      },
      "execution_count": null,
      "outputs": [
        {
          "output_type": "execute_result",
          "data": {
            "text/plain": [
              "                   MFCC  MOV Sax Stars\n",
              "MFCC           1.000000      -0.285797\n",
              "MOV Sax Stars -0.285797       1.000000"
            ],
            "text/html": [
              "\n",
              "  <div id=\"df-b7d9fd1b-7ba6-402c-b4e6-5289983b490b\">\n",
              "    <div class=\"colab-df-container\">\n",
              "      <div>\n",
              "<style scoped>\n",
              "    .dataframe tbody tr th:only-of-type {\n",
              "        vertical-align: middle;\n",
              "    }\n",
              "\n",
              "    .dataframe tbody tr th {\n",
              "        vertical-align: top;\n",
              "    }\n",
              "\n",
              "    .dataframe thead th {\n",
              "        text-align: right;\n",
              "    }\n",
              "</style>\n",
              "<table border=\"1\" class=\"dataframe\">\n",
              "  <thead>\n",
              "    <tr style=\"text-align: right;\">\n",
              "      <th></th>\n",
              "      <th>MFCC</th>\n",
              "      <th>MOV Sax Stars</th>\n",
              "    </tr>\n",
              "  </thead>\n",
              "  <tbody>\n",
              "    <tr>\n",
              "      <th>MFCC</th>\n",
              "      <td>1.000000</td>\n",
              "      <td>-0.285797</td>\n",
              "    </tr>\n",
              "    <tr>\n",
              "      <th>MOV Sax Stars</th>\n",
              "      <td>-0.285797</td>\n",
              "      <td>1.000000</td>\n",
              "    </tr>\n",
              "  </tbody>\n",
              "</table>\n",
              "</div>\n",
              "      <button class=\"colab-df-convert\" onclick=\"convertToInteractive('df-b7d9fd1b-7ba6-402c-b4e6-5289983b490b')\"\n",
              "              title=\"Convert this dataframe to an interactive table.\"\n",
              "              style=\"display:none;\">\n",
              "        \n",
              "  <svg xmlns=\"http://www.w3.org/2000/svg\" height=\"24px\"viewBox=\"0 0 24 24\"\n",
              "       width=\"24px\">\n",
              "    <path d=\"M0 0h24v24H0V0z\" fill=\"none\"/>\n",
              "    <path d=\"M18.56 5.44l.94 2.06.94-2.06 2.06-.94-2.06-.94-.94-2.06-.94 2.06-2.06.94zm-11 1L8.5 8.5l.94-2.06 2.06-.94-2.06-.94L8.5 2.5l-.94 2.06-2.06.94zm10 10l.94 2.06.94-2.06 2.06-.94-2.06-.94-.94-2.06-.94 2.06-2.06.94z\"/><path d=\"M17.41 7.96l-1.37-1.37c-.4-.4-.92-.59-1.43-.59-.52 0-1.04.2-1.43.59L10.3 9.45l-7.72 7.72c-.78.78-.78 2.05 0 2.83L4 21.41c.39.39.9.59 1.41.59.51 0 1.02-.2 1.41-.59l7.78-7.78 2.81-2.81c.8-.78.8-2.07 0-2.86zM5.41 20L4 18.59l7.72-7.72 1.47 1.35L5.41 20z\"/>\n",
              "  </svg>\n",
              "      </button>\n",
              "      \n",
              "  <style>\n",
              "    .colab-df-container {\n",
              "      display:flex;\n",
              "      flex-wrap:wrap;\n",
              "      gap: 12px;\n",
              "    }\n",
              "\n",
              "    .colab-df-convert {\n",
              "      background-color: #E8F0FE;\n",
              "      border: none;\n",
              "      border-radius: 50%;\n",
              "      cursor: pointer;\n",
              "      display: none;\n",
              "      fill: #1967D2;\n",
              "      height: 32px;\n",
              "      padding: 0 0 0 0;\n",
              "      width: 32px;\n",
              "    }\n",
              "\n",
              "    .colab-df-convert:hover {\n",
              "      background-color: #E2EBFA;\n",
              "      box-shadow: 0px 1px 2px rgba(60, 64, 67, 0.3), 0px 1px 3px 1px rgba(60, 64, 67, 0.15);\n",
              "      fill: #174EA6;\n",
              "    }\n",
              "\n",
              "    [theme=dark] .colab-df-convert {\n",
              "      background-color: #3B4455;\n",
              "      fill: #D2E3FC;\n",
              "    }\n",
              "\n",
              "    [theme=dark] .colab-df-convert:hover {\n",
              "      background-color: #434B5C;\n",
              "      box-shadow: 0px 1px 3px 1px rgba(0, 0, 0, 0.15);\n",
              "      filter: drop-shadow(0px 1px 2px rgba(0, 0, 0, 0.3));\n",
              "      fill: #FFFFFF;\n",
              "    }\n",
              "  </style>\n",
              "\n",
              "      <script>\n",
              "        const buttonEl =\n",
              "          document.querySelector('#df-b7d9fd1b-7ba6-402c-b4e6-5289983b490b button.colab-df-convert');\n",
              "        buttonEl.style.display =\n",
              "          google.colab.kernel.accessAllowed ? 'block' : 'none';\n",
              "\n",
              "        async function convertToInteractive(key) {\n",
              "          const element = document.querySelector('#df-b7d9fd1b-7ba6-402c-b4e6-5289983b490b');\n",
              "          const dataTable =\n",
              "            await google.colab.kernel.invokeFunction('convertToInteractive',\n",
              "                                                     [key], {});\n",
              "          if (!dataTable) return;\n",
              "\n",
              "          const docLinkHtml = 'Like what you see? Visit the ' +\n",
              "            '<a target=\"_blank\" href=https://colab.research.google.com/notebooks/data_table.ipynb>data table notebook</a>'\n",
              "            + ' to learn more about interactive tables.';\n",
              "          element.innerHTML = '';\n",
              "          dataTable['output_type'] = 'display_data';\n",
              "          await google.colab.output.renderOutput(dataTable, element);\n",
              "          const docLink = document.createElement('div');\n",
              "          docLink.innerHTML = docLinkHtml;\n",
              "          element.appendChild(docLink);\n",
              "        }\n",
              "      </script>\n",
              "    </div>\n",
              "  </div>\n",
              "  "
            ]
          },
          "metadata": {},
          "execution_count": 40
        }
      ]
    },
    {
      "cell_type": "code",
      "source": [
        "corr, sig = pearsonr(df_sax_star['MFCC'], df_sax_star['MOV Sax Stars'])\n",
        "print('Pearsons correlation: %.3f' %corr)\n",
        "print('Significance Value: %.3f' %sig)"
      ],
      "metadata": {
        "colab": {
          "base_uri": "https://localhost:8080/"
        },
        "id": "aeYiQKQJpD4b",
        "outputId": "8f324268-67cf-49a9-97eb-d2b4ba25246a"
      },
      "execution_count": null,
      "outputs": [
        {
          "output_type": "stream",
          "name": "stdout",
          "text": [
            "Pearsons correlation: -0.286\n",
            "Significance Value: 0.000\n"
          ]
        }
      ]
    },
    {
      "cell_type": "markdown",
      "source": [
        "Audience "
      ],
      "metadata": {
        "id": "ILo0Cm-1nlQ3"
      }
    },
    {
      "cell_type": "code",
      "source": [
        "df_audience.corr()"
      ],
      "metadata": {
        "colab": {
          "base_uri": "https://localhost:8080/",
          "height": 112
        },
        "id": "HtF_o6X-1CYx",
        "outputId": "7f533981-9a8e-4c65-f735-79b496a394e2"
      },
      "execution_count": null,
      "outputs": [
        {
          "output_type": "execute_result",
          "data": {
            "text/plain": [
              "                  MFCC  MOV Avg Audi\n",
              "MFCC          1.000000     -0.000999\n",
              "MOV Avg Audi -0.000999      1.000000"
            ],
            "text/html": [
              "\n",
              "  <div id=\"df-96e28cf8-fa86-4604-9bba-5b96d82eb195\">\n",
              "    <div class=\"colab-df-container\">\n",
              "      <div>\n",
              "<style scoped>\n",
              "    .dataframe tbody tr th:only-of-type {\n",
              "        vertical-align: middle;\n",
              "    }\n",
              "\n",
              "    .dataframe tbody tr th {\n",
              "        vertical-align: top;\n",
              "    }\n",
              "\n",
              "    .dataframe thead th {\n",
              "        text-align: right;\n",
              "    }\n",
              "</style>\n",
              "<table border=\"1\" class=\"dataframe\">\n",
              "  <thead>\n",
              "    <tr style=\"text-align: right;\">\n",
              "      <th></th>\n",
              "      <th>MFCC</th>\n",
              "      <th>MOV Avg Audi</th>\n",
              "    </tr>\n",
              "  </thead>\n",
              "  <tbody>\n",
              "    <tr>\n",
              "      <th>MFCC</th>\n",
              "      <td>1.000000</td>\n",
              "      <td>-0.000999</td>\n",
              "    </tr>\n",
              "    <tr>\n",
              "      <th>MOV Avg Audi</th>\n",
              "      <td>-0.000999</td>\n",
              "      <td>1.000000</td>\n",
              "    </tr>\n",
              "  </tbody>\n",
              "</table>\n",
              "</div>\n",
              "      <button class=\"colab-df-convert\" onclick=\"convertToInteractive('df-96e28cf8-fa86-4604-9bba-5b96d82eb195')\"\n",
              "              title=\"Convert this dataframe to an interactive table.\"\n",
              "              style=\"display:none;\">\n",
              "        \n",
              "  <svg xmlns=\"http://www.w3.org/2000/svg\" height=\"24px\"viewBox=\"0 0 24 24\"\n",
              "       width=\"24px\">\n",
              "    <path d=\"M0 0h24v24H0V0z\" fill=\"none\"/>\n",
              "    <path d=\"M18.56 5.44l.94 2.06.94-2.06 2.06-.94-2.06-.94-.94-2.06-.94 2.06-2.06.94zm-11 1L8.5 8.5l.94-2.06 2.06-.94-2.06-.94L8.5 2.5l-.94 2.06-2.06.94zm10 10l.94 2.06.94-2.06 2.06-.94-2.06-.94-.94-2.06-.94 2.06-2.06.94z\"/><path d=\"M17.41 7.96l-1.37-1.37c-.4-.4-.92-.59-1.43-.59-.52 0-1.04.2-1.43.59L10.3 9.45l-7.72 7.72c-.78.78-.78 2.05 0 2.83L4 21.41c.39.39.9.59 1.41.59.51 0 1.02-.2 1.41-.59l7.78-7.78 2.81-2.81c.8-.78.8-2.07 0-2.86zM5.41 20L4 18.59l7.72-7.72 1.47 1.35L5.41 20z\"/>\n",
              "  </svg>\n",
              "      </button>\n",
              "      \n",
              "  <style>\n",
              "    .colab-df-container {\n",
              "      display:flex;\n",
              "      flex-wrap:wrap;\n",
              "      gap: 12px;\n",
              "    }\n",
              "\n",
              "    .colab-df-convert {\n",
              "      background-color: #E8F0FE;\n",
              "      border: none;\n",
              "      border-radius: 50%;\n",
              "      cursor: pointer;\n",
              "      display: none;\n",
              "      fill: #1967D2;\n",
              "      height: 32px;\n",
              "      padding: 0 0 0 0;\n",
              "      width: 32px;\n",
              "    }\n",
              "\n",
              "    .colab-df-convert:hover {\n",
              "      background-color: #E2EBFA;\n",
              "      box-shadow: 0px 1px 2px rgba(60, 64, 67, 0.3), 0px 1px 3px 1px rgba(60, 64, 67, 0.15);\n",
              "      fill: #174EA6;\n",
              "    }\n",
              "\n",
              "    [theme=dark] .colab-df-convert {\n",
              "      background-color: #3B4455;\n",
              "      fill: #D2E3FC;\n",
              "    }\n",
              "\n",
              "    [theme=dark] .colab-df-convert:hover {\n",
              "      background-color: #434B5C;\n",
              "      box-shadow: 0px 1px 3px 1px rgba(0, 0, 0, 0.15);\n",
              "      filter: drop-shadow(0px 1px 2px rgba(0, 0, 0, 0.3));\n",
              "      fill: #FFFFFF;\n",
              "    }\n",
              "  </style>\n",
              "\n",
              "      <script>\n",
              "        const buttonEl =\n",
              "          document.querySelector('#df-96e28cf8-fa86-4604-9bba-5b96d82eb195 button.colab-df-convert');\n",
              "        buttonEl.style.display =\n",
              "          google.colab.kernel.accessAllowed ? 'block' : 'none';\n",
              "\n",
              "        async function convertToInteractive(key) {\n",
              "          const element = document.querySelector('#df-96e28cf8-fa86-4604-9bba-5b96d82eb195');\n",
              "          const dataTable =\n",
              "            await google.colab.kernel.invokeFunction('convertToInteractive',\n",
              "                                                     [key], {});\n",
              "          if (!dataTable) return;\n",
              "\n",
              "          const docLinkHtml = 'Like what you see? Visit the ' +\n",
              "            '<a target=\"_blank\" href=https://colab.research.google.com/notebooks/data_table.ipynb>data table notebook</a>'\n",
              "            + ' to learn more about interactive tables.';\n",
              "          element.innerHTML = '';\n",
              "          dataTable['output_type'] = 'display_data';\n",
              "          await google.colab.output.renderOutput(dataTable, element);\n",
              "          const docLink = document.createElement('div');\n",
              "          docLink.innerHTML = docLinkHtml;\n",
              "          element.appendChild(docLink);\n",
              "        }\n",
              "      </script>\n",
              "    </div>\n",
              "  </div>\n",
              "  "
            ]
          },
          "metadata": {},
          "execution_count": 42
        }
      ]
    },
    {
      "cell_type": "code",
      "source": [
        "corr, sig = pearsonr(df_audience['MFCC'], df_audience['MOV Avg Audi'])\n",
        "print('Pearsons correlation: %.3f' %corr)\n",
        "print('Significance Value: %.3f' %sig)"
      ],
      "metadata": {
        "colab": {
          "base_uri": "https://localhost:8080/"
        },
        "id": "WR7ctowEgoYh",
        "outputId": "1aa15a91-2b88-48ef-8bc8-16c7fc4b696d"
      },
      "execution_count": null,
      "outputs": [
        {
          "output_type": "stream",
          "name": "stdout",
          "text": [
            "Pearsons correlation: -0.001\n",
            "Significance Value: 0.940\n"
          ]
        }
      ]
    }
  ]
}