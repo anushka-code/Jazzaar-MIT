{
  "nbformat": 4,
  "nbformat_minor": 0,
  "metadata": {
    "colab": {
      "provenance": [],
      "authorship_tag": "ABX9TyOaW3f52+Vc6pT2AQp98Xwv"
    },
    "kernelspec": {
      "name": "python3",
      "display_name": "Python 3"
    },
    "language_info": {
      "name": "python"
    },
    "accelerator": "GPU",
    "gpuClass": "standard"
  },
  "cells": [
    {
      "cell_type": "markdown",
      "source": [
        "###Dataset Loader"
      ],
      "metadata": {
        "id": "uejsiDTgEjan"
      }
    },
    {
      "cell_type": "code",
      "execution_count": null,
      "metadata": {
        "id": "J1ctpG1s48rb"
      },
      "outputs": [],
      "source": [
        "import pandas as pd"
      ]
    },
    {
      "cell_type": "code",
      "source": [
        "from pydrive.auth import GoogleAuth\n",
        "from pydrive.drive import GoogleDrive\n",
        "from google.colab import auth\n",
        "from oauth2client.client import GoogleCredentials\n",
        "\n",
        "auth.authenticate_user()\n",
        "gauth = GoogleAuth()\n",
        "gauth.credentials = GoogleCredentials.get_application_default()\n",
        "drive = GoogleDrive(gauth)"
      ],
      "metadata": {
        "id": "lZtt_4HnAMLf"
      },
      "execution_count": null,
      "outputs": []
    },
    {
      "cell_type": "code",
      "source": [
        "def DataLoader(link, name_of_file):\n",
        "  id = link.split(\"/\")[-2]\n",
        "  downloaded = drive.CreateFile({'id':id}) \n",
        "  downloaded.GetContentFile(name_of_file)\n",
        "  dataframe = pd.read_csv(name_of_file)\n",
        "  return dataframe"
      ],
      "metadata": {
        "id": "CabqnW-G_Li2"
      },
      "execution_count": null,
      "outputs": []
    },
    {
      "cell_type": "code",
      "source": [
        "link = 'https://drive.google.com/file/d/1sffgl4pndZQ8xniaK6biPbDxcD_08zTJ/view?usp=sharing'\n",
        "dataset = 'emo-bodysync-data.csv'\n",
        "\n",
        "df_jazz = DataLoader(link, dataset)"
      ],
      "metadata": {
        "id": "B94ZTL6VAXqh"
      },
      "execution_count": null,
      "outputs": []
    },
    {
      "cell_type": "code",
      "source": [
        "df_jazz.head(5)"
      ],
      "metadata": {
        "colab": {
          "base_uri": "https://localhost:8080/"
        },
        "id": "hJT3HTOYDhow",
        "outputId": "e1555202-55c1-4e6f-aece-d07c88248406"
      },
      "execution_count": null,
      "outputs": [
        {
          "output_type": "execute_result",
          "data": {
            "text/plain": [
              "   synchrony_neck_to_r_sho  synchrony_neck_to_l_sho  synchrony_r_sho_to_r_elb  \\\n",
              "0                 0.877340                 0.853057                  0.871981   \n",
              "1                 0.877261                 0.854115                  0.872812   \n",
              "2                 0.877076                 0.855197                  0.873742   \n",
              "3                 0.876797                 0.856302                  0.874762   \n",
              "4                 0.876439                 0.857428                  0.875862   \n",
              "\n",
              "   synchrony_r_elb_to_r_wri  synchrony_l_sho_to_l_elb  \\\n",
              "0                  0.662046                  0.954243   \n",
              "1                  0.664794                  0.956122   \n",
              "2                  0.667617                  0.958027   \n",
              "3                  0.670510                  0.959952   \n",
              "4                  0.673467                  0.961890   \n",
              "\n",
              "   synchrony_l_elb_to_l_wri  synchrony_neck_to_r_hip  \\\n",
              "0                  0.861182                 0.946395   \n",
              "1                  0.860955                 0.948301   \n",
              "2                  0.860894                 0.950260   \n",
              "3                  0.860992                 0.952266   \n",
              "4                  0.861244                 0.954310   \n",
              "\n",
              "   synchrony_r_hip_to_r_knee  synchrony_r_knee_to_r_ank  \\\n",
              "0                   0.895180                   0.150769   \n",
              "1                   0.894683                   0.150166   \n",
              "2                   0.894117                   0.149572   \n",
              "3                   0.893484                   0.148984   \n",
              "4                   0.892789                   0.148405   \n",
              "\n",
              "   synchrony_neck_to_l_hip  ...  synchrony_r_eye_to_r_ear  \\\n",
              "0                 0.962095  ...                  0.898557   \n",
              "1                 0.963311  ...                  0.899367   \n",
              "2                 0.964538  ...                  0.900206   \n",
              "3                 0.965773  ...                  0.901071   \n",
              "4                 0.967012  ...                  0.901960   \n",
              "\n",
              "   synchrony_nose_to_l_eye  synchrony_l_eye_to_l_ear     angry  disgusted  \\\n",
              "0                 0.908625                  0.874075  0.027505   0.007242   \n",
              "1                 0.909072                  0.873844  0.026280   0.007045   \n",
              "2                 0.909490                  0.873918  0.025138   0.006853   \n",
              "3                 0.909879                  0.874275  0.024077   0.006665   \n",
              "4                 0.910241                  0.874894  0.023097   0.006482   \n",
              "\n",
              "    fearful     happy   neutral       sad  surprised  \n",
              "0  0.001040  0.152293  0.674142  0.118742   0.019037  \n",
              "1  0.000983  0.149608  0.675542  0.122299   0.018243  \n",
              "2  0.000929  0.147061  0.676792  0.125747   0.017480  \n",
              "3  0.000878  0.144649  0.677895  0.129086   0.016749  \n",
              "4  0.000829  0.142371  0.678852  0.132320   0.016048  \n",
              "\n",
              "[5 rows x 24 columns]"
            ],
            "text/html": [
              "\n",
              "  <div id=\"df-61a5c516-b364-4f4d-a847-e27d6678a5c1\">\n",
              "    <div class=\"colab-df-container\">\n",
              "      <div>\n",
              "<style scoped>\n",
              "    .dataframe tbody tr th:only-of-type {\n",
              "        vertical-align: middle;\n",
              "    }\n",
              "\n",
              "    .dataframe tbody tr th {\n",
              "        vertical-align: top;\n",
              "    }\n",
              "\n",
              "    .dataframe thead th {\n",
              "        text-align: right;\n",
              "    }\n",
              "</style>\n",
              "<table border=\"1\" class=\"dataframe\">\n",
              "  <thead>\n",
              "    <tr style=\"text-align: right;\">\n",
              "      <th></th>\n",
              "      <th>synchrony_neck_to_r_sho</th>\n",
              "      <th>synchrony_neck_to_l_sho</th>\n",
              "      <th>synchrony_r_sho_to_r_elb</th>\n",
              "      <th>synchrony_r_elb_to_r_wri</th>\n",
              "      <th>synchrony_l_sho_to_l_elb</th>\n",
              "      <th>synchrony_l_elb_to_l_wri</th>\n",
              "      <th>synchrony_neck_to_r_hip</th>\n",
              "      <th>synchrony_r_hip_to_r_knee</th>\n",
              "      <th>synchrony_r_knee_to_r_ank</th>\n",
              "      <th>synchrony_neck_to_l_hip</th>\n",
              "      <th>...</th>\n",
              "      <th>synchrony_r_eye_to_r_ear</th>\n",
              "      <th>synchrony_nose_to_l_eye</th>\n",
              "      <th>synchrony_l_eye_to_l_ear</th>\n",
              "      <th>angry</th>\n",
              "      <th>disgusted</th>\n",
              "      <th>fearful</th>\n",
              "      <th>happy</th>\n",
              "      <th>neutral</th>\n",
              "      <th>sad</th>\n",
              "      <th>surprised</th>\n",
              "    </tr>\n",
              "  </thead>\n",
              "  <tbody>\n",
              "    <tr>\n",
              "      <th>0</th>\n",
              "      <td>0.877340</td>\n",
              "      <td>0.853057</td>\n",
              "      <td>0.871981</td>\n",
              "      <td>0.662046</td>\n",
              "      <td>0.954243</td>\n",
              "      <td>0.861182</td>\n",
              "      <td>0.946395</td>\n",
              "      <td>0.895180</td>\n",
              "      <td>0.150769</td>\n",
              "      <td>0.962095</td>\n",
              "      <td>...</td>\n",
              "      <td>0.898557</td>\n",
              "      <td>0.908625</td>\n",
              "      <td>0.874075</td>\n",
              "      <td>0.027505</td>\n",
              "      <td>0.007242</td>\n",
              "      <td>0.001040</td>\n",
              "      <td>0.152293</td>\n",
              "      <td>0.674142</td>\n",
              "      <td>0.118742</td>\n",
              "      <td>0.019037</td>\n",
              "    </tr>\n",
              "    <tr>\n",
              "      <th>1</th>\n",
              "      <td>0.877261</td>\n",
              "      <td>0.854115</td>\n",
              "      <td>0.872812</td>\n",
              "      <td>0.664794</td>\n",
              "      <td>0.956122</td>\n",
              "      <td>0.860955</td>\n",
              "      <td>0.948301</td>\n",
              "      <td>0.894683</td>\n",
              "      <td>0.150166</td>\n",
              "      <td>0.963311</td>\n",
              "      <td>...</td>\n",
              "      <td>0.899367</td>\n",
              "      <td>0.909072</td>\n",
              "      <td>0.873844</td>\n",
              "      <td>0.026280</td>\n",
              "      <td>0.007045</td>\n",
              "      <td>0.000983</td>\n",
              "      <td>0.149608</td>\n",
              "      <td>0.675542</td>\n",
              "      <td>0.122299</td>\n",
              "      <td>0.018243</td>\n",
              "    </tr>\n",
              "    <tr>\n",
              "      <th>2</th>\n",
              "      <td>0.877076</td>\n",
              "      <td>0.855197</td>\n",
              "      <td>0.873742</td>\n",
              "      <td>0.667617</td>\n",
              "      <td>0.958027</td>\n",
              "      <td>0.860894</td>\n",
              "      <td>0.950260</td>\n",
              "      <td>0.894117</td>\n",
              "      <td>0.149572</td>\n",
              "      <td>0.964538</td>\n",
              "      <td>...</td>\n",
              "      <td>0.900206</td>\n",
              "      <td>0.909490</td>\n",
              "      <td>0.873918</td>\n",
              "      <td>0.025138</td>\n",
              "      <td>0.006853</td>\n",
              "      <td>0.000929</td>\n",
              "      <td>0.147061</td>\n",
              "      <td>0.676792</td>\n",
              "      <td>0.125747</td>\n",
              "      <td>0.017480</td>\n",
              "    </tr>\n",
              "    <tr>\n",
              "      <th>3</th>\n",
              "      <td>0.876797</td>\n",
              "      <td>0.856302</td>\n",
              "      <td>0.874762</td>\n",
              "      <td>0.670510</td>\n",
              "      <td>0.959952</td>\n",
              "      <td>0.860992</td>\n",
              "      <td>0.952266</td>\n",
              "      <td>0.893484</td>\n",
              "      <td>0.148984</td>\n",
              "      <td>0.965773</td>\n",
              "      <td>...</td>\n",
              "      <td>0.901071</td>\n",
              "      <td>0.909879</td>\n",
              "      <td>0.874275</td>\n",
              "      <td>0.024077</td>\n",
              "      <td>0.006665</td>\n",
              "      <td>0.000878</td>\n",
              "      <td>0.144649</td>\n",
              "      <td>0.677895</td>\n",
              "      <td>0.129086</td>\n",
              "      <td>0.016749</td>\n",
              "    </tr>\n",
              "    <tr>\n",
              "      <th>4</th>\n",
              "      <td>0.876439</td>\n",
              "      <td>0.857428</td>\n",
              "      <td>0.875862</td>\n",
              "      <td>0.673467</td>\n",
              "      <td>0.961890</td>\n",
              "      <td>0.861244</td>\n",
              "      <td>0.954310</td>\n",
              "      <td>0.892789</td>\n",
              "      <td>0.148405</td>\n",
              "      <td>0.967012</td>\n",
              "      <td>...</td>\n",
              "      <td>0.901960</td>\n",
              "      <td>0.910241</td>\n",
              "      <td>0.874894</td>\n",
              "      <td>0.023097</td>\n",
              "      <td>0.006482</td>\n",
              "      <td>0.000829</td>\n",
              "      <td>0.142371</td>\n",
              "      <td>0.678852</td>\n",
              "      <td>0.132320</td>\n",
              "      <td>0.016048</td>\n",
              "    </tr>\n",
              "  </tbody>\n",
              "</table>\n",
              "<p>5 rows × 24 columns</p>\n",
              "</div>\n",
              "      <button class=\"colab-df-convert\" onclick=\"convertToInteractive('df-61a5c516-b364-4f4d-a847-e27d6678a5c1')\"\n",
              "              title=\"Convert this dataframe to an interactive table.\"\n",
              "              style=\"display:none;\">\n",
              "        \n",
              "  <svg xmlns=\"http://www.w3.org/2000/svg\" height=\"24px\"viewBox=\"0 0 24 24\"\n",
              "       width=\"24px\">\n",
              "    <path d=\"M0 0h24v24H0V0z\" fill=\"none\"/>\n",
              "    <path d=\"M18.56 5.44l.94 2.06.94-2.06 2.06-.94-2.06-.94-.94-2.06-.94 2.06-2.06.94zm-11 1L8.5 8.5l.94-2.06 2.06-.94-2.06-.94L8.5 2.5l-.94 2.06-2.06.94zm10 10l.94 2.06.94-2.06 2.06-.94-2.06-.94-.94-2.06-.94 2.06-2.06.94z\"/><path d=\"M17.41 7.96l-1.37-1.37c-.4-.4-.92-.59-1.43-.59-.52 0-1.04.2-1.43.59L10.3 9.45l-7.72 7.72c-.78.78-.78 2.05 0 2.83L4 21.41c.39.39.9.59 1.41.59.51 0 1.02-.2 1.41-.59l7.78-7.78 2.81-2.81c.8-.78.8-2.07 0-2.86zM5.41 20L4 18.59l7.72-7.72 1.47 1.35L5.41 20z\"/>\n",
              "  </svg>\n",
              "      </button>\n",
              "      \n",
              "  <style>\n",
              "    .colab-df-container {\n",
              "      display:flex;\n",
              "      flex-wrap:wrap;\n",
              "      gap: 12px;\n",
              "    }\n",
              "\n",
              "    .colab-df-convert {\n",
              "      background-color: #E8F0FE;\n",
              "      border: none;\n",
              "      border-radius: 50%;\n",
              "      cursor: pointer;\n",
              "      display: none;\n",
              "      fill: #1967D2;\n",
              "      height: 32px;\n",
              "      padding: 0 0 0 0;\n",
              "      width: 32px;\n",
              "    }\n",
              "\n",
              "    .colab-df-convert:hover {\n",
              "      background-color: #E2EBFA;\n",
              "      box-shadow: 0px 1px 2px rgba(60, 64, 67, 0.3), 0px 1px 3px 1px rgba(60, 64, 67, 0.15);\n",
              "      fill: #174EA6;\n",
              "    }\n",
              "\n",
              "    [theme=dark] .colab-df-convert {\n",
              "      background-color: #3B4455;\n",
              "      fill: #D2E3FC;\n",
              "    }\n",
              "\n",
              "    [theme=dark] .colab-df-convert:hover {\n",
              "      background-color: #434B5C;\n",
              "      box-shadow: 0px 1px 3px 1px rgba(0, 0, 0, 0.15);\n",
              "      filter: drop-shadow(0px 1px 2px rgba(0, 0, 0, 0.3));\n",
              "      fill: #FFFFFF;\n",
              "    }\n",
              "  </style>\n",
              "\n",
              "      <script>\n",
              "        const buttonEl =\n",
              "          document.querySelector('#df-61a5c516-b364-4f4d-a847-e27d6678a5c1 button.colab-df-convert');\n",
              "        buttonEl.style.display =\n",
              "          google.colab.kernel.accessAllowed ? 'block' : 'none';\n",
              "\n",
              "        async function convertToInteractive(key) {\n",
              "          const element = document.querySelector('#df-61a5c516-b364-4f4d-a847-e27d6678a5c1');\n",
              "          const dataTable =\n",
              "            await google.colab.kernel.invokeFunction('convertToInteractive',\n",
              "                                                     [key], {});\n",
              "          if (!dataTable) return;\n",
              "\n",
              "          const docLinkHtml = 'Like what you see? Visit the ' +\n",
              "            '<a target=\"_blank\" href=https://colab.research.google.com/notebooks/data_table.ipynb>data table notebook</a>'\n",
              "            + ' to learn more about interactive tables.';\n",
              "          element.innerHTML = '';\n",
              "          dataTable['output_type'] = 'display_data';\n",
              "          await google.colab.output.renderOutput(dataTable, element);\n",
              "          const docLink = document.createElement('div');\n",
              "          docLink.innerHTML = docLinkHtml;\n",
              "          element.appendChild(docLink);\n",
              "        }\n",
              "      </script>\n",
              "    </div>\n",
              "  </div>\n",
              "  "
            ]
          },
          "metadata": {},
          "execution_count": 5
        }
      ]
    },
    {
      "cell_type": "code",
      "source": [
        "df_jazz.info()"
      ],
      "metadata": {
        "colab": {
          "base_uri": "https://localhost:8080/"
        },
        "id": "k5wdNFLdO7Z2",
        "outputId": "9d0d2379-e956-4c05-e08b-2091ef999879"
      },
      "execution_count": null,
      "outputs": [
        {
          "output_type": "stream",
          "name": "stdout",
          "text": [
            "<class 'pandas.core.frame.DataFrame'>\n",
            "RangeIndex: 4346 entries, 0 to 4345\n",
            "Data columns (total 24 columns):\n",
            " #   Column                     Non-Null Count  Dtype  \n",
            "---  ------                     --------------  -----  \n",
            " 0   synchrony_neck_to_r_sho    4346 non-null   float64\n",
            " 1   synchrony_neck_to_l_sho    4346 non-null   float64\n",
            " 2   synchrony_r_sho_to_r_elb   4346 non-null   float64\n",
            " 3   synchrony_r_elb_to_r_wri   4346 non-null   float64\n",
            " 4   synchrony_l_sho_to_l_elb   4346 non-null   float64\n",
            " 5   synchrony_l_elb_to_l_wri   4346 non-null   float64\n",
            " 6   synchrony_neck_to_r_hip    4346 non-null   float64\n",
            " 7   synchrony_r_hip_to_r_knee  4346 non-null   float64\n",
            " 8   synchrony_r_knee_to_r_ank  4346 non-null   float64\n",
            " 9   synchrony_neck_to_l_hip    4346 non-null   float64\n",
            " 10  synchrony_l_hip_to_l_knee  4346 non-null   float64\n",
            " 11  synchrony_l_knee_to_l_ank  4346 non-null   float64\n",
            " 12  synchrony_neck_to_nose     4346 non-null   float64\n",
            " 13  synchrony_nose_to_r_eye    4346 non-null   float64\n",
            " 14  synchrony_r_eye_to_r_ear   4346 non-null   float64\n",
            " 15  synchrony_nose_to_l_eye    4346 non-null   float64\n",
            " 16  synchrony_l_eye_to_l_ear   4346 non-null   float64\n",
            " 17  angry                      4346 non-null   float64\n",
            " 18  disgusted                  4346 non-null   float64\n",
            " 19  fearful                    4346 non-null   float64\n",
            " 20  happy                      4346 non-null   float64\n",
            " 21  neutral                    4346 non-null   float64\n",
            " 22  sad                        4346 non-null   float64\n",
            " 23  surprised                  4346 non-null   float64\n",
            "dtypes: float64(24)\n",
            "memory usage: 815.0 KB\n"
          ]
        }
      ]
    },
    {
      "cell_type": "markdown",
      "source": [
        "### Data Pre-Processing"
      ],
      "metadata": {
        "id": "zKWN9pmwEn-L"
      }
    },
    {
      "cell_type": "code",
      "source": [
        "Y_df = df_jazz[[\"angry\", \"disgusted\", \"sad\", \"surprised\", \"happy\", \"fearful\"]]"
      ],
      "metadata": {
        "id": "_iUn2dPRENl4"
      },
      "execution_count": null,
      "outputs": []
    },
    {
      "cell_type": "code",
      "source": [
        "def add(a, b, c, d, e, f):\n",
        "    return a + b + c + d + e + f\n",
        "\n",
        "def div(sum):\n",
        "    return (1/sum)"
      ],
      "metadata": {
        "id": "29k7fj7-MdKR"
      },
      "execution_count": null,
      "outputs": []
    },
    {
      "cell_type": "code",
      "source": [
        "Y_df['add'] = Y_df.apply(lambda row : add(row['angry'], row['disgusted'], row['sad'], row['surprised'], row['happy'], row['fearful']), axis = 1)\n",
        "Y_df['coeff'] = Y_df.apply(lambda row : div(row['add']), axis = 1)"
      ],
      "metadata": {
        "colab": {
          "base_uri": "https://localhost:8080/"
        },
        "id": "Ue7Fa-egMvTj",
        "outputId": "44c92214-dc5a-4feb-ebfa-05f13ee72726"
      },
      "execution_count": null,
      "outputs": [
        {
          "output_type": "stream",
          "name": "stderr",
          "text": [
            "<ipython-input-9-dd8b751103a6>:1: SettingWithCopyWarning: \n",
            "A value is trying to be set on a copy of a slice from a DataFrame.\n",
            "Try using .loc[row_indexer,col_indexer] = value instead\n",
            "\n",
            "See the caveats in the documentation: https://pandas.pydata.org/pandas-docs/stable/user_guide/indexing.html#returning-a-view-versus-a-copy\n",
            "  Y_df['add'] = Y_df.apply(lambda row : add(row['angry'], row['disgusted'], row['sad'], row['surprised'], row['happy'], row['fearful']), axis = 1)\n",
            "<ipython-input-9-dd8b751103a6>:2: SettingWithCopyWarning: \n",
            "A value is trying to be set on a copy of a slice from a DataFrame.\n",
            "Try using .loc[row_indexer,col_indexer] = value instead\n",
            "\n",
            "See the caveats in the documentation: https://pandas.pydata.org/pandas-docs/stable/user_guide/indexing.html#returning-a-view-versus-a-copy\n",
            "  Y_df['coeff'] = Y_df.apply(lambda row : div(row['add']), axis = 1)\n"
          ]
        }
      ]
    },
    {
      "cell_type": "code",
      "source": [
        "Y_df"
      ],
      "metadata": {
        "colab": {
          "base_uri": "https://localhost:8080/"
        },
        "id": "4gQVswIENEey",
        "outputId": "f9e11110-5179-41b7-a8c6-bcc2f975d19e"
      },
      "execution_count": null,
      "outputs": [
        {
          "output_type": "execute_result",
          "data": {
            "text/plain": [
              "         angry  disgusted       sad  surprised     happy   fearful       add  \\\n",
              "0     0.027505   0.007242  0.118742   0.019037  0.152293  0.001040  0.325858   \n",
              "1     0.026280   0.007045  0.122299   0.018243  0.149608  0.000983  0.324458   \n",
              "2     0.025138   0.006853  0.125747   0.017480  0.147061  0.000929  0.323208   \n",
              "3     0.024077   0.006665  0.129086   0.016749  0.144649  0.000878  0.322105   \n",
              "4     0.023097   0.006482  0.132320   0.016048  0.142371  0.000829  0.321148   \n",
              "...        ...        ...       ...        ...       ...       ...       ...   \n",
              "4341  0.057745   0.000319  0.072633   0.004506  0.008023 -0.000540  0.142687   \n",
              "4342  0.058333   0.000310  0.071518   0.004282  0.007131 -0.000625  0.140949   \n",
              "4343  0.058910   0.000300  0.070388   0.004059  0.006293 -0.000707  0.139243   \n",
              "4344  0.059475   0.000290  0.069245   0.003838  0.005509 -0.000786  0.137572   \n",
              "4345  0.060029   0.000281  0.068090   0.003619  0.004780 -0.000861  0.135938   \n",
              "\n",
              "         coeff  \n",
              "0     3.068822  \n",
              "1     3.082066  \n",
              "2     3.093986  \n",
              "3     3.104575  \n",
              "4     3.113830  \n",
              "...        ...  \n",
              "4341  7.008354  \n",
              "4342  7.094749  \n",
              "4343  7.181667  \n",
              "4344  7.268922  \n",
              "4345  7.356311  \n",
              "\n",
              "[4346 rows x 8 columns]"
            ],
            "text/html": [
              "\n",
              "  <div id=\"df-17fb4c65-59aa-4d17-969a-3df74df2c422\">\n",
              "    <div class=\"colab-df-container\">\n",
              "      <div>\n",
              "<style scoped>\n",
              "    .dataframe tbody tr th:only-of-type {\n",
              "        vertical-align: middle;\n",
              "    }\n",
              "\n",
              "    .dataframe tbody tr th {\n",
              "        vertical-align: top;\n",
              "    }\n",
              "\n",
              "    .dataframe thead th {\n",
              "        text-align: right;\n",
              "    }\n",
              "</style>\n",
              "<table border=\"1\" class=\"dataframe\">\n",
              "  <thead>\n",
              "    <tr style=\"text-align: right;\">\n",
              "      <th></th>\n",
              "      <th>angry</th>\n",
              "      <th>disgusted</th>\n",
              "      <th>sad</th>\n",
              "      <th>surprised</th>\n",
              "      <th>happy</th>\n",
              "      <th>fearful</th>\n",
              "      <th>add</th>\n",
              "      <th>coeff</th>\n",
              "    </tr>\n",
              "  </thead>\n",
              "  <tbody>\n",
              "    <tr>\n",
              "      <th>0</th>\n",
              "      <td>0.027505</td>\n",
              "      <td>0.007242</td>\n",
              "      <td>0.118742</td>\n",
              "      <td>0.019037</td>\n",
              "      <td>0.152293</td>\n",
              "      <td>0.001040</td>\n",
              "      <td>0.325858</td>\n",
              "      <td>3.068822</td>\n",
              "    </tr>\n",
              "    <tr>\n",
              "      <th>1</th>\n",
              "      <td>0.026280</td>\n",
              "      <td>0.007045</td>\n",
              "      <td>0.122299</td>\n",
              "      <td>0.018243</td>\n",
              "      <td>0.149608</td>\n",
              "      <td>0.000983</td>\n",
              "      <td>0.324458</td>\n",
              "      <td>3.082066</td>\n",
              "    </tr>\n",
              "    <tr>\n",
              "      <th>2</th>\n",
              "      <td>0.025138</td>\n",
              "      <td>0.006853</td>\n",
              "      <td>0.125747</td>\n",
              "      <td>0.017480</td>\n",
              "      <td>0.147061</td>\n",
              "      <td>0.000929</td>\n",
              "      <td>0.323208</td>\n",
              "      <td>3.093986</td>\n",
              "    </tr>\n",
              "    <tr>\n",
              "      <th>3</th>\n",
              "      <td>0.024077</td>\n",
              "      <td>0.006665</td>\n",
              "      <td>0.129086</td>\n",
              "      <td>0.016749</td>\n",
              "      <td>0.144649</td>\n",
              "      <td>0.000878</td>\n",
              "      <td>0.322105</td>\n",
              "      <td>3.104575</td>\n",
              "    </tr>\n",
              "    <tr>\n",
              "      <th>4</th>\n",
              "      <td>0.023097</td>\n",
              "      <td>0.006482</td>\n",
              "      <td>0.132320</td>\n",
              "      <td>0.016048</td>\n",
              "      <td>0.142371</td>\n",
              "      <td>0.000829</td>\n",
              "      <td>0.321148</td>\n",
              "      <td>3.113830</td>\n",
              "    </tr>\n",
              "    <tr>\n",
              "      <th>...</th>\n",
              "      <td>...</td>\n",
              "      <td>...</td>\n",
              "      <td>...</td>\n",
              "      <td>...</td>\n",
              "      <td>...</td>\n",
              "      <td>...</td>\n",
              "      <td>...</td>\n",
              "      <td>...</td>\n",
              "    </tr>\n",
              "    <tr>\n",
              "      <th>4341</th>\n",
              "      <td>0.057745</td>\n",
              "      <td>0.000319</td>\n",
              "      <td>0.072633</td>\n",
              "      <td>0.004506</td>\n",
              "      <td>0.008023</td>\n",
              "      <td>-0.000540</td>\n",
              "      <td>0.142687</td>\n",
              "      <td>7.008354</td>\n",
              "    </tr>\n",
              "    <tr>\n",
              "      <th>4342</th>\n",
              "      <td>0.058333</td>\n",
              "      <td>0.000310</td>\n",
              "      <td>0.071518</td>\n",
              "      <td>0.004282</td>\n",
              "      <td>0.007131</td>\n",
              "      <td>-0.000625</td>\n",
              "      <td>0.140949</td>\n",
              "      <td>7.094749</td>\n",
              "    </tr>\n",
              "    <tr>\n",
              "      <th>4343</th>\n",
              "      <td>0.058910</td>\n",
              "      <td>0.000300</td>\n",
              "      <td>0.070388</td>\n",
              "      <td>0.004059</td>\n",
              "      <td>0.006293</td>\n",
              "      <td>-0.000707</td>\n",
              "      <td>0.139243</td>\n",
              "      <td>7.181667</td>\n",
              "    </tr>\n",
              "    <tr>\n",
              "      <th>4344</th>\n",
              "      <td>0.059475</td>\n",
              "      <td>0.000290</td>\n",
              "      <td>0.069245</td>\n",
              "      <td>0.003838</td>\n",
              "      <td>0.005509</td>\n",
              "      <td>-0.000786</td>\n",
              "      <td>0.137572</td>\n",
              "      <td>7.268922</td>\n",
              "    </tr>\n",
              "    <tr>\n",
              "      <th>4345</th>\n",
              "      <td>0.060029</td>\n",
              "      <td>0.000281</td>\n",
              "      <td>0.068090</td>\n",
              "      <td>0.003619</td>\n",
              "      <td>0.004780</td>\n",
              "      <td>-0.000861</td>\n",
              "      <td>0.135938</td>\n",
              "      <td>7.356311</td>\n",
              "    </tr>\n",
              "  </tbody>\n",
              "</table>\n",
              "<p>4346 rows × 8 columns</p>\n",
              "</div>\n",
              "      <button class=\"colab-df-convert\" onclick=\"convertToInteractive('df-17fb4c65-59aa-4d17-969a-3df74df2c422')\"\n",
              "              title=\"Convert this dataframe to an interactive table.\"\n",
              "              style=\"display:none;\">\n",
              "        \n",
              "  <svg xmlns=\"http://www.w3.org/2000/svg\" height=\"24px\"viewBox=\"0 0 24 24\"\n",
              "       width=\"24px\">\n",
              "    <path d=\"M0 0h24v24H0V0z\" fill=\"none\"/>\n",
              "    <path d=\"M18.56 5.44l.94 2.06.94-2.06 2.06-.94-2.06-.94-.94-2.06-.94 2.06-2.06.94zm-11 1L8.5 8.5l.94-2.06 2.06-.94-2.06-.94L8.5 2.5l-.94 2.06-2.06.94zm10 10l.94 2.06.94-2.06 2.06-.94-2.06-.94-.94-2.06-.94 2.06-2.06.94z\"/><path d=\"M17.41 7.96l-1.37-1.37c-.4-.4-.92-.59-1.43-.59-.52 0-1.04.2-1.43.59L10.3 9.45l-7.72 7.72c-.78.78-.78 2.05 0 2.83L4 21.41c.39.39.9.59 1.41.59.51 0 1.02-.2 1.41-.59l7.78-7.78 2.81-2.81c.8-.78.8-2.07 0-2.86zM5.41 20L4 18.59l7.72-7.72 1.47 1.35L5.41 20z\"/>\n",
              "  </svg>\n",
              "      </button>\n",
              "      \n",
              "  <style>\n",
              "    .colab-df-container {\n",
              "      display:flex;\n",
              "      flex-wrap:wrap;\n",
              "      gap: 12px;\n",
              "    }\n",
              "\n",
              "    .colab-df-convert {\n",
              "      background-color: #E8F0FE;\n",
              "      border: none;\n",
              "      border-radius: 50%;\n",
              "      cursor: pointer;\n",
              "      display: none;\n",
              "      fill: #1967D2;\n",
              "      height: 32px;\n",
              "      padding: 0 0 0 0;\n",
              "      width: 32px;\n",
              "    }\n",
              "\n",
              "    .colab-df-convert:hover {\n",
              "      background-color: #E2EBFA;\n",
              "      box-shadow: 0px 1px 2px rgba(60, 64, 67, 0.3), 0px 1px 3px 1px rgba(60, 64, 67, 0.15);\n",
              "      fill: #174EA6;\n",
              "    }\n",
              "\n",
              "    [theme=dark] .colab-df-convert {\n",
              "      background-color: #3B4455;\n",
              "      fill: #D2E3FC;\n",
              "    }\n",
              "\n",
              "    [theme=dark] .colab-df-convert:hover {\n",
              "      background-color: #434B5C;\n",
              "      box-shadow: 0px 1px 3px 1px rgba(0, 0, 0, 0.15);\n",
              "      filter: drop-shadow(0px 1px 2px rgba(0, 0, 0, 0.3));\n",
              "      fill: #FFFFFF;\n",
              "    }\n",
              "  </style>\n",
              "\n",
              "      <script>\n",
              "        const buttonEl =\n",
              "          document.querySelector('#df-17fb4c65-59aa-4d17-969a-3df74df2c422 button.colab-df-convert');\n",
              "        buttonEl.style.display =\n",
              "          google.colab.kernel.accessAllowed ? 'block' : 'none';\n",
              "\n",
              "        async function convertToInteractive(key) {\n",
              "          const element = document.querySelector('#df-17fb4c65-59aa-4d17-969a-3df74df2c422');\n",
              "          const dataTable =\n",
              "            await google.colab.kernel.invokeFunction('convertToInteractive',\n",
              "                                                     [key], {});\n",
              "          if (!dataTable) return;\n",
              "\n",
              "          const docLinkHtml = 'Like what you see? Visit the ' +\n",
              "            '<a target=\"_blank\" href=https://colab.research.google.com/notebooks/data_table.ipynb>data table notebook</a>'\n",
              "            + ' to learn more about interactive tables.';\n",
              "          element.innerHTML = '';\n",
              "          dataTable['output_type'] = 'display_data';\n",
              "          await google.colab.output.renderOutput(dataTable, element);\n",
              "          const docLink = document.createElement('div');\n",
              "          docLink.innerHTML = docLinkHtml;\n",
              "          element.appendChild(docLink);\n",
              "        }\n",
              "      </script>\n",
              "    </div>\n",
              "  </div>\n",
              "  "
            ]
          },
          "metadata": {},
          "execution_count": 10
        }
      ]
    },
    {
      "cell_type": "code",
      "source": [
        "Y_final = Y_df[[\"angry\", \"disgusted\", \"sad\", \"surprised\", \"happy\", \"fearful\"]].multiply(Y_df[\"coeff\"], axis=\"index\")"
      ],
      "metadata": {
        "id": "7eHrpHGJNIk5"
      },
      "execution_count": null,
      "outputs": []
    },
    {
      "cell_type": "code",
      "source": [
        "Y_final.head(5)"
      ],
      "metadata": {
        "colab": {
          "base_uri": "https://localhost:8080/"
        },
        "id": "TveoHYAmNPpd",
        "outputId": "0b64776a-c9c5-46b9-8b07-f5c68b24e385"
      },
      "execution_count": null,
      "outputs": [
        {
          "output_type": "execute_result",
          "data": {
            "text/plain": [
              "      angry  disgusted       sad  surprised     happy   fearful\n",
              "0  0.084408   0.022224  0.364398   0.058421  0.467359  0.003190\n",
              "1  0.080996   0.021713  0.376934   0.056226  0.461101  0.003030\n",
              "2  0.077776   0.021202  0.389059   0.054084  0.455003  0.002876\n",
              "3  0.074750   0.020692  0.400759   0.051999  0.449074  0.002726\n",
              "4  0.071921   0.020184  0.412021   0.049972  0.443320  0.002582"
            ],
            "text/html": [
              "\n",
              "  <div id=\"df-eee3e226-ed97-4e8f-b27d-bb99c218d63c\">\n",
              "    <div class=\"colab-df-container\">\n",
              "      <div>\n",
              "<style scoped>\n",
              "    .dataframe tbody tr th:only-of-type {\n",
              "        vertical-align: middle;\n",
              "    }\n",
              "\n",
              "    .dataframe tbody tr th {\n",
              "        vertical-align: top;\n",
              "    }\n",
              "\n",
              "    .dataframe thead th {\n",
              "        text-align: right;\n",
              "    }\n",
              "</style>\n",
              "<table border=\"1\" class=\"dataframe\">\n",
              "  <thead>\n",
              "    <tr style=\"text-align: right;\">\n",
              "      <th></th>\n",
              "      <th>angry</th>\n",
              "      <th>disgusted</th>\n",
              "      <th>sad</th>\n",
              "      <th>surprised</th>\n",
              "      <th>happy</th>\n",
              "      <th>fearful</th>\n",
              "    </tr>\n",
              "  </thead>\n",
              "  <tbody>\n",
              "    <tr>\n",
              "      <th>0</th>\n",
              "      <td>0.084408</td>\n",
              "      <td>0.022224</td>\n",
              "      <td>0.364398</td>\n",
              "      <td>0.058421</td>\n",
              "      <td>0.467359</td>\n",
              "      <td>0.003190</td>\n",
              "    </tr>\n",
              "    <tr>\n",
              "      <th>1</th>\n",
              "      <td>0.080996</td>\n",
              "      <td>0.021713</td>\n",
              "      <td>0.376934</td>\n",
              "      <td>0.056226</td>\n",
              "      <td>0.461101</td>\n",
              "      <td>0.003030</td>\n",
              "    </tr>\n",
              "    <tr>\n",
              "      <th>2</th>\n",
              "      <td>0.077776</td>\n",
              "      <td>0.021202</td>\n",
              "      <td>0.389059</td>\n",
              "      <td>0.054084</td>\n",
              "      <td>0.455003</td>\n",
              "      <td>0.002876</td>\n",
              "    </tr>\n",
              "    <tr>\n",
              "      <th>3</th>\n",
              "      <td>0.074750</td>\n",
              "      <td>0.020692</td>\n",
              "      <td>0.400759</td>\n",
              "      <td>0.051999</td>\n",
              "      <td>0.449074</td>\n",
              "      <td>0.002726</td>\n",
              "    </tr>\n",
              "    <tr>\n",
              "      <th>4</th>\n",
              "      <td>0.071921</td>\n",
              "      <td>0.020184</td>\n",
              "      <td>0.412021</td>\n",
              "      <td>0.049972</td>\n",
              "      <td>0.443320</td>\n",
              "      <td>0.002582</td>\n",
              "    </tr>\n",
              "  </tbody>\n",
              "</table>\n",
              "</div>\n",
              "      <button class=\"colab-df-convert\" onclick=\"convertToInteractive('df-eee3e226-ed97-4e8f-b27d-bb99c218d63c')\"\n",
              "              title=\"Convert this dataframe to an interactive table.\"\n",
              "              style=\"display:none;\">\n",
              "        \n",
              "  <svg xmlns=\"http://www.w3.org/2000/svg\" height=\"24px\"viewBox=\"0 0 24 24\"\n",
              "       width=\"24px\">\n",
              "    <path d=\"M0 0h24v24H0V0z\" fill=\"none\"/>\n",
              "    <path d=\"M18.56 5.44l.94 2.06.94-2.06 2.06-.94-2.06-.94-.94-2.06-.94 2.06-2.06.94zm-11 1L8.5 8.5l.94-2.06 2.06-.94-2.06-.94L8.5 2.5l-.94 2.06-2.06.94zm10 10l.94 2.06.94-2.06 2.06-.94-2.06-.94-.94-2.06-.94 2.06-2.06.94z\"/><path d=\"M17.41 7.96l-1.37-1.37c-.4-.4-.92-.59-1.43-.59-.52 0-1.04.2-1.43.59L10.3 9.45l-7.72 7.72c-.78.78-.78 2.05 0 2.83L4 21.41c.39.39.9.59 1.41.59.51 0 1.02-.2 1.41-.59l7.78-7.78 2.81-2.81c.8-.78.8-2.07 0-2.86zM5.41 20L4 18.59l7.72-7.72 1.47 1.35L5.41 20z\"/>\n",
              "  </svg>\n",
              "      </button>\n",
              "      \n",
              "  <style>\n",
              "    .colab-df-container {\n",
              "      display:flex;\n",
              "      flex-wrap:wrap;\n",
              "      gap: 12px;\n",
              "    }\n",
              "\n",
              "    .colab-df-convert {\n",
              "      background-color: #E8F0FE;\n",
              "      border: none;\n",
              "      border-radius: 50%;\n",
              "      cursor: pointer;\n",
              "      display: none;\n",
              "      fill: #1967D2;\n",
              "      height: 32px;\n",
              "      padding: 0 0 0 0;\n",
              "      width: 32px;\n",
              "    }\n",
              "\n",
              "    .colab-df-convert:hover {\n",
              "      background-color: #E2EBFA;\n",
              "      box-shadow: 0px 1px 2px rgba(60, 64, 67, 0.3), 0px 1px 3px 1px rgba(60, 64, 67, 0.15);\n",
              "      fill: #174EA6;\n",
              "    }\n",
              "\n",
              "    [theme=dark] .colab-df-convert {\n",
              "      background-color: #3B4455;\n",
              "      fill: #D2E3FC;\n",
              "    }\n",
              "\n",
              "    [theme=dark] .colab-df-convert:hover {\n",
              "      background-color: #434B5C;\n",
              "      box-shadow: 0px 1px 3px 1px rgba(0, 0, 0, 0.15);\n",
              "      filter: drop-shadow(0px 1px 2px rgba(0, 0, 0, 0.3));\n",
              "      fill: #FFFFFF;\n",
              "    }\n",
              "  </style>\n",
              "\n",
              "      <script>\n",
              "        const buttonEl =\n",
              "          document.querySelector('#df-eee3e226-ed97-4e8f-b27d-bb99c218d63c button.colab-df-convert');\n",
              "        buttonEl.style.display =\n",
              "          google.colab.kernel.accessAllowed ? 'block' : 'none';\n",
              "\n",
              "        async function convertToInteractive(key) {\n",
              "          const element = document.querySelector('#df-eee3e226-ed97-4e8f-b27d-bb99c218d63c');\n",
              "          const dataTable =\n",
              "            await google.colab.kernel.invokeFunction('convertToInteractive',\n",
              "                                                     [key], {});\n",
              "          if (!dataTable) return;\n",
              "\n",
              "          const docLinkHtml = 'Like what you see? Visit the ' +\n",
              "            '<a target=\"_blank\" href=https://colab.research.google.com/notebooks/data_table.ipynb>data table notebook</a>'\n",
              "            + ' to learn more about interactive tables.';\n",
              "          element.innerHTML = '';\n",
              "          dataTable['output_type'] = 'display_data';\n",
              "          await google.colab.output.renderOutput(dataTable, element);\n",
              "          const docLink = document.createElement('div');\n",
              "          docLink.innerHTML = docLinkHtml;\n",
              "          element.appendChild(docLink);\n",
              "        }\n",
              "      </script>\n",
              "    </div>\n",
              "  </div>\n",
              "  "
            ]
          },
          "metadata": {},
          "execution_count": 12
        }
      ]
    },
    {
      "cell_type": "code",
      "source": [
        "Y_final['max_value'] = Y_final.max(axis=1)"
      ],
      "metadata": {
        "id": "bCWrwfBBpyHY"
      },
      "execution_count": null,
      "outputs": []
    },
    {
      "cell_type": "code",
      "source": [
        "for i in range(0,4346):\n",
        "  if (Y_final['angry'][i] == Y_final['max_value'][i]):\n",
        "    Y_final['max_value'][i] = 'angry'\n",
        "  elif (Y_final['disgusted'][i] == Y_final['max_value'][i]):\n",
        "    Y_final['max_value'][i] = 'disgusted'\n",
        "  elif (Y_final['sad'][i] == Y_final['max_value'][i]):\n",
        "    Y_final['max_value'][i] = 'sad'\n",
        "  elif (Y_final['happy'][i] == Y_final['max_value'][i]):\n",
        "    Y_final['max_value'][i] = 'happy'\n",
        "  elif (Y_final['fearful'][i] == Y_final['max_value'][i]):\n",
        "    Y_final['max_value'][i] = 'fearful'\n",
        "  else:\n",
        "    Y_final['max_value'][i] = 'surprised'"
      ],
      "metadata": {
        "id": "sJefCOxvp5kA"
      },
      "execution_count": null,
      "outputs": []
    },
    {
      "cell_type": "code",
      "source": [
        "Y_final"
      ],
      "metadata": {
        "colab": {
          "base_uri": "https://localhost:8080/"
        },
        "id": "0cXCZYC1qX31",
        "outputId": "78e12ff9-fa9b-432c-b8ae-d59e53eaf50a"
      },
      "execution_count": null,
      "outputs": [
        {
          "output_type": "execute_result",
          "data": {
            "text/plain": [
              "         angry  disgusted       sad  surprised     happy   fearful max_value\n",
              "0     0.084408   0.022224  0.364398   0.058421  0.467359  0.003190     happy\n",
              "1     0.080996   0.021713  0.376934   0.056226  0.461101  0.003030     happy\n",
              "2     0.077776   0.021202  0.389059   0.054084  0.455003  0.002876     happy\n",
              "3     0.074750   0.020692  0.400759   0.051999  0.449074  0.002726     happy\n",
              "4     0.071921   0.020184  0.412021   0.049972  0.443320  0.002582     happy\n",
              "...        ...        ...       ...        ...       ...       ...       ...\n",
              "4341  0.404697   0.002239  0.509041   0.031577  0.056227 -0.003781       sad\n",
              "4342  0.413858   0.002196  0.507404   0.030378  0.050596 -0.004432       sad\n",
              "4343  0.423071   0.002153  0.505504   0.029152  0.045197 -0.005076       sad\n",
              "4344  0.432321   0.002109  0.503335   0.027899  0.040047 -0.005710       sad\n",
              "4345  0.441590   0.002064  0.500893   0.026623  0.035161 -0.006331       sad\n",
              "\n",
              "[4346 rows x 7 columns]"
            ],
            "text/html": [
              "\n",
              "  <div id=\"df-554387bc-d603-4193-b3e1-7e5f650c0b0f\">\n",
              "    <div class=\"colab-df-container\">\n",
              "      <div>\n",
              "<style scoped>\n",
              "    .dataframe tbody tr th:only-of-type {\n",
              "        vertical-align: middle;\n",
              "    }\n",
              "\n",
              "    .dataframe tbody tr th {\n",
              "        vertical-align: top;\n",
              "    }\n",
              "\n",
              "    .dataframe thead th {\n",
              "        text-align: right;\n",
              "    }\n",
              "</style>\n",
              "<table border=\"1\" class=\"dataframe\">\n",
              "  <thead>\n",
              "    <tr style=\"text-align: right;\">\n",
              "      <th></th>\n",
              "      <th>angry</th>\n",
              "      <th>disgusted</th>\n",
              "      <th>sad</th>\n",
              "      <th>surprised</th>\n",
              "      <th>happy</th>\n",
              "      <th>fearful</th>\n",
              "      <th>max_value</th>\n",
              "    </tr>\n",
              "  </thead>\n",
              "  <tbody>\n",
              "    <tr>\n",
              "      <th>0</th>\n",
              "      <td>0.084408</td>\n",
              "      <td>0.022224</td>\n",
              "      <td>0.364398</td>\n",
              "      <td>0.058421</td>\n",
              "      <td>0.467359</td>\n",
              "      <td>0.003190</td>\n",
              "      <td>happy</td>\n",
              "    </tr>\n",
              "    <tr>\n",
              "      <th>1</th>\n",
              "      <td>0.080996</td>\n",
              "      <td>0.021713</td>\n",
              "      <td>0.376934</td>\n",
              "      <td>0.056226</td>\n",
              "      <td>0.461101</td>\n",
              "      <td>0.003030</td>\n",
              "      <td>happy</td>\n",
              "    </tr>\n",
              "    <tr>\n",
              "      <th>2</th>\n",
              "      <td>0.077776</td>\n",
              "      <td>0.021202</td>\n",
              "      <td>0.389059</td>\n",
              "      <td>0.054084</td>\n",
              "      <td>0.455003</td>\n",
              "      <td>0.002876</td>\n",
              "      <td>happy</td>\n",
              "    </tr>\n",
              "    <tr>\n",
              "      <th>3</th>\n",
              "      <td>0.074750</td>\n",
              "      <td>0.020692</td>\n",
              "      <td>0.400759</td>\n",
              "      <td>0.051999</td>\n",
              "      <td>0.449074</td>\n",
              "      <td>0.002726</td>\n",
              "      <td>happy</td>\n",
              "    </tr>\n",
              "    <tr>\n",
              "      <th>4</th>\n",
              "      <td>0.071921</td>\n",
              "      <td>0.020184</td>\n",
              "      <td>0.412021</td>\n",
              "      <td>0.049972</td>\n",
              "      <td>0.443320</td>\n",
              "      <td>0.002582</td>\n",
              "      <td>happy</td>\n",
              "    </tr>\n",
              "    <tr>\n",
              "      <th>...</th>\n",
              "      <td>...</td>\n",
              "      <td>...</td>\n",
              "      <td>...</td>\n",
              "      <td>...</td>\n",
              "      <td>...</td>\n",
              "      <td>...</td>\n",
              "      <td>...</td>\n",
              "    </tr>\n",
              "    <tr>\n",
              "      <th>4341</th>\n",
              "      <td>0.404697</td>\n",
              "      <td>0.002239</td>\n",
              "      <td>0.509041</td>\n",
              "      <td>0.031577</td>\n",
              "      <td>0.056227</td>\n",
              "      <td>-0.003781</td>\n",
              "      <td>sad</td>\n",
              "    </tr>\n",
              "    <tr>\n",
              "      <th>4342</th>\n",
              "      <td>0.413858</td>\n",
              "      <td>0.002196</td>\n",
              "      <td>0.507404</td>\n",
              "      <td>0.030378</td>\n",
              "      <td>0.050596</td>\n",
              "      <td>-0.004432</td>\n",
              "      <td>sad</td>\n",
              "    </tr>\n",
              "    <tr>\n",
              "      <th>4343</th>\n",
              "      <td>0.423071</td>\n",
              "      <td>0.002153</td>\n",
              "      <td>0.505504</td>\n",
              "      <td>0.029152</td>\n",
              "      <td>0.045197</td>\n",
              "      <td>-0.005076</td>\n",
              "      <td>sad</td>\n",
              "    </tr>\n",
              "    <tr>\n",
              "      <th>4344</th>\n",
              "      <td>0.432321</td>\n",
              "      <td>0.002109</td>\n",
              "      <td>0.503335</td>\n",
              "      <td>0.027899</td>\n",
              "      <td>0.040047</td>\n",
              "      <td>-0.005710</td>\n",
              "      <td>sad</td>\n",
              "    </tr>\n",
              "    <tr>\n",
              "      <th>4345</th>\n",
              "      <td>0.441590</td>\n",
              "      <td>0.002064</td>\n",
              "      <td>0.500893</td>\n",
              "      <td>0.026623</td>\n",
              "      <td>0.035161</td>\n",
              "      <td>-0.006331</td>\n",
              "      <td>sad</td>\n",
              "    </tr>\n",
              "  </tbody>\n",
              "</table>\n",
              "<p>4346 rows × 7 columns</p>\n",
              "</div>\n",
              "      <button class=\"colab-df-convert\" onclick=\"convertToInteractive('df-554387bc-d603-4193-b3e1-7e5f650c0b0f')\"\n",
              "              title=\"Convert this dataframe to an interactive table.\"\n",
              "              style=\"display:none;\">\n",
              "        \n",
              "  <svg xmlns=\"http://www.w3.org/2000/svg\" height=\"24px\"viewBox=\"0 0 24 24\"\n",
              "       width=\"24px\">\n",
              "    <path d=\"M0 0h24v24H0V0z\" fill=\"none\"/>\n",
              "    <path d=\"M18.56 5.44l.94 2.06.94-2.06 2.06-.94-2.06-.94-.94-2.06-.94 2.06-2.06.94zm-11 1L8.5 8.5l.94-2.06 2.06-.94-2.06-.94L8.5 2.5l-.94 2.06-2.06.94zm10 10l.94 2.06.94-2.06 2.06-.94-2.06-.94-.94-2.06-.94 2.06-2.06.94z\"/><path d=\"M17.41 7.96l-1.37-1.37c-.4-.4-.92-.59-1.43-.59-.52 0-1.04.2-1.43.59L10.3 9.45l-7.72 7.72c-.78.78-.78 2.05 0 2.83L4 21.41c.39.39.9.59 1.41.59.51 0 1.02-.2 1.41-.59l7.78-7.78 2.81-2.81c.8-.78.8-2.07 0-2.86zM5.41 20L4 18.59l7.72-7.72 1.47 1.35L5.41 20z\"/>\n",
              "  </svg>\n",
              "      </button>\n",
              "      \n",
              "  <style>\n",
              "    .colab-df-container {\n",
              "      display:flex;\n",
              "      flex-wrap:wrap;\n",
              "      gap: 12px;\n",
              "    }\n",
              "\n",
              "    .colab-df-convert {\n",
              "      background-color: #E8F0FE;\n",
              "      border: none;\n",
              "      border-radius: 50%;\n",
              "      cursor: pointer;\n",
              "      display: none;\n",
              "      fill: #1967D2;\n",
              "      height: 32px;\n",
              "      padding: 0 0 0 0;\n",
              "      width: 32px;\n",
              "    }\n",
              "\n",
              "    .colab-df-convert:hover {\n",
              "      background-color: #E2EBFA;\n",
              "      box-shadow: 0px 1px 2px rgba(60, 64, 67, 0.3), 0px 1px 3px 1px rgba(60, 64, 67, 0.15);\n",
              "      fill: #174EA6;\n",
              "    }\n",
              "\n",
              "    [theme=dark] .colab-df-convert {\n",
              "      background-color: #3B4455;\n",
              "      fill: #D2E3FC;\n",
              "    }\n",
              "\n",
              "    [theme=dark] .colab-df-convert:hover {\n",
              "      background-color: #434B5C;\n",
              "      box-shadow: 0px 1px 3px 1px rgba(0, 0, 0, 0.15);\n",
              "      filter: drop-shadow(0px 1px 2px rgba(0, 0, 0, 0.3));\n",
              "      fill: #FFFFFF;\n",
              "    }\n",
              "  </style>\n",
              "\n",
              "      <script>\n",
              "        const buttonEl =\n",
              "          document.querySelector('#df-554387bc-d603-4193-b3e1-7e5f650c0b0f button.colab-df-convert');\n",
              "        buttonEl.style.display =\n",
              "          google.colab.kernel.accessAllowed ? 'block' : 'none';\n",
              "\n",
              "        async function convertToInteractive(key) {\n",
              "          const element = document.querySelector('#df-554387bc-d603-4193-b3e1-7e5f650c0b0f');\n",
              "          const dataTable =\n",
              "            await google.colab.kernel.invokeFunction('convertToInteractive',\n",
              "                                                     [key], {});\n",
              "          if (!dataTable) return;\n",
              "\n",
              "          const docLinkHtml = 'Like what you see? Visit the ' +\n",
              "            '<a target=\"_blank\" href=https://colab.research.google.com/notebooks/data_table.ipynb>data table notebook</a>'\n",
              "            + ' to learn more about interactive tables.';\n",
              "          element.innerHTML = '';\n",
              "          dataTable['output_type'] = 'display_data';\n",
              "          await google.colab.output.renderOutput(dataTable, element);\n",
              "          const docLink = document.createElement('div');\n",
              "          docLink.innerHTML = docLinkHtml;\n",
              "          element.appendChild(docLink);\n",
              "        }\n",
              "      </script>\n",
              "    </div>\n",
              "  </div>\n",
              "  "
            ]
          },
          "metadata": {},
          "execution_count": 15
        }
      ]
    },
    {
      "cell_type": "code",
      "source": [
        "Y_final.max_value.unique()"
      ],
      "metadata": {
        "colab": {
          "base_uri": "https://localhost:8080/"
        },
        "id": "d_cpcG-iqho6",
        "outputId": "f6cb7762-ca00-4c1d-ee54-5aa288fb72f4"
      },
      "execution_count": null,
      "outputs": [
        {
          "output_type": "execute_result",
          "data": {
            "text/plain": [
              "array(['happy', 'sad', 'angry'], dtype=object)"
            ]
          },
          "metadata": {},
          "execution_count": 16
        }
      ]
    },
    {
      "cell_type": "code",
      "source": [
        "print(Y_final['max_value'].value_counts()['happy'])\n",
        "print(Y_final['max_value'].value_counts()['angry'])\n",
        "print(Y_final['max_value'].value_counts()['sad'])"
      ],
      "metadata": {
        "colab": {
          "base_uri": "https://localhost:8080/"
        },
        "id": "k7dSLu4bqzTa",
        "outputId": "7e6508fe-a9bd-4d58-ca8d-7572fa8d7045"
      },
      "execution_count": null,
      "outputs": [
        {
          "output_type": "stream",
          "name": "stdout",
          "text": [
            "2375\n",
            "164\n",
            "1807\n"
          ]
        }
      ]
    },
    {
      "cell_type": "code",
      "source": [
        "X_df = df_jazz[[\"synchrony_neck_to_r_sho\", \"synchrony_neck_to_l_sho\", \"synchrony_r_sho_to_r_elb\", \"synchrony_r_elb_to_r_wri\", \"synchrony_l_sho_to_l_elb\", \"synchrony_l_elb_to_l_wri\", \"synchrony_neck_to_r_hip\", \"synchrony_r_hip_to_r_knee\", \"synchrony_r_knee_to_r_ank\", \"synchrony_neck_to_l_hip\", \"synchrony_l_hip_to_l_knee\", \"synchrony_l_knee_to_l_ank\", \"synchrony_neck_to_nose\", \"synchrony_nose_to_r_eye\", \"synchrony_r_eye_to_r_ear\", \"synchrony_nose_to_l_eye\", \"synchrony_l_eye_to_l_ear\"]]"
      ],
      "metadata": {
        "id": "MBKqr4PPN5uX"
      },
      "execution_count": null,
      "outputs": []
    },
    {
      "cell_type": "code",
      "source": [
        "Y_final = Y_final.drop(['disgusted', 'sad', 'surprised','angry', 'happy', 'fearful'], axis = 1)"
      ],
      "metadata": {
        "id": "L6VSfy_Vat5P"
      },
      "execution_count": null,
      "outputs": []
    },
    {
      "cell_type": "code",
      "source": [
        "emo_bodysync_data = pd.concat([X_df, Y_final], axis=1, join=\"inner\")"
      ],
      "metadata": {
        "id": "M4DwCDpWb372"
      },
      "execution_count": null,
      "outputs": []
    },
    {
      "cell_type": "code",
      "source": [
        "emo_bodysync_data"
      ],
      "metadata": {
        "colab": {
          "base_uri": "https://localhost:8080/"
        },
        "id": "lDymJviMceo9",
        "outputId": "762334cb-c75d-490a-ef0b-a246b174b1af"
      },
      "execution_count": null,
      "outputs": [
        {
          "output_type": "execute_result",
          "data": {
            "text/plain": [
              "      synchrony_neck_to_r_sho  synchrony_neck_to_l_sho  \\\n",
              "0                    0.877340                 0.853057   \n",
              "1                    0.877261                 0.854115   \n",
              "2                    0.877076                 0.855197   \n",
              "3                    0.876797                 0.856302   \n",
              "4                    0.876439                 0.857428   \n",
              "...                       ...                      ...   \n",
              "4341                 0.887965                 0.919958   \n",
              "4342                 0.887249                 0.918692   \n",
              "4343                 0.886463                 0.917409   \n",
              "4344                 0.885603                 0.916109   \n",
              "4345                 0.884668                 0.914792   \n",
              "\n",
              "      synchrony_r_sho_to_r_elb  synchrony_r_elb_to_r_wri  \\\n",
              "0                     0.871981                  0.662046   \n",
              "1                     0.872812                  0.664794   \n",
              "2                     0.873742                  0.667617   \n",
              "3                     0.874762                  0.670510   \n",
              "4                     0.875862                  0.673467   \n",
              "...                        ...                       ...   \n",
              "4341                  0.894809                  0.794823   \n",
              "4342                  0.893675                  0.793834   \n",
              "4343                  0.892472                  0.792741   \n",
              "4344                  0.891198                  0.791543   \n",
              "4345                  0.889852                  0.790238   \n",
              "\n",
              "      synchrony_l_sho_to_l_elb  synchrony_l_elb_to_l_wri  \\\n",
              "0                     0.954243                  0.861182   \n",
              "1                     0.956122                  0.860955   \n",
              "2                     0.958027                  0.860894   \n",
              "3                     0.959952                  0.860992   \n",
              "4                     0.961890                  0.861244   \n",
              "...                        ...                       ...   \n",
              "4341                  0.973478                  0.970730   \n",
              "4342                  0.974920                  0.966056   \n",
              "4343                  0.976493                  0.960981   \n",
              "4344                  0.978203                  0.955495   \n",
              "4345                  0.980052                  0.949590   \n",
              "\n",
              "      synchrony_neck_to_r_hip  synchrony_r_hip_to_r_knee  \\\n",
              "0                    0.946395                   0.895180   \n",
              "1                    0.948301                   0.894683   \n",
              "2                    0.950260                   0.894117   \n",
              "3                    0.952266                   0.893484   \n",
              "4                    0.954310                   0.892789   \n",
              "...                       ...                        ...   \n",
              "4341                 0.933932                   0.884747   \n",
              "4342                 0.933662                   0.886374   \n",
              "4343                 0.933500                   0.888064   \n",
              "4344                 0.933452                   0.889817   \n",
              "4345                 0.933520                   0.891635   \n",
              "\n",
              "      synchrony_r_knee_to_r_ank  synchrony_neck_to_l_hip  \\\n",
              "0                      0.150769                 0.962095   \n",
              "1                      0.150166                 0.963311   \n",
              "2                      0.149572                 0.964538   \n",
              "3                      0.148984                 0.965773   \n",
              "4                      0.148405                 0.967012   \n",
              "...                         ...                      ...   \n",
              "4341                   0.131288                 0.931841   \n",
              "4342                   0.131288                 0.930295   \n",
              "4343                   0.131288                 0.928762   \n",
              "4344                   0.131288                 0.927242   \n",
              "4345                   0.131288                 0.925738   \n",
              "\n",
              "      synchrony_l_hip_to_l_knee  synchrony_l_knee_to_l_ank  \\\n",
              "0                      0.792371                   1.000000   \n",
              "1                      0.788575                   0.997554   \n",
              "2                      0.784687                   0.995065   \n",
              "3                      0.780735                   0.992531   \n",
              "4                      0.776747                   0.989954   \n",
              "...                         ...                        ...   \n",
              "4341                   0.969665                   0.682118   \n",
              "4342                   0.973623                   0.682118   \n",
              "4343                   0.977728                   0.682118   \n",
              "4344                   0.981981                   0.682118   \n",
              "4345                   0.986386                   0.682118   \n",
              "\n",
              "      synchrony_neck_to_nose  synchrony_nose_to_r_eye  \\\n",
              "0                   0.893801                 0.945616   \n",
              "1                   0.894661                 0.944675   \n",
              "2                   0.895747                 0.943693   \n",
              "3                   0.897040                 0.942675   \n",
              "4                   0.898524                 0.941626   \n",
              "...                      ...                      ...   \n",
              "4341                0.913673                 0.933549   \n",
              "4342                0.914140                 0.930959   \n",
              "4343                0.914680                 0.928143   \n",
              "4344                0.915295                 0.925096   \n",
              "4345                0.915985                 0.921811   \n",
              "\n",
              "      synchrony_r_eye_to_r_ear  synchrony_nose_to_l_eye  \\\n",
              "0                     0.898557                 0.908625   \n",
              "1                     0.899367                 0.909072   \n",
              "2                     0.900206                 0.909490   \n",
              "3                     0.901071                 0.909879   \n",
              "4                     0.901960                 0.910241   \n",
              "...                        ...                      ...   \n",
              "4341                  0.888526                 0.930092   \n",
              "4342                  0.888233                 0.928244   \n",
              "4343                  0.887849                 0.926256   \n",
              "4344                  0.887371                 0.924125   \n",
              "4345                  0.886795                 0.921846   \n",
              "\n",
              "      synchrony_l_eye_to_l_ear max_value  \n",
              "0                     0.874075     happy  \n",
              "1                     0.873844     happy  \n",
              "2                     0.873918     happy  \n",
              "3                     0.874275     happy  \n",
              "4                     0.874894     happy  \n",
              "...                        ...       ...  \n",
              "4341                  0.955308       sad  \n",
              "4342                  0.953653       sad  \n",
              "4343                  0.951880       sad  \n",
              "4344                  0.949984       sad  \n",
              "4345                  0.947962       sad  \n",
              "\n",
              "[4346 rows x 18 columns]"
            ],
            "text/html": [
              "\n",
              "  <div id=\"df-3c8f403a-d27d-4f9f-9128-e8360c283071\">\n",
              "    <div class=\"colab-df-container\">\n",
              "      <div>\n",
              "<style scoped>\n",
              "    .dataframe tbody tr th:only-of-type {\n",
              "        vertical-align: middle;\n",
              "    }\n",
              "\n",
              "    .dataframe tbody tr th {\n",
              "        vertical-align: top;\n",
              "    }\n",
              "\n",
              "    .dataframe thead th {\n",
              "        text-align: right;\n",
              "    }\n",
              "</style>\n",
              "<table border=\"1\" class=\"dataframe\">\n",
              "  <thead>\n",
              "    <tr style=\"text-align: right;\">\n",
              "      <th></th>\n",
              "      <th>synchrony_neck_to_r_sho</th>\n",
              "      <th>synchrony_neck_to_l_sho</th>\n",
              "      <th>synchrony_r_sho_to_r_elb</th>\n",
              "      <th>synchrony_r_elb_to_r_wri</th>\n",
              "      <th>synchrony_l_sho_to_l_elb</th>\n",
              "      <th>synchrony_l_elb_to_l_wri</th>\n",
              "      <th>synchrony_neck_to_r_hip</th>\n",
              "      <th>synchrony_r_hip_to_r_knee</th>\n",
              "      <th>synchrony_r_knee_to_r_ank</th>\n",
              "      <th>synchrony_neck_to_l_hip</th>\n",
              "      <th>synchrony_l_hip_to_l_knee</th>\n",
              "      <th>synchrony_l_knee_to_l_ank</th>\n",
              "      <th>synchrony_neck_to_nose</th>\n",
              "      <th>synchrony_nose_to_r_eye</th>\n",
              "      <th>synchrony_r_eye_to_r_ear</th>\n",
              "      <th>synchrony_nose_to_l_eye</th>\n",
              "      <th>synchrony_l_eye_to_l_ear</th>\n",
              "      <th>max_value</th>\n",
              "    </tr>\n",
              "  </thead>\n",
              "  <tbody>\n",
              "    <tr>\n",
              "      <th>0</th>\n",
              "      <td>0.877340</td>\n",
              "      <td>0.853057</td>\n",
              "      <td>0.871981</td>\n",
              "      <td>0.662046</td>\n",
              "      <td>0.954243</td>\n",
              "      <td>0.861182</td>\n",
              "      <td>0.946395</td>\n",
              "      <td>0.895180</td>\n",
              "      <td>0.150769</td>\n",
              "      <td>0.962095</td>\n",
              "      <td>0.792371</td>\n",
              "      <td>1.000000</td>\n",
              "      <td>0.893801</td>\n",
              "      <td>0.945616</td>\n",
              "      <td>0.898557</td>\n",
              "      <td>0.908625</td>\n",
              "      <td>0.874075</td>\n",
              "      <td>happy</td>\n",
              "    </tr>\n",
              "    <tr>\n",
              "      <th>1</th>\n",
              "      <td>0.877261</td>\n",
              "      <td>0.854115</td>\n",
              "      <td>0.872812</td>\n",
              "      <td>0.664794</td>\n",
              "      <td>0.956122</td>\n",
              "      <td>0.860955</td>\n",
              "      <td>0.948301</td>\n",
              "      <td>0.894683</td>\n",
              "      <td>0.150166</td>\n",
              "      <td>0.963311</td>\n",
              "      <td>0.788575</td>\n",
              "      <td>0.997554</td>\n",
              "      <td>0.894661</td>\n",
              "      <td>0.944675</td>\n",
              "      <td>0.899367</td>\n",
              "      <td>0.909072</td>\n",
              "      <td>0.873844</td>\n",
              "      <td>happy</td>\n",
              "    </tr>\n",
              "    <tr>\n",
              "      <th>2</th>\n",
              "      <td>0.877076</td>\n",
              "      <td>0.855197</td>\n",
              "      <td>0.873742</td>\n",
              "      <td>0.667617</td>\n",
              "      <td>0.958027</td>\n",
              "      <td>0.860894</td>\n",
              "      <td>0.950260</td>\n",
              "      <td>0.894117</td>\n",
              "      <td>0.149572</td>\n",
              "      <td>0.964538</td>\n",
              "      <td>0.784687</td>\n",
              "      <td>0.995065</td>\n",
              "      <td>0.895747</td>\n",
              "      <td>0.943693</td>\n",
              "      <td>0.900206</td>\n",
              "      <td>0.909490</td>\n",
              "      <td>0.873918</td>\n",
              "      <td>happy</td>\n",
              "    </tr>\n",
              "    <tr>\n",
              "      <th>3</th>\n",
              "      <td>0.876797</td>\n",
              "      <td>0.856302</td>\n",
              "      <td>0.874762</td>\n",
              "      <td>0.670510</td>\n",
              "      <td>0.959952</td>\n",
              "      <td>0.860992</td>\n",
              "      <td>0.952266</td>\n",
              "      <td>0.893484</td>\n",
              "      <td>0.148984</td>\n",
              "      <td>0.965773</td>\n",
              "      <td>0.780735</td>\n",
              "      <td>0.992531</td>\n",
              "      <td>0.897040</td>\n",
              "      <td>0.942675</td>\n",
              "      <td>0.901071</td>\n",
              "      <td>0.909879</td>\n",
              "      <td>0.874275</td>\n",
              "      <td>happy</td>\n",
              "    </tr>\n",
              "    <tr>\n",
              "      <th>4</th>\n",
              "      <td>0.876439</td>\n",
              "      <td>0.857428</td>\n",
              "      <td>0.875862</td>\n",
              "      <td>0.673467</td>\n",
              "      <td>0.961890</td>\n",
              "      <td>0.861244</td>\n",
              "      <td>0.954310</td>\n",
              "      <td>0.892789</td>\n",
              "      <td>0.148405</td>\n",
              "      <td>0.967012</td>\n",
              "      <td>0.776747</td>\n",
              "      <td>0.989954</td>\n",
              "      <td>0.898524</td>\n",
              "      <td>0.941626</td>\n",
              "      <td>0.901960</td>\n",
              "      <td>0.910241</td>\n",
              "      <td>0.874894</td>\n",
              "      <td>happy</td>\n",
              "    </tr>\n",
              "    <tr>\n",
              "      <th>...</th>\n",
              "      <td>...</td>\n",
              "      <td>...</td>\n",
              "      <td>...</td>\n",
              "      <td>...</td>\n",
              "      <td>...</td>\n",
              "      <td>...</td>\n",
              "      <td>...</td>\n",
              "      <td>...</td>\n",
              "      <td>...</td>\n",
              "      <td>...</td>\n",
              "      <td>...</td>\n",
              "      <td>...</td>\n",
              "      <td>...</td>\n",
              "      <td>...</td>\n",
              "      <td>...</td>\n",
              "      <td>...</td>\n",
              "      <td>...</td>\n",
              "      <td>...</td>\n",
              "    </tr>\n",
              "    <tr>\n",
              "      <th>4341</th>\n",
              "      <td>0.887965</td>\n",
              "      <td>0.919958</td>\n",
              "      <td>0.894809</td>\n",
              "      <td>0.794823</td>\n",
              "      <td>0.973478</td>\n",
              "      <td>0.970730</td>\n",
              "      <td>0.933932</td>\n",
              "      <td>0.884747</td>\n",
              "      <td>0.131288</td>\n",
              "      <td>0.931841</td>\n",
              "      <td>0.969665</td>\n",
              "      <td>0.682118</td>\n",
              "      <td>0.913673</td>\n",
              "      <td>0.933549</td>\n",
              "      <td>0.888526</td>\n",
              "      <td>0.930092</td>\n",
              "      <td>0.955308</td>\n",
              "      <td>sad</td>\n",
              "    </tr>\n",
              "    <tr>\n",
              "      <th>4342</th>\n",
              "      <td>0.887249</td>\n",
              "      <td>0.918692</td>\n",
              "      <td>0.893675</td>\n",
              "      <td>0.793834</td>\n",
              "      <td>0.974920</td>\n",
              "      <td>0.966056</td>\n",
              "      <td>0.933662</td>\n",
              "      <td>0.886374</td>\n",
              "      <td>0.131288</td>\n",
              "      <td>0.930295</td>\n",
              "      <td>0.973623</td>\n",
              "      <td>0.682118</td>\n",
              "      <td>0.914140</td>\n",
              "      <td>0.930959</td>\n",
              "      <td>0.888233</td>\n",
              "      <td>0.928244</td>\n",
              "      <td>0.953653</td>\n",
              "      <td>sad</td>\n",
              "    </tr>\n",
              "    <tr>\n",
              "      <th>4343</th>\n",
              "      <td>0.886463</td>\n",
              "      <td>0.917409</td>\n",
              "      <td>0.892472</td>\n",
              "      <td>0.792741</td>\n",
              "      <td>0.976493</td>\n",
              "      <td>0.960981</td>\n",
              "      <td>0.933500</td>\n",
              "      <td>0.888064</td>\n",
              "      <td>0.131288</td>\n",
              "      <td>0.928762</td>\n",
              "      <td>0.977728</td>\n",
              "      <td>0.682118</td>\n",
              "      <td>0.914680</td>\n",
              "      <td>0.928143</td>\n",
              "      <td>0.887849</td>\n",
              "      <td>0.926256</td>\n",
              "      <td>0.951880</td>\n",
              "      <td>sad</td>\n",
              "    </tr>\n",
              "    <tr>\n",
              "      <th>4344</th>\n",
              "      <td>0.885603</td>\n",
              "      <td>0.916109</td>\n",
              "      <td>0.891198</td>\n",
              "      <td>0.791543</td>\n",
              "      <td>0.978203</td>\n",
              "      <td>0.955495</td>\n",
              "      <td>0.933452</td>\n",
              "      <td>0.889817</td>\n",
              "      <td>0.131288</td>\n",
              "      <td>0.927242</td>\n",
              "      <td>0.981981</td>\n",
              "      <td>0.682118</td>\n",
              "      <td>0.915295</td>\n",
              "      <td>0.925096</td>\n",
              "      <td>0.887371</td>\n",
              "      <td>0.924125</td>\n",
              "      <td>0.949984</td>\n",
              "      <td>sad</td>\n",
              "    </tr>\n",
              "    <tr>\n",
              "      <th>4345</th>\n",
              "      <td>0.884668</td>\n",
              "      <td>0.914792</td>\n",
              "      <td>0.889852</td>\n",
              "      <td>0.790238</td>\n",
              "      <td>0.980052</td>\n",
              "      <td>0.949590</td>\n",
              "      <td>0.933520</td>\n",
              "      <td>0.891635</td>\n",
              "      <td>0.131288</td>\n",
              "      <td>0.925738</td>\n",
              "      <td>0.986386</td>\n",
              "      <td>0.682118</td>\n",
              "      <td>0.915985</td>\n",
              "      <td>0.921811</td>\n",
              "      <td>0.886795</td>\n",
              "      <td>0.921846</td>\n",
              "      <td>0.947962</td>\n",
              "      <td>sad</td>\n",
              "    </tr>\n",
              "  </tbody>\n",
              "</table>\n",
              "<p>4346 rows × 18 columns</p>\n",
              "</div>\n",
              "      <button class=\"colab-df-convert\" onclick=\"convertToInteractive('df-3c8f403a-d27d-4f9f-9128-e8360c283071')\"\n",
              "              title=\"Convert this dataframe to an interactive table.\"\n",
              "              style=\"display:none;\">\n",
              "        \n",
              "  <svg xmlns=\"http://www.w3.org/2000/svg\" height=\"24px\"viewBox=\"0 0 24 24\"\n",
              "       width=\"24px\">\n",
              "    <path d=\"M0 0h24v24H0V0z\" fill=\"none\"/>\n",
              "    <path d=\"M18.56 5.44l.94 2.06.94-2.06 2.06-.94-2.06-.94-.94-2.06-.94 2.06-2.06.94zm-11 1L8.5 8.5l.94-2.06 2.06-.94-2.06-.94L8.5 2.5l-.94 2.06-2.06.94zm10 10l.94 2.06.94-2.06 2.06-.94-2.06-.94-.94-2.06-.94 2.06-2.06.94z\"/><path d=\"M17.41 7.96l-1.37-1.37c-.4-.4-.92-.59-1.43-.59-.52 0-1.04.2-1.43.59L10.3 9.45l-7.72 7.72c-.78.78-.78 2.05 0 2.83L4 21.41c.39.39.9.59 1.41.59.51 0 1.02-.2 1.41-.59l7.78-7.78 2.81-2.81c.8-.78.8-2.07 0-2.86zM5.41 20L4 18.59l7.72-7.72 1.47 1.35L5.41 20z\"/>\n",
              "  </svg>\n",
              "      </button>\n",
              "      \n",
              "  <style>\n",
              "    .colab-df-container {\n",
              "      display:flex;\n",
              "      flex-wrap:wrap;\n",
              "      gap: 12px;\n",
              "    }\n",
              "\n",
              "    .colab-df-convert {\n",
              "      background-color: #E8F0FE;\n",
              "      border: none;\n",
              "      border-radius: 50%;\n",
              "      cursor: pointer;\n",
              "      display: none;\n",
              "      fill: #1967D2;\n",
              "      height: 32px;\n",
              "      padding: 0 0 0 0;\n",
              "      width: 32px;\n",
              "    }\n",
              "\n",
              "    .colab-df-convert:hover {\n",
              "      background-color: #E2EBFA;\n",
              "      box-shadow: 0px 1px 2px rgba(60, 64, 67, 0.3), 0px 1px 3px 1px rgba(60, 64, 67, 0.15);\n",
              "      fill: #174EA6;\n",
              "    }\n",
              "\n",
              "    [theme=dark] .colab-df-convert {\n",
              "      background-color: #3B4455;\n",
              "      fill: #D2E3FC;\n",
              "    }\n",
              "\n",
              "    [theme=dark] .colab-df-convert:hover {\n",
              "      background-color: #434B5C;\n",
              "      box-shadow: 0px 1px 3px 1px rgba(0, 0, 0, 0.15);\n",
              "      filter: drop-shadow(0px 1px 2px rgba(0, 0, 0, 0.3));\n",
              "      fill: #FFFFFF;\n",
              "    }\n",
              "  </style>\n",
              "\n",
              "      <script>\n",
              "        const buttonEl =\n",
              "          document.querySelector('#df-3c8f403a-d27d-4f9f-9128-e8360c283071 button.colab-df-convert');\n",
              "        buttonEl.style.display =\n",
              "          google.colab.kernel.accessAllowed ? 'block' : 'none';\n",
              "\n",
              "        async function convertToInteractive(key) {\n",
              "          const element = document.querySelector('#df-3c8f403a-d27d-4f9f-9128-e8360c283071');\n",
              "          const dataTable =\n",
              "            await google.colab.kernel.invokeFunction('convertToInteractive',\n",
              "                                                     [key], {});\n",
              "          if (!dataTable) return;\n",
              "\n",
              "          const docLinkHtml = 'Like what you see? Visit the ' +\n",
              "            '<a target=\"_blank\" href=https://colab.research.google.com/notebooks/data_table.ipynb>data table notebook</a>'\n",
              "            + ' to learn more about interactive tables.';\n",
              "          element.innerHTML = '';\n",
              "          dataTable['output_type'] = 'display_data';\n",
              "          await google.colab.output.renderOutput(dataTable, element);\n",
              "          const docLink = document.createElement('div');\n",
              "          docLink.innerHTML = docLinkHtml;\n",
              "          element.appendChild(docLink);\n",
              "        }\n",
              "      </script>\n",
              "    </div>\n",
              "  </div>\n",
              "  "
            ]
          },
          "metadata": {},
          "execution_count": 21
        }
      ]
    },
    {
      "cell_type": "code",
      "source": [
        "from sklearn.preprocessing import LabelEncoder\n",
        "from collections import Counter\n",
        "import matplotlib.pyplot as plt\n",
        "\n",
        "y = LabelEncoder().fit_transform(Y_final)\n",
        "counter = Counter(y)\n",
        "for k,v in counter.items():\n",
        "\tper = v / len(y) * 100\n",
        "\tprint('Class=%d, n=%d (%.3f%%)' % (k, v, per))\n",
        " \n",
        "plt.bar([\"happy\", \"sad\", \"angry\"], counter.values())\n",
        "plt.show()"
      ],
      "metadata": {
        "colab": {
          "base_uri": "https://localhost:8080/"
        },
        "id": "OcEfnDo9rCNe",
        "outputId": "aa0d168d-e6ca-45b2-a476-fdf07cc5808f"
      },
      "execution_count": null,
      "outputs": [
        {
          "output_type": "stream",
          "name": "stderr",
          "text": [
            "/usr/local/lib/python3.8/dist-packages/sklearn/preprocessing/_label.py:115: DataConversionWarning: A column-vector y was passed when a 1d array was expected. Please change the shape of y to (n_samples, ), for example using ravel().\n",
            "  y = column_or_1d(y, warn=True)\n"
          ]
        },
        {
          "output_type": "stream",
          "name": "stdout",
          "text": [
            "Class=1, n=2375 (54.648%)\n",
            "Class=2, n=1807 (41.578%)\n",
            "Class=0, n=164 (3.774%)\n"
          ]
        },
        {
          "output_type": "display_data",
          "data": {
            "text/plain": [
              "<Figure size 432x288 with 1 Axes>"
            ],
            "image/png": "[encoded data removed]"
          },
          "metadata": {
            "needs_background": "light"
          }
        }
      ]
    },
    {
      "cell_type": "code",
      "source": [
        "from imblearn.over_sampling import SMOTE\n",
        "\n",
        "y = LabelEncoder().fit_transform(Y_final)\n",
        "oversample = SMOTE()\n",
        "X, y = oversample.fit_resample(X_df, y)\n",
        "counter = Counter(y)\n",
        "for k,v in counter.items():\n",
        "\tper = v / len(y) * 100\n",
        "\tprint('Class=%d, n=%d (%.3f%%)' % (k, v, per))\n",
        "\n",
        "plt.bar([\"happy\", \"sad\", \"angry\"], counter.values())\n",
        "plt.show()"
      ],
      "metadata": {
        "colab": {
          "base_uri": "https://localhost:8080/"
        },
        "id": "70ESRfFzcOmS",
        "outputId": "84458b74-2d9a-497d-c42a-c9afa8cfa77c"
      },
      "execution_count": null,
      "outputs": [
        {
          "output_type": "stream",
          "name": "stderr",
          "text": [
            "/usr/local/lib/python3.8/dist-packages/sklearn/preprocessing/_label.py:115: DataConversionWarning: A column-vector y was passed when a 1d array was expected. Please change the shape of y to (n_samples, ), for example using ravel().\n",
            "  y = column_or_1d(y, warn=True)\n"
          ]
        },
        {
          "output_type": "stream",
          "name": "stdout",
          "text": [
            "Class=1, n=2375 (33.333%)\n",
            "Class=2, n=2375 (33.333%)\n",
            "Class=0, n=2375 (33.333%)\n"
          ]
        },
        {
          "output_type": "display_data",
          "data": {
            "text/plain": [
              "<Figure size 432x288 with 1 Axes>"
            ],
            "image/png": "[encoded data removed]"
          },
          "metadata": {
            "needs_background": "light"
          }
        }
      ]
    },
    {
      "cell_type": "code",
      "source": [
        "X_np = X_df.to_numpy()"
      ],
      "metadata": {
        "id": "k05Va-UHrG-K"
      },
      "execution_count": null,
      "outputs": []
    },
    {
      "cell_type": "code",
      "source": [
        "from numpy import asarray\n",
        "from sklearn.preprocessing import OrdinalEncoder\n",
        "\n",
        "data = asarray([['happy'], ['sad'], ['angry']])\n",
        "print(data)\n",
        "encoder = OrdinalEncoder()\n",
        "Y_np = encoder.fit_transform(Y_final)\n",
        "print(Y_np)"
      ],
      "metadata": {
        "colab": {
          "base_uri": "https://localhost:8080/"
        },
        "id": "-K-t7EdXrbf9",
        "outputId": "57e5c541-3835-44a8-8309-be3de4183168"
      },
      "execution_count": null,
      "outputs": [
        {
          "output_type": "stream",
          "name": "stdout",
          "text": [
            "[['happy']\n",
            " ['sad']\n",
            " ['angry']]\n",
            "[[1.]\n",
            " [1.]\n",
            " [1.]\n",
            " ...\n",
            " [2.]\n",
            " [2.]\n",
            " [2.]]\n"
          ]
        }
      ]
    },
    {
      "cell_type": "code",
      "source": [
        "from sklearn.model_selection import StratifiedKFold\n",
        "def CrossValidation(dataX,dataY): #split the dataset into train and test using k-5 fold cross validation\n",
        "  skf = StratifiedKFold(n_splits=3, random_state = None, shuffle=True) \n",
        "\n",
        "  for train_index, test_index in skf.split(dataX , dataY):\n",
        "        X_train, X_test = dataX[train_index], dataX[test_index] \n",
        "        Y_train, Y_test = dataY[train_index], dataY[test_index]\n",
        "        return X_train, X_test, Y_train, Y_test\n",
        "\n",
        "Xtrain, Xtest, Ytrain, Ytest = CrossValidation(X_np, Y_np)"
      ],
      "metadata": {
        "id": "wosslXvI3y_m"
      },
      "execution_count": null,
      "outputs": []
    },
    {
      "cell_type": "code",
      "source": [
        "Xtrain.shape "
      ],
      "metadata": {
        "colab": {
          "base_uri": "https://localhost:8080/"
        },
        "id": "4M-9WfYZeN5X",
        "outputId": "7c61bb78-174e-434a-e2ba-9336f43d956a"
      },
      "execution_count": null,
      "outputs": [
        {
          "output_type": "execute_result",
          "data": {
            "text/plain": [
              "(2897, 17)"
            ]
          },
          "metadata": {},
          "execution_count": 27
        }
      ]
    },
    {
      "cell_type": "code",
      "source": [
        "Xtest.shape"
      ],
      "metadata": {
        "colab": {
          "base_uri": "https://localhost:8080/"
        },
        "id": "WTrcPhsyduP7",
        "outputId": "b2108af1-f44b-4a1b-bb7c-dba4bfd80aae"
      },
      "execution_count": null,
      "outputs": [
        {
          "output_type": "execute_result",
          "data": {
            "text/plain": [
              "(1449, 17)"
            ]
          },
          "metadata": {},
          "execution_count": 28
        }
      ]
    },
    {
      "cell_type": "code",
      "source": [
        "Ytrain.shape"
      ],
      "metadata": {
        "colab": {
          "base_uri": "https://localhost:8080/"
        },
        "id": "r0rQOEQbey21",
        "outputId": "0f0f17d8-0deb-4ef4-853c-d1c45d0041df"
      },
      "execution_count": null,
      "outputs": [
        {
          "output_type": "execute_result",
          "data": {
            "text/plain": [
              "(2897, 1)"
            ]
          },
          "metadata": {},
          "execution_count": 29
        }
      ]
    },
    {
      "cell_type": "code",
      "source": [
        "Ytest.shape"
      ],
      "metadata": {
        "colab": {
          "base_uri": "https://localhost:8080/"
        },
        "id": "wFCJBoCIe03-",
        "outputId": "3490a006-1abf-40ee-b7aa-2030920538d4"
      },
      "execution_count": null,
      "outputs": [
        {
          "output_type": "execute_result",
          "data": {
            "text/plain": [
              "(1449, 1)"
            ]
          },
          "metadata": {},
          "execution_count": 30
        }
      ]
    },
    {
      "cell_type": "markdown",
      "source": [
        "### Neural Network \n"
      ],
      "metadata": {
        "id": "Y48ntiwoacn_"
      }
    },
    {
      "cell_type": "code",
      "source": [
        "from numpy import loadtxt\n",
        "from tensorflow.keras.models import Sequential\n",
        "from tensorflow.keras.layers import Dense"
      ],
      "metadata": {
        "id": "ksqIr11xQOUe"
      },
      "execution_count": null,
      "outputs": []
    },
    {
      "cell_type": "code",
      "source": [
        "from keras.layers import Input, Convolution1D, MaxPooling1D, Flatten, Dense, concatenate\n",
        "model = Sequential()\n",
        "model.add(Convolution1D(filters=32, kernel_size=3, activation='relu', input_shape=(17,1)))\n",
        "model.add(Convolution1D(filters=64, kernel_size=3, activation='relu'))\n",
        "model.add(Flatten())\n",
        "model.add(Dense(64, activation='relu'))\n",
        "model.add(Dense(32, activation='relu'))\n",
        "model.add(Dense(1, activation='sigmoid'))"
      ],
      "metadata": {
        "id": "XOkHhJFHbjUq"
      },
      "execution_count": null,
      "outputs": []
    },
    {
      "cell_type": "code",
      "source": [
        "model.compile(optimizer='adam',loss='binary_crossentropy', metrics=['accuracy'])"
      ],
      "metadata": {
        "id": "NrX5J8Q_gVKC"
      },
      "execution_count": null,
      "outputs": []
    },
    {
      "cell_type": "code",
      "source": [
        "history = model.fit(Xtrain, Ytrain, batch_size=100, epochs=20)"
      ],
      "metadata": {
        "colab": {
          "base_uri": "https://localhost:8080/"
        },
        "id": "v0YtYMqKgZJx",
        "outputId": "42b766b5-9dde-4402-f28c-d46c14bf4588"
      },
      "execution_count": null,
      "outputs": [
        {
          "output_type": "stream",
          "name": "stdout",
          "text": [
            "Epoch 1/20\n",
            "29/29 [==============================] - 11s 7ms/step - loss: -2.0046 - accuracy: 0.5299\n",
            "Epoch 2/20\n",
            "29/29 [==============================] - 0s 4ms/step - loss: -68.3158 - accuracy: 0.5464\n",
            "Epoch 3/20\n",
            "29/29 [==============================] - 0s 4ms/step - loss: -806.0183 - accuracy: 0.5464\n",
            "Epoch 4/20\n",
            "29/29 [==============================] - 0s 4ms/step - loss: -5055.1948 - accuracy: 0.5464\n",
            "Epoch 5/20\n",
            "29/29 [==============================] - 0s 4ms/step - loss: -22472.3320 - accuracy: 0.5464\n",
            "Epoch 6/20\n",
            "29/29 [==============================] - 0s 5ms/step - loss: -71686.9844 - accuracy: 0.5464\n",
            "Epoch 7/20\n",
            "29/29 [==============================] - 0s 4ms/step - loss: -192442.1719 - accuracy: 0.5464\n",
            "Epoch 8/20\n",
            "29/29 [==============================] - 0s 4ms/step - loss: -443613.0625 - accuracy: 0.5464\n",
            "Epoch 9/20\n",
            "29/29 [==============================] - 0s 4ms/step - loss: -915787.3750 - accuracy: 0.5464\n",
            "Epoch 10/20\n",
            "29/29 [==============================] - 0s 4ms/step - loss: -1741450.5000 - accuracy: 0.5464\n",
            "Epoch 11/20\n",
            "29/29 [==============================] - 0s 4ms/step - loss: -3093132.7500 - accuracy: 0.5464\n",
            "Epoch 12/20\n",
            "29/29 [==============================] - 0s 4ms/step - loss: -5174564.5000 - accuracy: 0.5464\n",
            "Epoch 13/20\n",
            "29/29 [==============================] - 0s 5ms/step - loss: -8198916.5000 - accuracy: 0.5464\n",
            "Epoch 14/20\n",
            "29/29 [==============================] - 0s 4ms/step - loss: -12593752.0000 - accuracy: 0.5464\n",
            "Epoch 15/20\n",
            "29/29 [==============================] - 0s 4ms/step - loss: -18713056.0000 - accuracy: 0.5464\n",
            "Epoch 16/20\n",
            "29/29 [==============================] - 0s 4ms/step - loss: -26847690.0000 - accuracy: 0.5464\n",
            "Epoch 17/20\n",
            "29/29 [==============================] - 0s 4ms/step - loss: -37672284.0000 - accuracy: 0.5464\n",
            "Epoch 18/20\n",
            "29/29 [==============================] - 0s 4ms/step - loss: -51519520.0000 - accuracy: 0.5464\n",
            "Epoch 19/20\n",
            "29/29 [==============================] - 0s 4ms/step - loss: -69301928.0000 - accuracy: 0.5464\n",
            "Epoch 20/20\n",
            "29/29 [==============================] - 0s 4ms/step - loss: -91449552.0000 - accuracy: 0.5464\n"
          ]
        }
      ]
    },
    {
      "cell_type": "code",
      "source": [
        "accuracy = model.evaluate(Xtest, Ytest, batch_size=100)\n",
        "print(accuracy)"
      ],
      "metadata": {
        "colab": {
          "base_uri": "https://localhost:8080/"
        },
        "id": "qDYKNgHvlyFR",
        "outputId": "20b7f114-6205-4a31-ae25-a20ea27fb93b"
      },
      "execution_count": null,
      "outputs": [
        {
          "output_type": "stream",
          "name": "stdout",
          "text": [
            "15/15 [==============================] - 0s 5ms/step - loss: -104011040.0000 - accuracy: 0.5466\n",
            "[-104011040.0, 0.5465838313102722]\n"
          ]
        }
      ]
    },
    {
      "cell_type": "code",
      "source": [
        "from sklearn.metrics import accuracy_score\n",
        "\n",
        "yhat = model.predict(Xtest)\n",
        "score = accuracy_score(Ytest, yhat)\n",
        "print('Accuracy: %.5f' % score)"
      ],
      "metadata": {
        "colab": {
          "base_uri": "https://localhost:8080/"
        },
        "id": "yBLJxk_vnboX",
        "outputId": "ab40251e-7e1a-4d91-9f6d-f7421be589cd"
      },
      "execution_count": null,
      "outputs": [
        {
          "output_type": "stream",
          "name": "stdout",
          "text": [
            "46/46 [==============================] - 0s 2ms/step\n",
            "Accuracy: 0.54658\n"
          ]
        }
      ]
    },
    {
      "cell_type": "code",
      "source": [
        "from sklearn.metrics import confusion_matrix\n",
        "cm = confusion_matrix(y_true=Ytest, y_pred=yhat)"
      ],
      "metadata": {
        "id": "i8bWdp9en1dn"
      },
      "execution_count": null,
      "outputs": []
    },
    {
      "cell_type": "code",
      "source": [
        "import seaborn as sns\n",
        "\n",
        "ax= plt.subplot()\n",
        "sns.heatmap(cm, annot=True, ax = ax, fmt = 'g')\n",
        "ax.set_xlabel('Predicted', fontsize=15)\n",
        "ax.xaxis.set_label_position('top') \n",
        "ax.xaxis.set_ticklabels(['angry', 'sad', 'happy'], fontsize = 10)\n",
        "ax.xaxis.tick_top()\n",
        "\n",
        "ax.set_ylabel('True', fontsize=15)\n",
        "ax.yaxis.set_ticklabels(['angry', 'sad', 'happy'], fontsize = 10)\n",
        "plt.show()"
      ],
      "metadata": {
        "colab": {
          "base_uri": "https://localhost:8080/",
          "height": 287
        },
        "id": "9ynTxMSroOS2",
        "outputId": "c8e80888-bfc7-4512-b6d6-1060278e5513"
      },
      "execution_count": null,
      "outputs": [
        {
          "output_type": "display_data",
          "data": {
            "text/plain": [
              "<Figure size 432x288 with 2 Axes>"
            ],
            "image/png": "[encoded data removed]"
          },
          "metadata": {
            "needs_background": "light"
          }
        }
      ]
    },
    {
      "cell_type": "markdown",
      "source": [
        "### Machine Learning"
      ],
      "metadata": {
        "id": "iidVl_yMbSvY"
      }
    }
  ]
}